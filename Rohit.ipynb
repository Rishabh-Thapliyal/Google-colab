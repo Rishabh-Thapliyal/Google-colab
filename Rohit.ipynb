{
  "nbformat": 4,
  "nbformat_minor": 0,
  "metadata": {
    "colab": {
      "name": "Rohit.ipynb",
      "provenance": []
    },
    "kernelspec": {
      "name": "python3",
      "display_name": "Python 3"
    },
    "language_info": {
      "name": "python"
    }
  },
  "cells": [
    {
      "cell_type": "code",
      "execution_count": 1,
      "metadata": {
        "id": "f0Azp3CjrsME"
      },
      "outputs": [],
      "source": [
        "import pandas as pd"
      ]
    },
    {
      "cell_type": "code",
      "source": [
        "data = pd.read_csv('/content/Gross_Pnls.txt', sep=',')"
      ],
      "metadata": {
        "id": "TrO_6xUTrxYJ"
      },
      "execution_count": 3,
      "outputs": []
    },
    {
      "cell_type": "code",
      "source": [
        "# input parameters\n",
        "stop_loss_limit = -6000\n",
        "date_of_impl = '29-Jun-18'"
      ],
      "metadata": {
        "id": "6eE0UIzOsYsc"
      },
      "execution_count": 30,
      "outputs": []
    },
    {
      "cell_type": "code",
      "source": [
        "if len(data[data['Date'] == date_of_impl]) != 0:\n",
        "  data[data['Date'] == date_of_impl]\n",
        "else:\n",
        "  print('Sorry, market was closed on this day!')"
      ],
      "metadata": {
        "id": "eYsJclYgsfik"
      },
      "execution_count": 32,
      "outputs": []
    },
    {
      "cell_type": "code",
      "source": [
        "data.Date"
      ],
      "metadata": {
        "colab": {
          "base_uri": "https://localhost:8080/"
        },
        "id": "HsG8u85NtUuY",
        "outputId": "a03121a3-9ea8-4924-ea63-a18d3d2d2c69"
      },
      "execution_count": 33,
      "outputs": [
        {
          "output_type": "execute_result",
          "data": {
            "text/plain": [
              "0     26-Jul-18\n",
              "1     26-Jul-18\n",
              "2     26-Jul-18\n",
              "3     26-Jul-18\n",
              "4     26-Jul-18\n",
              "        ...    \n",
              "95    29-Jun-18\n",
              "96    29-Jun-18\n",
              "97    29-Jun-18\n",
              "98    29-Jun-18\n",
              "99    29-Jun-18\n",
              "Name: Date, Length: 100, dtype: object"
            ]
          },
          "metadata": {},
          "execution_count": 33
        }
      ]
    },
    {
      "cell_type": "code",
      "source": [
        "rev_data = data.iloc[::-1].reset_index()"
      ],
      "metadata": {
        "id": "EMhkF8K3uH9E"
      },
      "execution_count": 34,
      "outputs": []
    },
    {
      "cell_type": "code",
      "source": [
        "k = rev_data[rev_data['Date'] == date_of_impl].index"
      ],
      "metadata": {
        "id": "K9GYVIXZ3cCs"
      },
      "execution_count": 35,
      "outputs": []
    },
    {
      "cell_type": "code",
      "source": [
        "k"
      ],
      "metadata": {
        "colab": {
          "base_uri": "https://localhost:8080/"
        },
        "id": "QFOyb76S9Zpz",
        "outputId": "b78a25ba-1ac4-4f2c-9d95-5f19f23c58b2"
      },
      "execution_count": 36,
      "outputs": [
        {
          "output_type": "execute_result",
          "data": {
            "text/plain": [
              "Int64Index([0, 1, 2, 3, 4], dtype='int64')"
            ]
          },
          "metadata": {},
          "execution_count": 36
        }
      ]
    },
    {
      "cell_type": "code",
      "source": [
        "idx_stock1 = k[0]+5\n",
        "idx_stock2 = k[1]+5\n",
        "idx_stock3 = k[2]+5\n",
        "idx_stock4 = k[3]+5\n",
        "idx_stock5 = k[4]+5\n",
        "\n",
        "stock1_total = 0\n",
        "\n",
        "for x in range(idx_stock1,100,5):\n",
        "  if rev_data.iloc[x]['PnL'] <= stop_loss_limit:\n",
        "    stock1_total = stock1_total + rev_data.iloc[x]['PnL']\n",
        "    break \n",
        "\n",
        "  else:\n",
        "    stock1_total = stock1_total + rev_data.iloc[x]['PnL']\n"
      ],
      "metadata": {
        "id": "6jghaVzm-duh"
      },
      "execution_count": 37,
      "outputs": []
    },
    {
      "cell_type": "code",
      "source": [
        "stock1_total"
      ],
      "metadata": {
        "colab": {
          "base_uri": "https://localhost:8080/"
        },
        "id": "ozyFqVr7BL-V",
        "outputId": "93ed0791-e118-45b4-869b-fdcb5d9f03ee"
      },
      "execution_count": 38,
      "outputs": [
        {
          "output_type": "execute_result",
          "data": {
            "text/plain": [
              "15984"
            ]
          },
          "metadata": {},
          "execution_count": 38
        }
      ]
    },
    {
      "cell_type": "code",
      "source": [
        "stock2_total = 0\n",
        "for x in range(idx_stock2,100,5):\n",
        "  if rev_data.iloc[x]['PnL'] <= stop_loss_limit:\n",
        "    stock2_total = stock2_total + rev_data.iloc[x]['PnL']\n",
        "    break \n",
        "    \n",
        "  else:\n",
        "    stock2_total = stock2_total + rev_data.iloc[x]['PnL']\n",
        "\n",
        "stock2_total"
      ],
      "metadata": {
        "colab": {
          "base_uri": "https://localhost:8080/"
        },
        "id": "NfPIe_DkB_MZ",
        "outputId": "69ebd4d7-7f19-4a8d-e37f-958f23c1b78f"
      },
      "execution_count": 41,
      "outputs": [
        {
          "output_type": "execute_result",
          "data": {
            "text/plain": [
              "131458"
            ]
          },
          "metadata": {},
          "execution_count": 41
        }
      ]
    },
    {
      "cell_type": "code",
      "source": [
        "stock3_total = 0\n",
        "\n",
        "for x in range(idx_stock3,100,5):\n",
        "  if rev_data.iloc[x]['PnL'] <= stop_loss_limit:\n",
        "    stock3_total = stock3_total + rev_data.iloc[x]['PnL']\n",
        "    break \n",
        "    \n",
        "  else:\n",
        "    stock3_total = stock3_total + rev_data.iloc[x]['PnL']\n",
        "\n",
        "stock3_total"
      ],
      "metadata": {
        "colab": {
          "base_uri": "https://localhost:8080/"
        },
        "id": "wUTnXEW7C5Jp",
        "outputId": "15bac52a-0ee8-412e-86b3-b4d299f62594"
      },
      "execution_count": 42,
      "outputs": [
        {
          "output_type": "execute_result",
          "data": {
            "text/plain": [
              "214401"
            ]
          },
          "metadata": {},
          "execution_count": 42
        }
      ]
    },
    {
      "cell_type": "code",
      "source": [
        "stock4_total = 0\n",
        "\n",
        "for x in range(idx_stock4,100,5):\n",
        "  if rev_data.iloc[x]['PnL'] <= stop_loss_limit:\n",
        "    stock4_total = stock4_total + rev_data.iloc[x]['PnL']\n",
        "    break \n",
        "    \n",
        "  else:\n",
        "    stock4_total = stock4_total + rev_data.iloc[x]['PnL']\n",
        "\n",
        "stock4_total"
      ],
      "metadata": {
        "colab": {
          "base_uri": "https://localhost:8080/"
        },
        "id": "Ag2mRJzZDK2t",
        "outputId": "ca6739ef-8d57-468d-b513-8c4e303919e3"
      },
      "execution_count": 43,
      "outputs": [
        {
          "output_type": "execute_result",
          "data": {
            "text/plain": [
              "157146"
            ]
          },
          "metadata": {},
          "execution_count": 43
        }
      ]
    },
    {
      "cell_type": "code",
      "source": [
        "stock5_total = 0\n",
        "for x in range(idx_stock5,100,5):\n",
        "  if rev_data.iloc[x]['PnL'] <= stop_loss_limit:\n",
        "    stock5_total = stock5_total + rev_data.iloc[x]['PnL']\n",
        "    break \n",
        "  \n",
        "  else:\n",
        "    stock5_total = stock5_total + rev_data.iloc[x]['PnL']\n",
        "\n",
        "stock5_total "
      ],
      "metadata": {
        "colab": {
          "base_uri": "https://localhost:8080/"
        },
        "id": "ZLgYlcBhDNRu",
        "outputId": "228a2807-3bac-4972-e2de-c452d3abd90b"
      },
      "execution_count": 44,
      "outputs": [
        {
          "output_type": "execute_result",
          "data": {
            "text/plain": [
              "19225"
            ]
          },
          "metadata": {},
          "execution_count": 44
        }
      ]
    },
    {
      "cell_type": "code",
      "source": [
        "final_pnl_with_stop_loss = 0\n",
        "\n",
        "final_without_sl = 0\n",
        "\n",
        "for x in range(0,100):\n",
        "  final_without_sl = final_without_sl + rev_data.iloc[x]['PnL']\n",
        "  if x < k[0]+5:\n",
        "    final_pnl_with_stop_loss = final_pnl_with_stop_loss + rev_data.iloc[x]['PnL']\n",
        "\n",
        "\n",
        "\n",
        "final_pnl_with_stop_loss = final_pnl_with_stop_loss + stock1_total + stock2_total + stock3_total + stock4_total + stock5_total\n"
      ],
      "metadata": {
        "id": "yVflXdtxDOgz"
      },
      "execution_count": 45,
      "outputs": []
    },
    {
      "cell_type": "code",
      "source": [
        "print('Final PnL with Stop loss= ', final_pnl_with_stop_loss)\n",
        "print('PnL without Stop loss - PnL with Stop loss = ', final_without_sl-final_pnl_with_stop_loss)"
      ],
      "metadata": {
        "colab": {
          "base_uri": "https://localhost:8080/"
        },
        "id": "UyxWoxUYEUZp",
        "outputId": "3a9c6937-4f16-453e-8d55-aa996c8d7d6a"
      },
      "execution_count": 46,
      "outputs": [
        {
          "output_type": "stream",
          "name": "stdout",
          "text": [
            "Final PnL with Stop loss=  559831\n",
            "PnL without Stop loss - PnL with Stop loss =  275713\n"
          ]
        }
      ]
    },
    {
      "cell_type": "code",
      "source": [
        "final_without_sl"
      ],
      "metadata": {
        "colab": {
          "base_uri": "https://localhost:8080/"
        },
        "id": "EFsoVmtnFZGI",
        "outputId": "0c5e466a-7ff4-4e57-bbcd-76d88663e438"
      },
      "execution_count": 47,
      "outputs": [
        {
          "output_type": "execute_result",
          "data": {
            "text/plain": [
              "835544"
            ]
          },
          "metadata": {},
          "execution_count": 47
        }
      ]
    },
    {
      "cell_type": "code",
      "source": [
        ""
      ],
      "metadata": {
        "id": "pEtbKYS4FiED"
      },
      "execution_count": null,
      "outputs": []
    }
  ]
}