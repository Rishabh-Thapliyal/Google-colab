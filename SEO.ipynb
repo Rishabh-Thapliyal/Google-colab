{
  "cells": [
    {
      "cell_type": "markdown",
      "metadata": {
        "id": "view-in-github",
        "colab_type": "text"
      },
      "source": [
        "<a href=\"https://colab.research.google.com/github/Rishabh-Thapliyal/Google-colab/blob/main/SEO.ipynb\" target=\"_parent\"><img src=\"https://colab.research.google.com/assets/colab-badge.svg\" alt=\"Open In Colab\"/></a>"
      ]
    },
    {
      "cell_type": "markdown",
      "metadata": {
        "id": "XfnwsnEouprQ"
      },
      "source": [
        "**Table of contents**\n",
        "\n",
        "\n",
        "\n",
        "1.   Reading the data\n",
        "2.   Initial EDA\n",
        "3.   Data preprocessing\n",
        "      1. remove stopwords\n",
        "      2. remove numbers\n",
        "      3. lemmatize\n",
        "      4. remove 2-3 char words\n",
        "      5. remove noise words\n",
        "4.   Pipeline\n",
        "      1. vectorizer - word2vec, countvect, TFIDF\n",
        "      2. classifier - RF, LR, SVM, KNN, etc\n",
        "5.   Ensemble methods\n",
        "      1. Hard voting\n",
        "      2. Soft voting\n",
        "\n",
        "6.   Misc models\n",
        "      1. FastText\n",
        "      2. Deep learning models\n",
        "      3. Bert, etc\n",
        "\n"
      ]
    },
    {
      "cell_type": "code",
      "execution_count": null,
      "metadata": {
        "id": "Dk822UhtXmRt"
      },
      "outputs": [],
      "source": [
        "import pandas as pd\n",
        "import numpy as np"
      ]
    },
    {
      "cell_type": "code",
      "execution_count": null,
      "metadata": {
        "colab": {
          "base_uri": "https://localhost:8080/"
        },
        "id": "HYXJ4WBV7CT4",
        "outputId": "bc122517-3bfd-4cce-ad62-2aa8b5da2388"
      },
      "outputs": [
        {
          "name": "stdout",
          "output_type": "stream",
          "text": [
            "Collecting faker\n",
            "  Downloading Faker-19.3.0-py3-none-any.whl (1.7 MB)\n",
            "\u001b[2K     \u001b[90m━━━━━━━━━━━━━━━━━━━━━━━━━━━━━━━━━━━━━━━━\u001b[0m \u001b[32m1.7/1.7 MB\u001b[0m \u001b[31m11.5 MB/s\u001b[0m eta \u001b[36m0:00:00\u001b[0m\n",
            "\u001b[?25hRequirement already satisfied: python-dateutil>=2.4 in /usr/local/lib/python3.10/dist-packages (from faker) (2.8.2)\n",
            "Requirement already satisfied: six>=1.5 in /usr/local/lib/python3.10/dist-packages (from python-dateutil>=2.4->faker) (1.16.0)\n",
            "Installing collected packages: faker\n",
            "Successfully installed faker-19.3.0\n"
          ]
        }
      ],
      "source": [
        "!pip install faker"
      ]
    },
    {
      "cell_type": "code",
      "execution_count": null,
      "metadata": {
        "id": "5VK_MxzmXwS4"
      },
      "outputs": [],
      "source": [
        "from faker import Faker\n",
        "\n",
        "fake = Faker()\n",
        "\n",
        "categories = ['Electronics', 'Clothing', 'Baby', 'Health', 'Home', 'Personal Care', 'Food', 'Pets']\n",
        "electronics_subcategories = ['Peripherals', 'Audio Equipment', 'Wearables', 'Smart Home']\n",
        "clothing_subcategories = ['Tops', 'Bottoms', 'Accessories']\n",
        "baby_subcategories = ['Car Seats', 'Strollers', 'Nursery Furniture']\n",
        "health_subcategories = ['Vitamins and Supplements', 'Sports Supplements', 'Personal Care']\n",
        "home_subcategories = ['Bedding', 'Furniture', 'Kitchen Appliances']\n",
        "personal_care_subcategories = ['Shaving', 'Oral Care', 'Hair Care']\n",
        "food_subcategories = ['Beverages', 'Snacks', 'Canned Goods']\n",
        "pets_subcategories = ['Food and Treats', 'Toys', 'Grooming']\n",
        "\n",
        "data = {'Item Description':[], 'Category':[], 'Sub-Category':[]}\n",
        "\n",
        "for i in range(100):\n",
        "    category = fake.random_element(categories)\n",
        "    if category == 'Electronics':\n",
        "        subcategory = fake.random_element(electronics_subcategories)\n",
        "    elif category == 'Clothing':\n",
        "        subcategory = fake.random_element(clothing_subcategories)\n",
        "    elif category == 'Baby':\n",
        "        subcategory = fake.random_element(baby_subcategories)\n",
        "    elif category == 'Health':\n",
        "        subcategory = fake.random_element(health_subcategories)\n",
        "    elif category == 'Home':\n",
        "        subcategory = fake.random_element(home_subcategories)\n",
        "    elif category == 'Personal Care':\n",
        "        subcategory = fake.random_element(personal_care_subcategories)\n",
        "    elif category == 'Food':\n",
        "        subcategory = fake.random_element(food_subcategories)\n",
        "    else:\n",
        "        subcategory = fake.random_element(pets_subcategories)\n",
        "    data['Item Description'].append(fake.text(max_nb_chars=50))\n",
        "    data['Category'].append(category)\n",
        "    data['Sub-Category'].append(subcategory)\n",
        "\n",
        "df = pd.DataFrame(data)\n"
      ]
    },
    {
      "cell_type": "code",
      "execution_count": null,
      "metadata": {
        "colab": {
          "base_uri": "https://localhost:8080/",
          "height": 206
        },
        "id": "GuwfEDvH7JwO",
        "outputId": "6754f3e0-7826-407f-93f5-e10bd2cdd036"
      },
      "outputs": [
        {
          "data": {
            "text/html": [
              "\n",
              "\n",
              "  <div id=\"df-4cfc417f-0a73-4812-9ae8-180f663666f3\">\n",
              "    <div class=\"colab-df-container\">\n",
              "      <div>\n",
              "<style scoped>\n",
              "    .dataframe tbody tr th:only-of-type {\n",
              "        vertical-align: middle;\n",
              "    }\n",
              "\n",
              "    .dataframe tbody tr th {\n",
              "        vertical-align: top;\n",
              "    }\n",
              "\n",
              "    .dataframe thead th {\n",
              "        text-align: right;\n",
              "    }\n",
              "</style>\n",
              "<table border=\"1\" class=\"dataframe\">\n",
              "  <thead>\n",
              "    <tr style=\"text-align: right;\">\n",
              "      <th></th>\n",
              "      <th>Item Description</th>\n",
              "      <th>Category</th>\n",
              "      <th>Sub-Category</th>\n",
              "    </tr>\n",
              "  </thead>\n",
              "  <tbody>\n",
              "    <tr>\n",
              "      <th>0</th>\n",
              "      <td>Above how specific garden clear attention.</td>\n",
              "      <td>Home</td>\n",
              "      <td>Kitchen Appliances</td>\n",
              "    </tr>\n",
              "    <tr>\n",
              "      <th>1</th>\n",
              "      <td>Near six test order.</td>\n",
              "      <td>Food</td>\n",
              "      <td>Canned Goods</td>\n",
              "    </tr>\n",
              "    <tr>\n",
              "      <th>2</th>\n",
              "      <td>Maintain wide article he training product hard.</td>\n",
              "      <td>Home</td>\n",
              "      <td>Kitchen Appliances</td>\n",
              "    </tr>\n",
              "    <tr>\n",
              "      <th>3</th>\n",
              "      <td>Energy none those these military report food.</td>\n",
              "      <td>Electronics</td>\n",
              "      <td>Audio Equipment</td>\n",
              "    </tr>\n",
              "    <tr>\n",
              "      <th>4</th>\n",
              "      <td>Run plan amount room finish hear easy.</td>\n",
              "      <td>Food</td>\n",
              "      <td>Canned Goods</td>\n",
              "    </tr>\n",
              "  </tbody>\n",
              "</table>\n",
              "</div>\n",
              "      <button class=\"colab-df-convert\" onclick=\"convertToInteractive('df-4cfc417f-0a73-4812-9ae8-180f663666f3')\"\n",
              "              title=\"Convert this dataframe to an interactive table.\"\n",
              "              style=\"display:none;\">\n",
              "\n",
              "  <svg xmlns=\"http://www.w3.org/2000/svg\" height=\"24px\"viewBox=\"0 0 24 24\"\n",
              "       width=\"24px\">\n",
              "    <path d=\"M0 0h24v24H0V0z\" fill=\"none\"/>\n",
              "    <path d=\"M18.56 5.44l.94 2.06.94-2.06 2.06-.94-2.06-.94-.94-2.06-.94 2.06-2.06.94zm-11 1L8.5 8.5l.94-2.06 2.06-.94-2.06-.94L8.5 2.5l-.94 2.06-2.06.94zm10 10l.94 2.06.94-2.06 2.06-.94-2.06-.94-.94-2.06-.94 2.06-2.06.94z\"/><path d=\"M17.41 7.96l-1.37-1.37c-.4-.4-.92-.59-1.43-.59-.52 0-1.04.2-1.43.59L10.3 9.45l-7.72 7.72c-.78.78-.78 2.05 0 2.83L4 21.41c.39.39.9.59 1.41.59.51 0 1.02-.2 1.41-.59l7.78-7.78 2.81-2.81c.8-.78.8-2.07 0-2.86zM5.41 20L4 18.59l7.72-7.72 1.47 1.35L5.41 20z\"/>\n",
              "  </svg>\n",
              "      </button>\n",
              "\n",
              "\n",
              "\n",
              "    <div id=\"df-c83d8dd4-b7b9-4a99-8c80-2950cb3edcae\">\n",
              "      <button class=\"colab-df-quickchart\" onclick=\"quickchart('df-c83d8dd4-b7b9-4a99-8c80-2950cb3edcae')\"\n",
              "              title=\"Suggest charts.\"\n",
              "              style=\"display:none;\">\n",
              "\n",
              "<svg xmlns=\"http://www.w3.org/2000/svg\" height=\"24px\"viewBox=\"0 0 24 24\"\n",
              "     width=\"24px\">\n",
              "    <g>\n",
              "        <path d=\"M19 3H5c-1.1 0-2 .9-2 2v14c0 1.1.9 2 2 2h14c1.1 0 2-.9 2-2V5c0-1.1-.9-2-2-2zM9 17H7v-7h2v7zm4 0h-2V7h2v10zm4 0h-2v-4h2v4z\"/>\n",
              "    </g>\n",
              "</svg>\n",
              "      </button>\n",
              "    </div>\n",
              "\n",
              "<style>\n",
              "  .colab-df-quickchart {\n",
              "    background-color: #E8F0FE;\n",
              "    border: none;\n",
              "    border-radius: 50%;\n",
              "    cursor: pointer;\n",
              "    display: none;\n",
              "    fill: #1967D2;\n",
              "    height: 32px;\n",
              "    padding: 0 0 0 0;\n",
              "    width: 32px;\n",
              "  }\n",
              "\n",
              "  .colab-df-quickchart:hover {\n",
              "    background-color: #E2EBFA;\n",
              "    box-shadow: 0px 1px 2px rgba(60, 64, 67, 0.3), 0px 1px 3px 1px rgba(60, 64, 67, 0.15);\n",
              "    fill: #174EA6;\n",
              "  }\n",
              "\n",
              "  [theme=dark] .colab-df-quickchart {\n",
              "    background-color: #3B4455;\n",
              "    fill: #D2E3FC;\n",
              "  }\n",
              "\n",
              "  [theme=dark] .colab-df-quickchart:hover {\n",
              "    background-color: #434B5C;\n",
              "    box-shadow: 0px 1px 3px 1px rgba(0, 0, 0, 0.15);\n",
              "    filter: drop-shadow(0px 1px 2px rgba(0, 0, 0, 0.3));\n",
              "    fill: #FFFFFF;\n",
              "  }\n",
              "</style>\n",
              "\n",
              "    <script>\n",
              "      async function quickchart(key) {\n",
              "        const containerElement = document.querySelector('#' + key);\n",
              "        const charts = await google.colab.kernel.invokeFunction(\n",
              "            'suggestCharts', [key], {});\n",
              "      }\n",
              "    </script>\n",
              "\n",
              "\n",
              "      <script>\n",
              "\n",
              "function displayQuickchartButton(domScope) {\n",
              "  let quickchartButtonEl =\n",
              "    domScope.querySelector('#df-c83d8dd4-b7b9-4a99-8c80-2950cb3edcae button.colab-df-quickchart');\n",
              "  quickchartButtonEl.style.display =\n",
              "    google.colab.kernel.accessAllowed ? 'block' : 'none';\n",
              "}\n",
              "\n",
              "        displayQuickchartButton(document);\n",
              "      </script>\n",
              "      <style>\n",
              "    .colab-df-container {\n",
              "      display:flex;\n",
              "      flex-wrap:wrap;\n",
              "      gap: 12px;\n",
              "    }\n",
              "\n",
              "    .colab-df-convert {\n",
              "      background-color: #E8F0FE;\n",
              "      border: none;\n",
              "      border-radius: 50%;\n",
              "      cursor: pointer;\n",
              "      display: none;\n",
              "      fill: #1967D2;\n",
              "      height: 32px;\n",
              "      padding: 0 0 0 0;\n",
              "      width: 32px;\n",
              "    }\n",
              "\n",
              "    .colab-df-convert:hover {\n",
              "      background-color: #E2EBFA;\n",
              "      box-shadow: 0px 1px 2px rgba(60, 64, 67, 0.3), 0px 1px 3px 1px rgba(60, 64, 67, 0.15);\n",
              "      fill: #174EA6;\n",
              "    }\n",
              "\n",
              "    [theme=dark] .colab-df-convert {\n",
              "      background-color: #3B4455;\n",
              "      fill: #D2E3FC;\n",
              "    }\n",
              "\n",
              "    [theme=dark] .colab-df-convert:hover {\n",
              "      background-color: #434B5C;\n",
              "      box-shadow: 0px 1px 3px 1px rgba(0, 0, 0, 0.15);\n",
              "      filter: drop-shadow(0px 1px 2px rgba(0, 0, 0, 0.3));\n",
              "      fill: #FFFFFF;\n",
              "    }\n",
              "  </style>\n",
              "\n",
              "      <script>\n",
              "        const buttonEl =\n",
              "          document.querySelector('#df-4cfc417f-0a73-4812-9ae8-180f663666f3 button.colab-df-convert');\n",
              "        buttonEl.style.display =\n",
              "          google.colab.kernel.accessAllowed ? 'block' : 'none';\n",
              "\n",
              "        async function convertToInteractive(key) {\n",
              "          const element = document.querySelector('#df-4cfc417f-0a73-4812-9ae8-180f663666f3');\n",
              "          const dataTable =\n",
              "            await google.colab.kernel.invokeFunction('convertToInteractive',\n",
              "                                                     [key], {});\n",
              "          if (!dataTable) return;\n",
              "\n",
              "          const docLinkHtml = 'Like what you see? Visit the ' +\n",
              "            '<a target=\"_blank\" href=https://colab.research.google.com/notebooks/data_table.ipynb>data table notebook</a>'\n",
              "            + ' to learn more about interactive tables.';\n",
              "          element.innerHTML = '';\n",
              "          dataTable['output_type'] = 'display_data';\n",
              "          await google.colab.output.renderOutput(dataTable, element);\n",
              "          const docLink = document.createElement('div');\n",
              "          docLink.innerHTML = docLinkHtml;\n",
              "          element.appendChild(docLink);\n",
              "        }\n",
              "      </script>\n",
              "    </div>\n",
              "  </div>\n"
            ],
            "text/plain": [
              "                                  Item Description     Category  \\\n",
              "0       Above how specific garden clear attention.         Home   \n",
              "1                             Near six test order.         Food   \n",
              "2  Maintain wide article he training product hard.         Home   \n",
              "3    Energy none those these military report food.  Electronics   \n",
              "4           Run plan amount room finish hear easy.         Food   \n",
              "\n",
              "         Sub-Category  \n",
              "0  Kitchen Appliances  \n",
              "1        Canned Goods  \n",
              "2  Kitchen Appliances  \n",
              "3     Audio Equipment  \n",
              "4        Canned Goods  "
            ]
          },
          "execution_count": 4,
          "metadata": {},
          "output_type": "execute_result"
        }
      ],
      "source": [
        "df.head()"
      ]
    },
    {
      "cell_type": "code",
      "execution_count": null,
      "metadata": {
        "colab": {
          "base_uri": "https://localhost:8080/",
          "height": 206
        },
        "id": "qZPSi1Tl7PZS",
        "outputId": "688d2b09-367c-4364-b05a-44bc1df3e203"
      },
      "outputs": [
        {
          "data": {
            "text/html": [
              "\n",
              "\n",
              "  <div id=\"df-cc5828ee-1eeb-4e94-b6ac-7661594e13f8\">\n",
              "    <div class=\"colab-df-container\">\n",
              "      <div>\n",
              "<style scoped>\n",
              "    .dataframe tbody tr th:only-of-type {\n",
              "        vertical-align: middle;\n",
              "    }\n",
              "\n",
              "    .dataframe tbody tr th {\n",
              "        vertical-align: top;\n",
              "    }\n",
              "\n",
              "    .dataframe thead th {\n",
              "        text-align: right;\n",
              "    }\n",
              "</style>\n",
              "<table border=\"1\" class=\"dataframe\">\n",
              "  <thead>\n",
              "    <tr style=\"text-align: right;\">\n",
              "      <th></th>\n",
              "      <th>Item Description</th>\n",
              "      <th>Category</th>\n",
              "      <th>Sub-Category</th>\n",
              "    </tr>\n",
              "  </thead>\n",
              "  <tbody>\n",
              "    <tr>\n",
              "      <th>95</th>\n",
              "      <td>Land those office travel theory nor third.</td>\n",
              "      <td>Clothing</td>\n",
              "      <td>Accessories</td>\n",
              "    </tr>\n",
              "    <tr>\n",
              "      <th>96</th>\n",
              "      <td>Relationship space moment Congress.</td>\n",
              "      <td>Electronics</td>\n",
              "      <td>Smart Home</td>\n",
              "    </tr>\n",
              "    <tr>\n",
              "      <th>97</th>\n",
              "      <td>Something movement agree house.</td>\n",
              "      <td>Personal Care</td>\n",
              "      <td>Oral Care</td>\n",
              "    </tr>\n",
              "    <tr>\n",
              "      <th>98</th>\n",
              "      <td>Employee central enter difference.</td>\n",
              "      <td>Personal Care</td>\n",
              "      <td>Shaving</td>\n",
              "    </tr>\n",
              "    <tr>\n",
              "      <th>99</th>\n",
              "      <td>Stand for investment seek woman glass.</td>\n",
              "      <td>Baby</td>\n",
              "      <td>Nursery Furniture</td>\n",
              "    </tr>\n",
              "  </tbody>\n",
              "</table>\n",
              "</div>\n",
              "      <button class=\"colab-df-convert\" onclick=\"convertToInteractive('df-cc5828ee-1eeb-4e94-b6ac-7661594e13f8')\"\n",
              "              title=\"Convert this dataframe to an interactive table.\"\n",
              "              style=\"display:none;\">\n",
              "\n",
              "  <svg xmlns=\"http://www.w3.org/2000/svg\" height=\"24px\"viewBox=\"0 0 24 24\"\n",
              "       width=\"24px\">\n",
              "    <path d=\"M0 0h24v24H0V0z\" fill=\"none\"/>\n",
              "    <path d=\"M18.56 5.44l.94 2.06.94-2.06 2.06-.94-2.06-.94-.94-2.06-.94 2.06-2.06.94zm-11 1L8.5 8.5l.94-2.06 2.06-.94-2.06-.94L8.5 2.5l-.94 2.06-2.06.94zm10 10l.94 2.06.94-2.06 2.06-.94-2.06-.94-.94-2.06-.94 2.06-2.06.94z\"/><path d=\"M17.41 7.96l-1.37-1.37c-.4-.4-.92-.59-1.43-.59-.52 0-1.04.2-1.43.59L10.3 9.45l-7.72 7.72c-.78.78-.78 2.05 0 2.83L4 21.41c.39.39.9.59 1.41.59.51 0 1.02-.2 1.41-.59l7.78-7.78 2.81-2.81c.8-.78.8-2.07 0-2.86zM5.41 20L4 18.59l7.72-7.72 1.47 1.35L5.41 20z\"/>\n",
              "  </svg>\n",
              "      </button>\n",
              "\n",
              "\n",
              "\n",
              "    <div id=\"df-ef660482-78a7-4a94-ad15-4788c1f91009\">\n",
              "      <button class=\"colab-df-quickchart\" onclick=\"quickchart('df-ef660482-78a7-4a94-ad15-4788c1f91009')\"\n",
              "              title=\"Suggest charts.\"\n",
              "              style=\"display:none;\">\n",
              "\n",
              "<svg xmlns=\"http://www.w3.org/2000/svg\" height=\"24px\"viewBox=\"0 0 24 24\"\n",
              "     width=\"24px\">\n",
              "    <g>\n",
              "        <path d=\"M19 3H5c-1.1 0-2 .9-2 2v14c0 1.1.9 2 2 2h14c1.1 0 2-.9 2-2V5c0-1.1-.9-2-2-2zM9 17H7v-7h2v7zm4 0h-2V7h2v10zm4 0h-2v-4h2v4z\"/>\n",
              "    </g>\n",
              "</svg>\n",
              "      </button>\n",
              "    </div>\n",
              "\n",
              "<style>\n",
              "  .colab-df-quickchart {\n",
              "    background-color: #E8F0FE;\n",
              "    border: none;\n",
              "    border-radius: 50%;\n",
              "    cursor: pointer;\n",
              "    display: none;\n",
              "    fill: #1967D2;\n",
              "    height: 32px;\n",
              "    padding: 0 0 0 0;\n",
              "    width: 32px;\n",
              "  }\n",
              "\n",
              "  .colab-df-quickchart:hover {\n",
              "    background-color: #E2EBFA;\n",
              "    box-shadow: 0px 1px 2px rgba(60, 64, 67, 0.3), 0px 1px 3px 1px rgba(60, 64, 67, 0.15);\n",
              "    fill: #174EA6;\n",
              "  }\n",
              "\n",
              "  [theme=dark] .colab-df-quickchart {\n",
              "    background-color: #3B4455;\n",
              "    fill: #D2E3FC;\n",
              "  }\n",
              "\n",
              "  [theme=dark] .colab-df-quickchart:hover {\n",
              "    background-color: #434B5C;\n",
              "    box-shadow: 0px 1px 3px 1px rgba(0, 0, 0, 0.15);\n",
              "    filter: drop-shadow(0px 1px 2px rgba(0, 0, 0, 0.3));\n",
              "    fill: #FFFFFF;\n",
              "  }\n",
              "</style>\n",
              "\n",
              "    <script>\n",
              "      async function quickchart(key) {\n",
              "        const containerElement = document.querySelector('#' + key);\n",
              "        const charts = await google.colab.kernel.invokeFunction(\n",
              "            'suggestCharts', [key], {});\n",
              "      }\n",
              "    </script>\n",
              "\n",
              "\n",
              "      <script>\n",
              "\n",
              "function displayQuickchartButton(domScope) {\n",
              "  let quickchartButtonEl =\n",
              "    domScope.querySelector('#df-ef660482-78a7-4a94-ad15-4788c1f91009 button.colab-df-quickchart');\n",
              "  quickchartButtonEl.style.display =\n",
              "    google.colab.kernel.accessAllowed ? 'block' : 'none';\n",
              "}\n",
              "\n",
              "        displayQuickchartButton(document);\n",
              "      </script>\n",
              "      <style>\n",
              "    .colab-df-container {\n",
              "      display:flex;\n",
              "      flex-wrap:wrap;\n",
              "      gap: 12px;\n",
              "    }\n",
              "\n",
              "    .colab-df-convert {\n",
              "      background-color: #E8F0FE;\n",
              "      border: none;\n",
              "      border-radius: 50%;\n",
              "      cursor: pointer;\n",
              "      display: none;\n",
              "      fill: #1967D2;\n",
              "      height: 32px;\n",
              "      padding: 0 0 0 0;\n",
              "      width: 32px;\n",
              "    }\n",
              "\n",
              "    .colab-df-convert:hover {\n",
              "      background-color: #E2EBFA;\n",
              "      box-shadow: 0px 1px 2px rgba(60, 64, 67, 0.3), 0px 1px 3px 1px rgba(60, 64, 67, 0.15);\n",
              "      fill: #174EA6;\n",
              "    }\n",
              "\n",
              "    [theme=dark] .colab-df-convert {\n",
              "      background-color: #3B4455;\n",
              "      fill: #D2E3FC;\n",
              "    }\n",
              "\n",
              "    [theme=dark] .colab-df-convert:hover {\n",
              "      background-color: #434B5C;\n",
              "      box-shadow: 0px 1px 3px 1px rgba(0, 0, 0, 0.15);\n",
              "      filter: drop-shadow(0px 1px 2px rgba(0, 0, 0, 0.3));\n",
              "      fill: #FFFFFF;\n",
              "    }\n",
              "  </style>\n",
              "\n",
              "      <script>\n",
              "        const buttonEl =\n",
              "          document.querySelector('#df-cc5828ee-1eeb-4e94-b6ac-7661594e13f8 button.colab-df-convert');\n",
              "        buttonEl.style.display =\n",
              "          google.colab.kernel.accessAllowed ? 'block' : 'none';\n",
              "\n",
              "        async function convertToInteractive(key) {\n",
              "          const element = document.querySelector('#df-cc5828ee-1eeb-4e94-b6ac-7661594e13f8');\n",
              "          const dataTable =\n",
              "            await google.colab.kernel.invokeFunction('convertToInteractive',\n",
              "                                                     [key], {});\n",
              "          if (!dataTable) return;\n",
              "\n",
              "          const docLinkHtml = 'Like what you see? Visit the ' +\n",
              "            '<a target=\"_blank\" href=https://colab.research.google.com/notebooks/data_table.ipynb>data table notebook</a>'\n",
              "            + ' to learn more about interactive tables.';\n",
              "          element.innerHTML = '';\n",
              "          dataTable['output_type'] = 'display_data';\n",
              "          await google.colab.output.renderOutput(dataTable, element);\n",
              "          const docLink = document.createElement('div');\n",
              "          docLink.innerHTML = docLinkHtml;\n",
              "          element.appendChild(docLink);\n",
              "        }\n",
              "      </script>\n",
              "    </div>\n",
              "  </div>\n"
            ],
            "text/plain": [
              "                              Item Description       Category  \\\n",
              "95  Land those office travel theory nor third.       Clothing   \n",
              "96         Relationship space moment Congress.    Electronics   \n",
              "97             Something movement agree house.  Personal Care   \n",
              "98          Employee central enter difference.  Personal Care   \n",
              "99      Stand for investment seek woman glass.           Baby   \n",
              "\n",
              "         Sub-Category  \n",
              "95        Accessories  \n",
              "96         Smart Home  \n",
              "97          Oral Care  \n",
              "98            Shaving  \n",
              "99  Nursery Furniture  "
            ]
          },
          "execution_count": 5,
          "metadata": {},
          "output_type": "execute_result"
        }
      ],
      "source": [
        "df.tail()"
      ]
    },
    {
      "cell_type": "code",
      "execution_count": null,
      "metadata": {
        "id": "s4beR6jFbA0o"
      },
      "outputs": [],
      "source": [
        "df['Target'] = df['Category']+ '_' + df['Sub-Category']"
      ]
    },
    {
      "cell_type": "code",
      "execution_count": null,
      "metadata": {
        "id": "Kq0XxiaQbIui"
      },
      "outputs": [],
      "source": []
    },
    {
      "cell_type": "markdown",
      "metadata": {
        "id": "578EQdMCTaLc"
      },
      "source": [
        "# **Approach 1: Using CNN**"
      ]
    },
    {
      "cell_type": "code",
      "execution_count": null,
      "metadata": {
        "id": "3bsYPQVvTd40"
      },
      "outputs": [],
      "source": [
        "import numpy as np\n",
        "\n",
        "from sklearn.model_selection import train_test_split\n",
        "from tensorflow.keras.preprocessing.text import Tokenizer\n",
        "from tensorflow.keras.preprocessing.sequence import pad_sequences\n",
        "from tensorflow.keras.models import Sequential\n",
        "from tensorflow.keras.layers import Embedding, Conv1D, GlobalMaxPooling1D, Dense, Flatten"
      ]
    },
    {
      "cell_type": "code",
      "execution_count": null,
      "metadata": {
        "id": "UJpGQclR9_Gw"
      },
      "outputs": [],
      "source": [
        "from sklearn.preprocessing import LabelEncoder\n",
        "label_encoder = LabelEncoder()\n",
        "\n",
        "encoded_data = label_encoder.fit_transform(df['Category'])\n",
        "df['encoded_Category'] = encoded_data"
      ]
    },
    {
      "cell_type": "code",
      "execution_count": null,
      "metadata": {
        "colab": {
          "base_uri": "https://localhost:8080/"
        },
        "id": "aeASVo9i9nYp",
        "outputId": "793545b3-b0ff-4615-83d0-e94a4201a547"
      },
      "outputs": [
        {
          "data": {
            "text/plain": [
              "7"
            ]
          },
          "execution_count": 82,
          "metadata": {},
          "output_type": "execute_result"
        }
      ],
      "source": [
        "encoded_data.max()"
      ]
    },
    {
      "cell_type": "code",
      "execution_count": null,
      "metadata": {
        "id": "jTK7IqvYTd2e"
      },
      "outputs": [],
      "source": [
        "X , y = df['Item Description'], df['encoded_Category']\n",
        "x_train, x_test, y_train, y_test = train_test_split(X, y, test_size=0.2, random_state=42)"
      ]
    },
    {
      "cell_type": "code",
      "execution_count": null,
      "metadata": {
        "id": "PM_JKmMlTdxl"
      },
      "outputs": [],
      "source": [
        "# Convert text data to sequences and pad them\n",
        "max_words = 1000  # Number of most frequent words to keep\n",
        "max_length = 50   # Maximum sequence length\n",
        "tokenizer = Tokenizer(num_words=max_words)\n",
        "tokenizer.fit_on_texts(x_train)\n",
        "sequences_train = tokenizer.texts_to_sequences(x_train)\n",
        "sequences_test = tokenizer.texts_to_sequences(x_test)\n",
        "x_train = pad_sequences(sequences_train, maxlen=max_length)\n",
        "x_test = pad_sequences(sequences_test, maxlen=max_length)"
      ]
    },
    {
      "cell_type": "code",
      "execution_count": null,
      "metadata": {
        "colab": {
          "base_uri": "https://localhost:8080/"
        },
        "id": "a3lRtkkDDq1e",
        "outputId": "9f8f6951-2b8b-4b33-a549-23fd47335558"
      },
      "outputs": [
        {
          "data": {
            "text/plain": [
              "{'give': 1,\n",
              " 'level': 2,\n",
              " 'ability': 3,\n",
              " 'fast': 4,\n",
              " 'if': 5,\n",
              " 'control': 6,\n",
              " 'attorney': 7,\n",
              " 'let': 8,\n",
              " 'itself': 9,\n",
              " 'discover': 10,\n",
              " 'need': 11,\n",
              " 'visit': 12,\n",
              " 'much': 13,\n",
              " 'according': 14,\n",
              " 'wear': 15,\n",
              " 'chair': 16,\n",
              " 'who': 17,\n",
              " 'perform': 18,\n",
              " 'start': 19,\n",
              " 'various': 20,\n",
              " 'face': 21,\n",
              " 'event': 22,\n",
              " 'stock': 23,\n",
              " 'prove': 24,\n",
              " 'sense': 25,\n",
              " 'father': 26,\n",
              " 'suddenly': 27,\n",
              " 'charge': 28,\n",
              " 'not': 29,\n",
              " 'her': 30,\n",
              " 'statement': 31,\n",
              " 'black': 32,\n",
              " 'keep': 33,\n",
              " 'born': 34,\n",
              " 'probably': 35,\n",
              " 'project': 36,\n",
              " 'worker': 37,\n",
              " 'production': 38,\n",
              " 'street': 39,\n",
              " 'begin': 40,\n",
              " 'gas': 41,\n",
              " 'but': 42,\n",
              " 'catch': 43,\n",
              " 'draw': 44,\n",
              " 'line': 45,\n",
              " 'represent': 46,\n",
              " 'network': 47,\n",
              " 'us': 48,\n",
              " 'happen': 49,\n",
              " 'eat': 50,\n",
              " 'per': 51,\n",
              " 'rock': 52,\n",
              " 'reveal': 53,\n",
              " 'check': 54,\n",
              " 'recent': 55,\n",
              " 'director': 56,\n",
              " 'debate': 57,\n",
              " 'new': 58,\n",
              " 'design': 59,\n",
              " 'red': 60,\n",
              " 'interest': 61,\n",
              " 'reflect': 62,\n",
              " 'reach': 63,\n",
              " 'job': 64,\n",
              " 'threat': 65,\n",
              " 'music': 66,\n",
              " 'rich': 67,\n",
              " 'school': 68,\n",
              " 'partner': 69,\n",
              " 'watch': 70,\n",
              " 'figure': 71,\n",
              " 'sister': 72,\n",
              " 'whom': 73,\n",
              " 'true': 74,\n",
              " 'character': 75,\n",
              " 'key': 76,\n",
              " 'during': 77,\n",
              " 'treatment': 78,\n",
              " 'age': 79,\n",
              " 'population': 80,\n",
              " 'shake': 81,\n",
              " 'look': 82,\n",
              " 'stay': 83,\n",
              " 'society': 84,\n",
              " 'hit': 85,\n",
              " 'page': 86,\n",
              " 'notice': 87,\n",
              " 'item': 88,\n",
              " 'stage': 89,\n",
              " 'again': 90,\n",
              " 'future': 91,\n",
              " 'expect': 92,\n",
              " 'now': 93,\n",
              " 'white': 94,\n",
              " 'stand': 95,\n",
              " 'fight': 96,\n",
              " 'degree': 97,\n",
              " 'middle': 98,\n",
              " 'significant': 99,\n",
              " 'week': 100,\n",
              " 'perhaps': 101,\n",
              " 'onto': 102,\n",
              " 'drug': 103,\n",
              " 'poor': 104,\n",
              " 'series': 105,\n",
              " 'class': 106,\n",
              " 'economy': 107,\n",
              " 'campaign': 108,\n",
              " 'produce': 109,\n",
              " 'amount': 110,\n",
              " 'kind': 111,\n",
              " 'doctor': 112,\n",
              " 'spend': 113,\n",
              " 'including': 114,\n",
              " 'former': 115,\n",
              " 'despite': 116,\n",
              " 'everybody': 117,\n",
              " 'fact': 118,\n",
              " 'approach': 119,\n",
              " 'east': 120,\n",
              " 'industry': 121,\n",
              " 'above': 122,\n",
              " 'field': 123,\n",
              " 'several': 124,\n",
              " 'similar': 125,\n",
              " 'hope': 126,\n",
              " 'cold': 127,\n",
              " 'choice': 128,\n",
              " 'worry': 129,\n",
              " 'them': 130,\n",
              " 'water': 131,\n",
              " 'lose': 132,\n",
              " 'play': 133,\n",
              " 'push': 134,\n",
              " 'information': 135,\n",
              " 'six': 136,\n",
              " 'evidence': 137,\n",
              " 'where': 138,\n",
              " 'one': 139,\n",
              " 'side': 140,\n",
              " 'peace': 141,\n",
              " 'media': 142,\n",
              " 'grow': 143,\n",
              " 'stop': 144,\n",
              " 'she': 145,\n",
              " 'institution': 146,\n",
              " 'government': 147,\n",
              " 'participant': 148,\n",
              " 'marriage': 149,\n",
              " 'decade': 150,\n",
              " 'month': 151,\n",
              " 'form': 152,\n",
              " 'whose': 153,\n",
              " 'do': 154,\n",
              " 'bill': 155,\n",
              " 'college': 156,\n",
              " 'sometimes': 157,\n",
              " 'military': 158,\n",
              " 'still': 159,\n",
              " 'republican': 160,\n",
              " 'heavy': 161,\n",
              " 'final': 162,\n",
              " 'account': 163,\n",
              " 'away': 164,\n",
              " 'we': 165,\n",
              " 'try': 166,\n",
              " 'light': 167,\n",
              " 'necessary': 168,\n",
              " 'answer': 169,\n",
              " 'opportunity': 170,\n",
              " 'assume': 171,\n",
              " 'occur': 172,\n",
              " 'foreign': 173,\n",
              " 'weight': 174,\n",
              " 'morning': 175,\n",
              " 'dog': 176,\n",
              " 'agent': 177,\n",
              " 'may': 178,\n",
              " 'artist': 179,\n",
              " 'hotel': 180,\n",
              " 'physical': 181,\n",
              " 'minute': 182,\n",
              " 'bad': 183,\n",
              " 'firm': 184,\n",
              " 'science': 185,\n",
              " 'factor': 186,\n",
              " 'close': 187,\n",
              " 'continue': 188,\n",
              " 'myself': 189,\n",
              " 'require': 190,\n",
              " 'deep': 191,\n",
              " 'long': 192,\n",
              " 'fine': 193,\n",
              " 'although': 194,\n",
              " 'church': 195,\n",
              " 'out': 196,\n",
              " 'popular': 197,\n",
              " 'be': 198,\n",
              " 'meeting': 199,\n",
              " 'beat': 200,\n",
              " 'medical': 201,\n",
              " 'bank': 202,\n",
              " 'pressure': 203,\n",
              " 'else': 204,\n",
              " 'station': 205,\n",
              " 'major': 206,\n",
              " 'behavior': 207,\n",
              " 'skin': 208,\n",
              " 'particularly': 209,\n",
              " 'often': 210,\n",
              " 'life': 211,\n",
              " 'finally': 212,\n",
              " 'operation': 213,\n",
              " 'foot': 214,\n",
              " 'along': 215,\n",
              " 'each': 216,\n",
              " 'news': 217,\n",
              " 'ask': 218,\n",
              " 'voice': 219,\n",
              " 'success': 220,\n",
              " 'though': 221,\n",
              " 'financial': 222,\n",
              " 'focus': 223,\n",
              " 'claim': 224,\n",
              " 'letter': 225,\n",
              " 'unit': 226,\n",
              " 'until': 227,\n",
              " 'social': 228,\n",
              " 'couple': 229,\n",
              " 'really': 230,\n",
              " 'expert': 231,\n",
              " 'rise': 232,\n",
              " 'already': 233,\n",
              " 'time': 234,\n",
              " 'defense': 235,\n",
              " 'fear': 236,\n",
              " 'the': 237,\n",
              " 'buy': 238,\n",
              " 'on': 239,\n",
              " 'pretty': 240,\n",
              " 'activity': 241,\n",
              " 'low': 242,\n",
              " 'must': 243,\n",
              " 'truth': 244,\n",
              " 'about': 245,\n",
              " 'owner': 246,\n",
              " 'here': 247,\n",
              " 'south': 248,\n",
              " 'loss': 249,\n",
              " 'next': 250,\n",
              " 'money': 251,\n",
              " 'so': 252,\n",
              " 'trade': 253,\n",
              " 'court': 254,\n",
              " 'something': 255,\n",
              " 'think': 256,\n",
              " 'wait': 257,\n",
              " 'cover': 258,\n",
              " 'air': 259,\n",
              " 'public': 260,\n",
              " 'chance': 261,\n",
              " 'admit': 262,\n",
              " 'today': 263,\n",
              " 'list': 264,\n",
              " 'responsibility': 265,\n",
              " 'ok': 266,\n",
              " 'sound': 267,\n",
              " 'customer': 268,\n",
              " 'wrong': 269,\n",
              " 'state': 270,\n",
              " 'leg': 271,\n",
              " 'great': 272,\n",
              " 'attention': 273,\n",
              " 'care': 274,\n",
              " 'century': 275,\n",
              " 'collection': 276,\n",
              " 'product': 277,\n",
              " 'arm': 278,\n",
              " 'phone': 279,\n",
              " 'agency': 280,\n",
              " 'authority': 281,\n",
              " 'nothing': 282,\n",
              " 'blue': 283,\n",
              " 'pay': 284,\n",
              " 'send': 285,\n",
              " 'resource': 286,\n",
              " 'relate': 287,\n",
              " 'message': 288,\n",
              " 'his': 289,\n",
              " 'anything': 290,\n",
              " 'least': 291,\n",
              " 'understand': 292,\n",
              " 'force': 293,\n",
              " 'pattern': 294,\n",
              " 'thank': 295,\n",
              " 'center': 296,\n",
              " 'its': 297,\n",
              " 'before': 298,\n",
              " 'person': 299,\n",
              " 'for': 300,\n",
              " 'soldier': 301,\n",
              " 'fish': 302,\n",
              " 'single': 303,\n",
              " 'thousand': 304,\n",
              " 'window': 305,\n",
              " 'it': 306,\n",
              " 'officer': 307,\n",
              " 'individual': 308,\n",
              " 'edge': 309,\n",
              " 'board': 310,\n",
              " 'million': 311,\n",
              " 'tell': 312,\n",
              " 'technology': 313,\n",
              " 'fund': 314,\n",
              " 'few': 315,\n",
              " 'use': 316,\n",
              " 'book': 317,\n",
              " 'sort': 318,\n",
              " 'night': 319,\n",
              " 'pick': 320,\n",
              " 'concern': 321,\n",
              " 'study': 322,\n",
              " 'there': 323,\n",
              " 'eye': 324,\n",
              " 'hot': 325,\n",
              " 'while': 326,\n",
              " 'enter': 327,\n",
              " 'staff': 328,\n",
              " 'way': 329,\n",
              " 'capital': 330,\n",
              " 'speak': 331,\n",
              " 'service': 332,\n",
              " 'direction': 333,\n",
              " 'indicate': 334,\n",
              " 'front': 335,\n",
              " 'son': 336,\n",
              " 'analysis': 337,\n",
              " 'organization': 338,\n",
              " 'investment': 339,\n",
              " 'maybe': 340,\n",
              " 'part': 341,\n",
              " 'first': 342,\n",
              " 'fill': 343,\n",
              " 'difficult': 344,\n",
              " 'yeah': 345,\n",
              " 'land': 346,\n",
              " 'make': 347,\n",
              " 'ready': 348,\n",
              " 'discussion': 349,\n",
              " 'region': 350,\n",
              " 'score': 351,\n",
              " 'through': 352,\n",
              " 'hand': 353,\n",
              " 'main': 354,\n",
              " 'four': 355}"
            ]
          },
          "execution_count": 107,
          "metadata": {},
          "output_type": "execute_result"
        }
      ],
      "source": [
        "tokenizer."
      ]
    },
    {
      "cell_type": "code",
      "execution_count": null,
      "metadata": {
        "id": "MWV4Nl9QV24z"
      },
      "outputs": [],
      "source": [
        "model = Sequential()\n",
        "\n",
        "model.add(Embedding(input_dim=max_words, output_dim=20, input_length=max_length))\n",
        "model.add(Conv1D(filters=128, kernel_size=5, activation='relu'))\n",
        "model.add(GlobalMaxPooling1D())\n",
        "model.add(Dense(8, activation='softmax'))  # 8 classes for 8 categories\n",
        "\n",
        "model.compile(loss='sparse_categorical_crossentropy', optimizer='adam', metrics=['accuracy'])"
      ]
    },
    {
      "cell_type": "code",
      "execution_count": null,
      "metadata": {
        "colab": {
          "base_uri": "https://localhost:8080/",
          "height": 179
        },
        "id": "ojQcmci2DYHz",
        "outputId": "a2018eab-3a9d-4e7b-fd46-96038f011f4e"
      },
      "outputs": [
        {
          "ename": "NameError",
          "evalue": "ignored",
          "output_type": "error",
          "traceback": [
            "\u001b[0;31m---------------------------------------------------------------------------\u001b[0m",
            "\u001b[0;31mNameError\u001b[0m                                 Traceback (most recent call last)",
            "\u001b[0;32m<ipython-input-1-80784060c951>\u001b[0m in \u001b[0;36m<cell line: 1>\u001b[0;34m()\u001b[0m\n\u001b[0;32m----> 1\u001b[0;31m \u001b[0mx_train\u001b[0m\u001b[0;34m\u001b[0m\u001b[0;34m\u001b[0m\u001b[0m\n\u001b[0m",
            "\u001b[0;31mNameError\u001b[0m: name 'x_train' is not defined"
          ]
        }
      ],
      "source": [
        "x_train"
      ]
    },
    {
      "cell_type": "code",
      "execution_count": null,
      "metadata": {
        "colab": {
          "base_uri": "https://localhost:8080/"
        },
        "id": "C-8Od5pfV2kL",
        "outputId": "7764e874-5724-4fff-d33a-bfe44a312696"
      },
      "outputs": [
        {
          "name": "stdout",
          "output_type": "stream",
          "text": [
            "Epoch 1/3\n",
            "8/8 [==============================] - 0s 44ms/step - loss: 1.9956 - accuracy: 0.4750 - val_loss: 2.0831 - val_accuracy: 0.1500\n",
            "Epoch 2/3\n",
            "8/8 [==============================] - 0s 43ms/step - loss: 1.9260 - accuracy: 0.6375 - val_loss: 2.0839 - val_accuracy: 0.1500\n",
            "Epoch 3/3\n",
            "8/8 [==============================] - 0s 42ms/step - loss: 1.8541 - accuracy: 0.7250 - val_loss: 2.0880 - val_accuracy: 0.1500\n"
          ]
        },
        {
          "data": {
            "text/plain": [
              "<keras.callbacks.History at 0x7ea807607f10>"
            ]
          },
          "execution_count": 87,
          "metadata": {},
          "output_type": "execute_result"
        }
      ],
      "source": [
        "model.fit(x_train, y_train, validation_data=(x_test, y_test), epochs=3, batch_size=10)"
      ]
    },
    {
      "cell_type": "code",
      "execution_count": null,
      "metadata": {
        "colab": {
          "base_uri": "https://localhost:8080/"
        },
        "id": "qk_GrKpSV2gz",
        "outputId": "646c37a8-c9db-457d-c654-d58afbf08955"
      },
      "outputs": [
        {
          "name": "stdout",
          "output_type": "stream",
          "text": [
            "1/1 [==============================] - 0s 124ms/step - loss: 2.0880 - accuracy: 0.1500\n",
            "Test loss: 2.0880, Test accuracy: 0.1500\n"
          ]
        }
      ],
      "source": [
        "loss, accuracy = model.evaluate(x_test, y_test)\n",
        "print(f\"Test loss: {loss:.4f}, Test accuracy: {accuracy:.4f}\")"
      ]
    },
    {
      "cell_type": "code",
      "execution_count": null,
      "metadata": {
        "id": "ZZ_obWcFV2dO"
      },
      "outputs": [],
      "source": []
    },
    {
      "cell_type": "code",
      "execution_count": null,
      "metadata": {
        "colab": {
          "base_uri": "https://localhost:8080/"
        },
        "id": "hD1Sy_WyASLa",
        "outputId": "ae12280a-cd3c-4a4c-829b-6197e9c4c4cd"
      },
      "outputs": [
        {
          "name": "stdout",
          "output_type": "stream",
          "text": [
            "1/1 [==============================] - 0s 34ms/step\n",
            "1/1 [==============================] - 0s 35ms/step\n",
            "1/1 [==============================] - 0s 32ms/step\n",
            "1/1 [==============================] - 0s 31ms/step\n",
            "1/1 [==============================] - 0s 29ms/step\n",
            "1/1 [==============================] - 0s 29ms/step\n",
            "1/1 [==============================] - 0s 30ms/step\n",
            "1/1 [==============================] - 0s 35ms/step\n",
            "1/1 [==============================] - 0s 37ms/step\n",
            "1/1 [==============================] - 0s 37ms/step\n",
            "1/1 [==============================] - 0s 39ms/step\n",
            "1/1 [==============================] - 0s 32ms/step\n",
            "1/1 [==============================] - 0s 31ms/step\n",
            "1/1 [==============================] - 0s 39ms/step\n",
            "1/1 [==============================] - 0s 38ms/step\n",
            "1/1 [==============================] - 0s 31ms/step\n",
            "1/1 [==============================] - 0s 30ms/step\n",
            "1/1 [==============================] - 0s 30ms/step\n",
            "1/1 [==============================] - 0s 34ms/step\n",
            "1/1 [==============================] - 0s 35ms/step\n",
            "1/1 [==============================] - 0s 32ms/step\n"
          ]
        }
      ],
      "source": [
        "predictions = []\n",
        "\n",
        "for i in range(len(model.predict(x_test))):\n",
        "  predictions.append(model.predict(x_test)[i].argmax())"
      ]
    },
    {
      "cell_type": "code",
      "execution_count": null,
      "metadata": {
        "colab": {
          "base_uri": "https://localhost:8080/"
        },
        "id": "QDXGPxJTASID",
        "outputId": "ffa53394-5de8-42ca-a017-bba6959680d8"
      },
      "outputs": [
        {
          "data": {
            "text/plain": [
              "array(['Personal Care', 'Personal Care', 'Personal Care', 'Personal Care',\n",
              "       'Personal Care', 'Personal Care', 'Personal Care', 'Personal Care',\n",
              "       'Personal Care', 'Personal Care', 'Personal Care', 'Personal Care',\n",
              "       'Personal Care', 'Personal Care', 'Personal Care', 'Personal Care',\n",
              "       'Personal Care', 'Personal Care', 'Personal Care', 'Personal Care'],\n",
              "      dtype=object)"
            ]
          },
          "execution_count": 99,
          "metadata": {},
          "output_type": "execute_result"
        }
      ],
      "source": [
        "label_encoder.inverse_transform(predictions)"
      ]
    },
    {
      "cell_type": "code",
      "execution_count": null,
      "metadata": {
        "colab": {
          "base_uri": "https://localhost:8080/"
        },
        "id": "0AYOBvkDASEH",
        "outputId": "5425307f-84c3-4a7c-f8b7-fb3358f5b194"
      },
      "outputs": [
        {
          "data": {
            "text/plain": [
              "array(['Food', 'Food', 'Pets', 'Home', 'Baby', 'Home', 'Baby', 'Pets',\n",
              "       'Health', 'Health', 'Clothing', 'Personal Care', 'Personal Care',\n",
              "       'Food', 'Health', 'Pets', 'Personal Care', 'Food', 'Baby', 'Food'],\n",
              "      dtype=object)"
            ]
          },
          "execution_count": 101,
          "metadata": {},
          "output_type": "execute_result"
        }
      ],
      "source": [
        "label_encoder.inverse_transform(y_test)"
      ]
    },
    {
      "cell_type": "code",
      "execution_count": null,
      "metadata": {
        "id": "yThzZrQ7Bab_"
      },
      "outputs": [],
      "source": []
    },
    {
      "cell_type": "markdown",
      "metadata": {
        "id": "kelhz_MiTdMC"
      },
      "source": [
        "## **Approach 2: Using RNN with LSTM**"
      ]
    },
    {
      "cell_type": "markdown",
      "metadata": {
        "id": "agjdXQroVUBy"
      },
      "source": [
        "1. Using IMDB data"
      ]
    },
    {
      "cell_type": "code",
      "execution_count": null,
      "metadata": {
        "id": "keCjDAe-7ZWi"
      },
      "outputs": [],
      "source": [
        "import numpy as np\n",
        "import pandas as pd\n",
        "from tensorflow.keras.datasets import imdb\n",
        "from tensorflow.keras.preprocessing.sequence import pad_sequences\n",
        "from tensorflow.keras.models import Sequential\n",
        "from tensorflow.keras.layers import Embedding, LSTM, Dense\n",
        "from keras.callbacks import EarlyStopping\n",
        "from keras.layers import Dropout"
      ]
    },
    {
      "cell_type": "code",
      "execution_count": null,
      "metadata": {
        "id": "S_wLOfdQ7reE"
      },
      "outputs": [],
      "source": [
        "# Load the IMDb dataset\n",
        "num_words = 10000  # Number of most frequent words to keep\n",
        "(x_train, y_train), (x_test, y_test) = imdb.load_data(num_words=num_words)"
      ]
    },
    {
      "cell_type": "markdown",
      "source": [
        "Row with words is changed to sequence of numbers. Every word gets a number based on its frequency in the document"
      ],
      "metadata": {
        "id": "JwqLiNJjTBcm"
      }
    },
    {
      "cell_type": "code",
      "source": [
        "y_train"
      ],
      "metadata": {
        "colab": {
          "base_uri": "https://localhost:8080/"
        },
        "id": "Z78TJp9iSuIA",
        "outputId": "88336041-f8f4-461d-a02f-e6d34dcdac5d"
      },
      "execution_count": null,
      "outputs": [
        {
          "output_type": "execute_result",
          "data": {
            "text/plain": [
              "array([1, 0, 0, ..., 0, 1, 0])"
            ]
          },
          "metadata": {},
          "execution_count": 12
        }
      ]
    },
    {
      "cell_type": "code",
      "source": [
        "x_train[0][:10]"
      ],
      "metadata": {
        "colab": {
          "base_uri": "https://localhost:8080/"
        },
        "id": "cqhDQR7oSawa",
        "outputId": "13c94a06-f58a-443e-bdeb-eb97e16ed964"
      },
      "execution_count": null,
      "outputs": [
        {
          "output_type": "execute_result",
          "data": {
            "text/plain": [
              "[1, 14, 22, 16, 43, 530, 973, 1622, 1385, 65]"
            ]
          },
          "metadata": {},
          "execution_count": 13
        }
      ]
    },
    {
      "cell_type": "markdown",
      "source": [
        "Each of the rows in 'X' has sequence (of numbers) of different length. We will make each row of fixed length with the help of padding."
      ],
      "metadata": {
        "id": "SbskguXHTM1U"
      }
    },
    {
      "cell_type": "code",
      "execution_count": null,
      "metadata": {
        "id": "Jlmdd-osHSLT"
      },
      "outputs": [],
      "source": [
        "# Pad sequences to have the same length\n",
        "max_length = 200  # Maximum sequence length\n",
        "x_train = pad_sequences(x_train, maxlen=max_length, padding='pre')\n",
        "x_test = pad_sequences(x_test, maxlen=max_length, padding='pre')"
      ]
    },
    {
      "cell_type": "code",
      "execution_count": null,
      "metadata": {
        "id": "fRpbccA7HSIV"
      },
      "outputs": [],
      "source": [
        "model = Sequential()\n",
        "\n",
        "model.add(Embedding(input_dim=num_words, output_dim=128, input_length=max_length))\n",
        "model.add(LSTM(128))\n",
        "model.add(Dense(1, activation='sigmoid'))\n",
        "\n",
        "model.compile(loss='binary_crossentropy', optimizer='adam', metrics=['accuracy'])"
      ]
    },
    {
      "cell_type": "code",
      "source": [
        "model.summary()"
      ],
      "metadata": {
        "colab": {
          "base_uri": "https://localhost:8080/"
        },
        "id": "4gzzMhhCtS03",
        "outputId": "459a3229-2690-414c-8e4b-511b6fa865fa"
      },
      "execution_count": null,
      "outputs": [
        {
          "output_type": "stream",
          "name": "stdout",
          "text": [
            "Model: \"sequential\"\n",
            "_________________________________________________________________\n",
            " Layer (type)                Output Shape              Param #   \n",
            "=================================================================\n",
            " embedding (Embedding)       (None, 200, 128)          1280000   \n",
            "                                                                 \n",
            " lstm (LSTM)                 (None, 128)               131584    \n",
            "                                                                 \n",
            " dense (Dense)               (None, 1)                 129       \n",
            "                                                                 \n",
            "=================================================================\n",
            "Total params: 1411713 (5.39 MB)\n",
            "Trainable params: 1411713 (5.39 MB)\n",
            "Non-trainable params: 0 (0.00 Byte)\n",
            "_________________________________________________________________\n"
          ]
        }
      ]
    },
    {
      "cell_type": "code",
      "source": [
        "model.layers"
      ],
      "metadata": {
        "colab": {
          "base_uri": "https://localhost:8080/"
        },
        "id": "cVYVRn6ttFZl",
        "outputId": "06784d7c-3331-4b02-dd74-670adef58886"
      },
      "execution_count": null,
      "outputs": [
        {
          "output_type": "execute_result",
          "data": {
            "text/plain": [
              "[<keras.src.layers.core.embedding.Embedding at 0x7ce0df16c640>,\n",
              " <keras.src.layers.rnn.lstm.LSTM at 0x7ce0df16fca0>,\n",
              " <keras.src.layers.core.dense.Dense at 0x7ce0dfec1c60>]"
            ]
          },
          "metadata": {},
          "execution_count": 21
        }
      ]
    },
    {
      "cell_type": "code",
      "source": [
        "model.input_shape"
      ],
      "metadata": {
        "colab": {
          "base_uri": "https://localhost:8080/"
        },
        "id": "81dF3Ii6st2S",
        "outputId": "27c433d4-dc79-46a3-d7cb-c03e7695288b"
      },
      "execution_count": null,
      "outputs": [
        {
          "output_type": "execute_result",
          "data": {
            "text/plain": [
              "(None, 200)"
            ]
          },
          "metadata": {},
          "execution_count": 19
        }
      ]
    },
    {
      "cell_type": "code",
      "execution_count": null,
      "metadata": {
        "colab": {
          "base_uri": "https://localhost:8080/"
        },
        "id": "KTzoPHPpIUyw",
        "outputId": "c052ab18-8e10-439c-e6d7-d20898012ed1"
      },
      "outputs": [
        {
          "name": "stdout",
          "output_type": "stream",
          "text": [
            "Epoch 1/3\n",
            "391/391 [==============================] - 284s 721ms/step - loss: 0.3939 - accuracy: 0.8221 - val_loss: 0.3081 - val_accuracy: 0.8694\n",
            "Epoch 2/3\n",
            "391/391 [==============================] - 289s 739ms/step - loss: 0.2588 - accuracy: 0.8992 - val_loss: 0.3184 - val_accuracy: 0.8688\n",
            "Epoch 3/3\n",
            "391/391 [==============================] - 283s 724ms/step - loss: 0.1855 - accuracy: 0.9296 - val_loss: 0.3673 - val_accuracy: 0.8633\n"
          ]
        },
        {
          "data": {
            "text/plain": [
              "<keras.callbacks.History at 0x7d11d1d99d20>"
            ]
          },
          "execution_count": 7,
          "metadata": {},
          "output_type": "execute_result"
        }
      ],
      "source": [
        "model.fit(x_train, y_train, validation_data=(x_test, y_test), epochs=3, batch_size=64)"
      ]
    },
    {
      "cell_type": "code",
      "execution_count": null,
      "metadata": {
        "colab": {
          "base_uri": "https://localhost:8080/"
        },
        "id": "uNeO-BfkIUrm",
        "outputId": "0da024bc-fc7f-4d7f-a086-a4b91f3060df"
      },
      "outputs": [
        {
          "name": "stdout",
          "output_type": "stream",
          "text": [
            "782/782 [==============================] - 93s 118ms/step - loss: 0.3673 - accuracy: 0.8633\n",
            "Test loss: 0.3673, Test accuracy: 0.8633\n"
          ]
        }
      ],
      "source": [
        "loss, accuracy = model.evaluate(x_test, y_test)\n",
        "print(f\"Test loss: {loss:.4f}, Test accuracy: {accuracy:.4f}\")"
      ]
    },
    {
      "cell_type": "markdown",
      "metadata": {
        "id": "f2msOwILVYJ4"
      },
      "source": [
        "2. Using BBC news articles data"
      ]
    },
    {
      "cell_type": "markdown",
      "metadata": {
        "id": "_9LguoZ_a6pz"
      },
      "source": [
        "\n",
        "\n",
        "*   eda\n",
        "*   cleaning\n",
        "*   target variable\n",
        "*   words --> numbers\n",
        "*   embedding layer\n",
        "*   lstm\n",
        "\n"
      ]
    },
    {
      "cell_type": "code",
      "source": [
        "import pandas as pd\n",
        "import numpy as np\n",
        "import matplotlib.pyplot as plt\n",
        "import seaborn as sns\n",
        "\n",
        "from keras.preprocessing.text import Tokenizer\n",
        "from sklearn.preprocessing import LabelEncoder\n",
        "from keras.utils import pad_sequences\n",
        "from keras.models import Sequential\n",
        "from keras.layers import Dense, Embedding, LSTM, SpatialDropout1D\n",
        "from sklearn.model_selection import train_test_split\n",
        "\n",
        "from sklearn.metrics import confusion_matrix\n",
        "import itertools"
      ],
      "metadata": {
        "id": "WdBxYD-epF00"
      },
      "execution_count": null,
      "outputs": []
    },
    {
      "cell_type": "code",
      "execution_count": null,
      "metadata": {
        "id": "RwiFdvhuVcS6"
      },
      "outputs": [],
      "source": [
        "raw_df = pd.read_csv('bbc-text.csv')"
      ]
    },
    {
      "cell_type": "code",
      "execution_count": null,
      "metadata": {
        "colab": {
          "base_uri": "https://localhost:8080/",
          "height": 206
        },
        "id": "Tl86pi1ddeth",
        "outputId": "4df3e654-befd-4636-c1d5-eda003295890"
      },
      "outputs": [
        {
          "output_type": "execute_result",
          "data": {
            "text/plain": [
              "        category                                               text\n",
              "0           tech  tv future in the hands of viewers with home th...\n",
              "1       business  worldcom boss  left books alone  former worldc...\n",
              "2          sport  tigers wary of farrell  gamble  leicester say ...\n",
              "3          sport  yeading face newcastle in fa cup premiership s...\n",
              "4  entertainment  ocean s twelve raids box office ocean s twelve..."
            ],
            "text/html": [
              "\n",
              "  <div id=\"df-f6961f39-37ed-4d2e-9fc0-081dcba0e866\" class=\"colab-df-container\">\n",
              "    <div>\n",
              "<style scoped>\n",
              "    .dataframe tbody tr th:only-of-type {\n",
              "        vertical-align: middle;\n",
              "    }\n",
              "\n",
              "    .dataframe tbody tr th {\n",
              "        vertical-align: top;\n",
              "    }\n",
              "\n",
              "    .dataframe thead th {\n",
              "        text-align: right;\n",
              "    }\n",
              "</style>\n",
              "<table border=\"1\" class=\"dataframe\">\n",
              "  <thead>\n",
              "    <tr style=\"text-align: right;\">\n",
              "      <th></th>\n",
              "      <th>category</th>\n",
              "      <th>text</th>\n",
              "    </tr>\n",
              "  </thead>\n",
              "  <tbody>\n",
              "    <tr>\n",
              "      <th>0</th>\n",
              "      <td>tech</td>\n",
              "      <td>tv future in the hands of viewers with home th...</td>\n",
              "    </tr>\n",
              "    <tr>\n",
              "      <th>1</th>\n",
              "      <td>business</td>\n",
              "      <td>worldcom boss  left books alone  former worldc...</td>\n",
              "    </tr>\n",
              "    <tr>\n",
              "      <th>2</th>\n",
              "      <td>sport</td>\n",
              "      <td>tigers wary of farrell  gamble  leicester say ...</td>\n",
              "    </tr>\n",
              "    <tr>\n",
              "      <th>3</th>\n",
              "      <td>sport</td>\n",
              "      <td>yeading face newcastle in fa cup premiership s...</td>\n",
              "    </tr>\n",
              "    <tr>\n",
              "      <th>4</th>\n",
              "      <td>entertainment</td>\n",
              "      <td>ocean s twelve raids box office ocean s twelve...</td>\n",
              "    </tr>\n",
              "  </tbody>\n",
              "</table>\n",
              "</div>\n",
              "    <div class=\"colab-df-buttons\">\n",
              "\n",
              "  <div class=\"colab-df-container\">\n",
              "    <button class=\"colab-df-convert\" onclick=\"convertToInteractive('df-f6961f39-37ed-4d2e-9fc0-081dcba0e866')\"\n",
              "            title=\"Convert this dataframe to an interactive table.\"\n",
              "            style=\"display:none;\">\n",
              "\n",
              "  <svg xmlns=\"http://www.w3.org/2000/svg\" height=\"24px\" viewBox=\"0 -960 960 960\">\n",
              "    <path d=\"M120-120v-720h720v720H120Zm60-500h600v-160H180v160Zm220 220h160v-160H400v160Zm0 220h160v-160H400v160ZM180-400h160v-160H180v160Zm440 0h160v-160H620v160ZM180-180h160v-160H180v160Zm440 0h160v-160H620v160Z\"/>\n",
              "  </svg>\n",
              "    </button>\n",
              "\n",
              "  <style>\n",
              "    .colab-df-container {\n",
              "      display:flex;\n",
              "      gap: 12px;\n",
              "    }\n",
              "\n",
              "    .colab-df-convert {\n",
              "      background-color: #E8F0FE;\n",
              "      border: none;\n",
              "      border-radius: 50%;\n",
              "      cursor: pointer;\n",
              "      display: none;\n",
              "      fill: #1967D2;\n",
              "      height: 32px;\n",
              "      padding: 0 0 0 0;\n",
              "      width: 32px;\n",
              "    }\n",
              "\n",
              "    .colab-df-convert:hover {\n",
              "      background-color: #E2EBFA;\n",
              "      box-shadow: 0px 1px 2px rgba(60, 64, 67, 0.3), 0px 1px 3px 1px rgba(60, 64, 67, 0.15);\n",
              "      fill: #174EA6;\n",
              "    }\n",
              "\n",
              "    .colab-df-buttons div {\n",
              "      margin-bottom: 4px;\n",
              "    }\n",
              "\n",
              "    [theme=dark] .colab-df-convert {\n",
              "      background-color: #3B4455;\n",
              "      fill: #D2E3FC;\n",
              "    }\n",
              "\n",
              "    [theme=dark] .colab-df-convert:hover {\n",
              "      background-color: #434B5C;\n",
              "      box-shadow: 0px 1px 3px 1px rgba(0, 0, 0, 0.15);\n",
              "      filter: drop-shadow(0px 1px 2px rgba(0, 0, 0, 0.3));\n",
              "      fill: #FFFFFF;\n",
              "    }\n",
              "  </style>\n",
              "\n",
              "    <script>\n",
              "      const buttonEl =\n",
              "        document.querySelector('#df-f6961f39-37ed-4d2e-9fc0-081dcba0e866 button.colab-df-convert');\n",
              "      buttonEl.style.display =\n",
              "        google.colab.kernel.accessAllowed ? 'block' : 'none';\n",
              "\n",
              "      async function convertToInteractive(key) {\n",
              "        const element = document.querySelector('#df-f6961f39-37ed-4d2e-9fc0-081dcba0e866');\n",
              "        const dataTable =\n",
              "          await google.colab.kernel.invokeFunction('convertToInteractive',\n",
              "                                                    [key], {});\n",
              "        if (!dataTable) return;\n",
              "\n",
              "        const docLinkHtml = 'Like what you see? Visit the ' +\n",
              "          '<a target=\"_blank\" href=https://colab.research.google.com/notebooks/data_table.ipynb>data table notebook</a>'\n",
              "          + ' to learn more about interactive tables.';\n",
              "        element.innerHTML = '';\n",
              "        dataTable['output_type'] = 'display_data';\n",
              "        await google.colab.output.renderOutput(dataTable, element);\n",
              "        const docLink = document.createElement('div');\n",
              "        docLink.innerHTML = docLinkHtml;\n",
              "        element.appendChild(docLink);\n",
              "      }\n",
              "    </script>\n",
              "  </div>\n",
              "\n",
              "\n",
              "<div id=\"df-47f96379-5e40-44d2-b9c4-8905d3c463b2\">\n",
              "  <button class=\"colab-df-quickchart\" onclick=\"quickchart('df-47f96379-5e40-44d2-b9c4-8905d3c463b2')\"\n",
              "            title=\"Suggest charts.\"\n",
              "            style=\"display:none;\">\n",
              "\n",
              "<svg xmlns=\"http://www.w3.org/2000/svg\" height=\"24px\"viewBox=\"0 0 24 24\"\n",
              "     width=\"24px\">\n",
              "    <g>\n",
              "        <path d=\"M19 3H5c-1.1 0-2 .9-2 2v14c0 1.1.9 2 2 2h14c1.1 0 2-.9 2-2V5c0-1.1-.9-2-2-2zM9 17H7v-7h2v7zm4 0h-2V7h2v10zm4 0h-2v-4h2v4z\"/>\n",
              "    </g>\n",
              "</svg>\n",
              "  </button>\n",
              "\n",
              "<style>\n",
              "  .colab-df-quickchart {\n",
              "      --bg-color: #E8F0FE;\n",
              "      --fill-color: #1967D2;\n",
              "      --hover-bg-color: #E2EBFA;\n",
              "      --hover-fill-color: #174EA6;\n",
              "      --disabled-fill-color: #AAA;\n",
              "      --disabled-bg-color: #DDD;\n",
              "  }\n",
              "\n",
              "  [theme=dark] .colab-df-quickchart {\n",
              "      --bg-color: #3B4455;\n",
              "      --fill-color: #D2E3FC;\n",
              "      --hover-bg-color: #434B5C;\n",
              "      --hover-fill-color: #FFFFFF;\n",
              "      --disabled-bg-color: #3B4455;\n",
              "      --disabled-fill-color: #666;\n",
              "  }\n",
              "\n",
              "  .colab-df-quickchart {\n",
              "    background-color: var(--bg-color);\n",
              "    border: none;\n",
              "    border-radius: 50%;\n",
              "    cursor: pointer;\n",
              "    display: none;\n",
              "    fill: var(--fill-color);\n",
              "    height: 32px;\n",
              "    padding: 0;\n",
              "    width: 32px;\n",
              "  }\n",
              "\n",
              "  .colab-df-quickchart:hover {\n",
              "    background-color: var(--hover-bg-color);\n",
              "    box-shadow: 0 1px 2px rgba(60, 64, 67, 0.3), 0 1px 3px 1px rgba(60, 64, 67, 0.15);\n",
              "    fill: var(--button-hover-fill-color);\n",
              "  }\n",
              "\n",
              "  .colab-df-quickchart-complete:disabled,\n",
              "  .colab-df-quickchart-complete:disabled:hover {\n",
              "    background-color: var(--disabled-bg-color);\n",
              "    fill: var(--disabled-fill-color);\n",
              "    box-shadow: none;\n",
              "  }\n",
              "\n",
              "  .colab-df-spinner {\n",
              "    border: 2px solid var(--fill-color);\n",
              "    border-color: transparent;\n",
              "    border-bottom-color: var(--fill-color);\n",
              "    animation:\n",
              "      spin 1s steps(1) infinite;\n",
              "  }\n",
              "\n",
              "  @keyframes spin {\n",
              "    0% {\n",
              "      border-color: transparent;\n",
              "      border-bottom-color: var(--fill-color);\n",
              "      border-left-color: var(--fill-color);\n",
              "    }\n",
              "    20% {\n",
              "      border-color: transparent;\n",
              "      border-left-color: var(--fill-color);\n",
              "      border-top-color: var(--fill-color);\n",
              "    }\n",
              "    30% {\n",
              "      border-color: transparent;\n",
              "      border-left-color: var(--fill-color);\n",
              "      border-top-color: var(--fill-color);\n",
              "      border-right-color: var(--fill-color);\n",
              "    }\n",
              "    40% {\n",
              "      border-color: transparent;\n",
              "      border-right-color: var(--fill-color);\n",
              "      border-top-color: var(--fill-color);\n",
              "    }\n",
              "    60% {\n",
              "      border-color: transparent;\n",
              "      border-right-color: var(--fill-color);\n",
              "    }\n",
              "    80% {\n",
              "      border-color: transparent;\n",
              "      border-right-color: var(--fill-color);\n",
              "      border-bottom-color: var(--fill-color);\n",
              "    }\n",
              "    90% {\n",
              "      border-color: transparent;\n",
              "      border-bottom-color: var(--fill-color);\n",
              "    }\n",
              "  }\n",
              "</style>\n",
              "\n",
              "  <script>\n",
              "    async function quickchart(key) {\n",
              "      const quickchartButtonEl =\n",
              "        document.querySelector('#' + key + ' button');\n",
              "      quickchartButtonEl.disabled = true;  // To prevent multiple clicks.\n",
              "      quickchartButtonEl.classList.add('colab-df-spinner');\n",
              "      try {\n",
              "        const charts = await google.colab.kernel.invokeFunction(\n",
              "            'suggestCharts', [key], {});\n",
              "      } catch (error) {\n",
              "        console.error('Error during call to suggestCharts:', error);\n",
              "      }\n",
              "      quickchartButtonEl.classList.remove('colab-df-spinner');\n",
              "      quickchartButtonEl.classList.add('colab-df-quickchart-complete');\n",
              "    }\n",
              "    (() => {\n",
              "      let quickchartButtonEl =\n",
              "        document.querySelector('#df-47f96379-5e40-44d2-b9c4-8905d3c463b2 button');\n",
              "      quickchartButtonEl.style.display =\n",
              "        google.colab.kernel.accessAllowed ? 'block' : 'none';\n",
              "    })();\n",
              "  </script>\n",
              "</div>\n",
              "    </div>\n",
              "  </div>\n"
            ]
          },
          "metadata": {},
          "execution_count": 66
        }
      ],
      "source": [
        "raw_df.head()"
      ]
    },
    {
      "cell_type": "code",
      "source": [
        "raw_df.shape"
      ],
      "metadata": {
        "colab": {
          "base_uri": "https://localhost:8080/"
        },
        "id": "LEFiGPJtoMP8",
        "outputId": "a714584c-bd79-4408-9905-1ce2e6d456de"
      },
      "execution_count": null,
      "outputs": [
        {
          "output_type": "execute_result",
          "data": {
            "text/plain": [
              "(2225, 2)"
            ]
          },
          "metadata": {},
          "execution_count": 67
        }
      ]
    },
    {
      "cell_type": "code",
      "execution_count": null,
      "metadata": {
        "colab": {
          "base_uri": "https://localhost:8080/"
        },
        "id": "GSx8WLwTVcDx",
        "outputId": "4a8f89d8-5242-4f12-ada1-60a29dd993a6"
      },
      "outputs": [
        {
          "output_type": "execute_result",
          "data": {
            "text/plain": [
              "sport            511\n",
              "business         510\n",
              "politics         417\n",
              "tech             401\n",
              "entertainment    386\n",
              "Name: category, dtype: int64"
            ]
          },
          "metadata": {},
          "execution_count": 68
        }
      ],
      "source": [
        "raw_df['category'].value_counts()"
      ]
    },
    {
      "cell_type": "code",
      "source": [
        "# Plotting number of samples within each category\n",
        "print('NUMBER OF SAMPLES IN EACH CATEGORY: \\n')\n",
        "sns.countplot(x = raw_df['category'])"
      ],
      "metadata": {
        "colab": {
          "base_uri": "https://localhost:8080/",
          "height": 503
        },
        "id": "odUkp7_BpA-0",
        "outputId": "bb54a2cf-1743-45cc-e1bb-dc6b86b8077f"
      },
      "execution_count": null,
      "outputs": [
        {
          "output_type": "stream",
          "name": "stdout",
          "text": [
            "NUMBER OF SAMPLES IN EACH CATEGORY: \n",
            "\n"
          ]
        },
        {
          "output_type": "execute_result",
          "data": {
            "text/plain": [
              "<Axes: xlabel='category', ylabel='count'>"
            ]
          },
          "metadata": {},
          "execution_count": 69
        },
        {
          "output_type": "display_data",
          "data": {
            "text/plain": [
              "<Figure size 640x480 with 1 Axes>"
            ],
            "image/png": "[encoded data removed]"
          },
          "metadata": {}
        }
      ]
    },
    {
      "cell_type": "code",
      "execution_count": null,
      "metadata": {
        "id": "DNWz8_DhHxIm"
      },
      "outputs": [],
      "source": [
        "raw_df['word_count'] = raw_df['text'].apply(lambda x: len(x.split(' ')))"
      ]
    },
    {
      "cell_type": "code",
      "execution_count": null,
      "metadata": {
        "colab": {
          "base_uri": "https://localhost:8080/"
        },
        "id": "vGo17ZYxHxE8",
        "outputId": "e5369f54-5e0e-4c65-90b2-02bb0fd1227d"
      },
      "outputs": [
        {
          "output_type": "execute_result",
          "data": {
            "text/plain": [
              "count    2225.000000\n",
              "mean      419.757303\n",
              "std       260.055935\n",
              "min        94.000000\n",
              "25%       268.000000\n",
              "50%       361.000000\n",
              "75%       514.000000\n",
              "max      4759.000000\n",
              "Name: word_count, dtype: float64"
            ]
          },
          "metadata": {},
          "execution_count": 71
        }
      ],
      "source": [
        "raw_df['word_count'].describe()"
      ]
    },
    {
      "cell_type": "markdown",
      "source": [
        "## **Text Cleaning**"
      ],
      "metadata": {
        "id": "15g5GDuMrg7A"
      }
    },
    {
      "cell_type": "code",
      "execution_count": null,
      "metadata": {
        "id": "jCTS8y2KKD9u"
      },
      "outputs": [],
      "source": [
        "import re\n",
        "from nltk import word_tokenize\n",
        "import nltk\n",
        "from nltk.corpus import stopwords"
      ]
    },
    {
      "cell_type": "code",
      "execution_count": null,
      "metadata": {
        "id": "hzl-DQFfI0Pi",
        "colab": {
          "base_uri": "https://localhost:8080/"
        },
        "outputId": "0a2406bf-d2f5-4709-d73e-333c71d69be4"
      },
      "outputs": [
        {
          "output_type": "stream",
          "name": "stderr",
          "text": [
            "[nltk_data] Downloading package stopwords to /root/nltk_data...\n",
            "[nltk_data]   Package stopwords is already up-to-date!\n"
          ]
        }
      ],
      "source": [
        "space = re.compile('[/(){}\\[\\]\\|@,;]')\n",
        "symbols= re.compile('[^0-9a-z #+_]')\n",
        "nltk.download('stopwords')\n",
        "STOPWORDS = set(stopwords.words('english'))\n",
        "\n",
        "def clean_text(text):\n",
        "    text = text.lower() # lowercase text\n",
        "    text = space.sub(' ', text) # replace REPLACE_BY_SPACE_RE symbols by space in text. substitute the matched string in REPLACE_BY_SPACE_RE with space.\n",
        "    text = symbols.sub('', text) # remove symbols which are in BAD_SYMBOLS_RE from text. substitute the matched string in BAD_SYMBOLS_RE with nothing.\n",
        "    text = text.replace('x', '')\n",
        "#    text = re.sub(r'\\W+', '', text)\n",
        "    text = ' '.join(word for word in text.split() if word not in STOPWORDS) # remove stopwors from text\n",
        "    return text"
      ]
    },
    {
      "cell_type": "code",
      "source": [],
      "metadata": {
        "id": "e_ij1erSg2jj"
      },
      "execution_count": null,
      "outputs": []
    },
    {
      "cell_type": "code",
      "execution_count": null,
      "metadata": {
        "id": "htzlMZbeHxB8"
      },
      "outputs": [],
      "source": [
        "raw_df['clean_text']=raw_df['text'].apply(clean_text)"
      ]
    },
    {
      "cell_type": "code",
      "execution_count": null,
      "metadata": {
        "id": "tC0jem1WJmEQ"
      },
      "outputs": [],
      "source": [
        "raw_df['word_count_clean'] = raw_df['clean_text'].apply(lambda x: len(x.split(' ')))"
      ]
    },
    {
      "cell_type": "code",
      "execution_count": null,
      "metadata": {
        "id": "7Jpp0o1jHw8d"
      },
      "outputs": [],
      "source": [
        "diff = raw_df['word_count'] - raw_df['word_count_clean']"
      ]
    },
    {
      "cell_type": "code",
      "execution_count": null,
      "metadata": {
        "colab": {
          "base_uri": "https://localhost:8080/"
        },
        "id": "7y8eVb7JHw5v",
        "outputId": "da6965b4-89c2-47eb-a03b-942f9a04d96b"
      },
      "outputs": [
        {
          "output_type": "execute_result",
          "data": {
            "text/plain": [
              "(197.5838202247191, 136.43006650826524, 45, 2546)"
            ]
          },
          "metadata": {},
          "execution_count": 81
        }
      ],
      "source": [
        "diff.mean(), diff.std(), diff.min(), diff.max()"
      ]
    },
    {
      "cell_type": "code",
      "execution_count": null,
      "metadata": {
        "colab": {
          "base_uri": "https://localhost:8080/",
          "height": 1000
        },
        "id": "XQ_3Ap1iIUpO",
        "outputId": "8c279a9d-5ef1-4825-e5c9-2211099d0bf8"
      },
      "outputs": [
        {
          "output_type": "execute_result",
          "data": {
            "text/plain": [
              "         category                                               text  \\\n",
              "0            tech  tv future in the hands of viewers with home th...   \n",
              "1        business  worldcom boss  left books alone  former worldc...   \n",
              "2           sport  tigers wary of farrell  gamble  leicester say ...   \n",
              "3           sport  yeading face newcastle in fa cup premiership s...   \n",
              "4   entertainment  ocean s twelve raids box office ocean s twelve...   \n",
              "5        politics  howard hits back at mongrel jibe michael howar...   \n",
              "6        politics  blair prepares to name poll date tony blair is...   \n",
              "7           sport  henman hopes ended in dubai third seed tim hen...   \n",
              "8           sport  wilkinson fit to face edinburgh england captai...   \n",
              "9   entertainment  last star wars  not for children  the sixth an...   \n",
              "10  entertainment  berlin cheers for anti-nazi film a german movi...   \n",
              "11       business  virgin blue shares plummet 20% shares in austr...   \n",
              "12       business  crude oil prices back above $50 cold weather a...   \n",
              "13       politics  hague  given up  his pm ambition former conser...   \n",
              "14          sport  moya emotional after davis cup win carlos moya...   \n",
              "15       business  s korean credit card firm rescued south korea ...   \n",
              "16       politics  howard backs stem cell research michael howard...   \n",
              "17          sport  connors boost for british tennis former world ...   \n",
              "18       business  japanese banking battle at an end japan s sumi...   \n",
              "19           tech  games maker fights for survival one of britain...   \n",
              "20           tech  security warning over  fbi virus  the us feder...   \n",
              "21           tech  halo 2 heralds traffic explosion the growing p...   \n",
              "22          sport  bates seals takeover ken bates has completed h...   \n",
              "23          sport  cole faces lengthy injury lay-off aston villa ...   \n",
              "24           tech  mobile audio enters new dimension as mobile ph...   \n",
              "25          sport  moya fights back for indian title carlos moya ...   \n",
              "26  entertainment  career honour for actor dicaprio actor leonard...   \n",
              "27           tech  mobile gig aims to rock 3g forget about going ...   \n",
              "28       politics  terror suspects face house arrest uk citizens ...   \n",
              "29  entertainment  halloween writer debra hill dies screenwriter ...   \n",
              "\n",
              "    word_count                                         clean_text  \\\n",
              "0          806  tv future hands viewers home theatre systems p...   \n",
              "1          332  worldcom boss left books alone former worldcom...   \n",
              "2          270  tigers wary farrell gamble leicester say rushe...   \n",
              "3          390  yeading face newcastle fa cup premiership side...   \n",
              "4          287  ocean twelve raids bo office ocean twelve crim...   \n",
              "5          701  howard hits back mongrel jibe michael howard s...   \n",
              "6          284  blair prepares name poll date tony blair likel...   \n",
              "7          202  henman hopes ended dubai third seed tim henman...   \n",
              "8          163  wilkinson fit face edinburgh england captain j...   \n",
              "9          253  last star wars children sith final star wars m...   \n",
              "10         326  berlin cheers antinazi film german movie antin...   \n",
              "11         216  virgin blue shares plummet 20 shares australia...   \n",
              "12         360  crude oil prices back 50 cold weather across p...   \n",
              "13         324  hague given pm ambition former conservative le...   \n",
              "14         498  moya emotional davis cup win carlos moya descr...   \n",
              "15         311  korean credit card firm rescued south korea la...   \n",
              "16         439  howard backs stem cell research michael howard...   \n",
              "17         479  connors boost british tennis former world numb...   \n",
              "18         310  japanese banking battle end japan sumitomo mit...   \n",
              "19         497  games maker fights survival one britain larges...   \n",
              "20         229  security warning fbi virus us federal bureau i...   \n",
              "21         381  halo 2 heralds traffic eplosion growing popula...   \n",
              "22         650  bates seals takeover ken bates completed takeo...   \n",
              "23         163  cole faces lengthy injury layoff aston villa c...   \n",
              "24         709  mobile audio enters new dimension mobile phone...   \n",
              "25         218  moya fights back indian title carlos moya beca...   \n",
              "26         278  career honour actor dicaprio actor leonardo di...   \n",
              "27         325  mobile gig aims rock 3g forget going crowded b...   \n",
              "28         619  terror suspects face house arrest uk citizens ...   \n",
              "29         430  halloween writer debra hill dies screenwriter ...   \n",
              "\n",
              "    word_count_clean  \n",
              "0                410  \n",
              "1                190  \n",
              "2                130  \n",
              "3                270  \n",
              "4                177  \n",
              "5                348  \n",
              "6                152  \n",
              "7                103  \n",
              "8                 94  \n",
              "9                130  \n",
              "10               181  \n",
              "11               135  \n",
              "12               201  \n",
              "13               151  \n",
              "14               235  \n",
              "15               167  \n",
              "16               217  \n",
              "17               203  \n",
              "18               171  \n",
              "19               260  \n",
              "20               110  \n",
              "21               210  \n",
              "22               313  \n",
              "23                79  \n",
              "24               353  \n",
              "25               132  \n",
              "26               133  \n",
              "27               166  \n",
              "28               351  \n",
              "29               217  "
            ],
            "text/html": [
              "\n",
              "  <div id=\"df-6e3f583c-7f88-4fa3-acc9-6c6512e08a62\" class=\"colab-df-container\">\n",
              "    <div>\n",
              "<style scoped>\n",
              "    .dataframe tbody tr th:only-of-type {\n",
              "        vertical-align: middle;\n",
              "    }\n",
              "\n",
              "    .dataframe tbody tr th {\n",
              "        vertical-align: top;\n",
              "    }\n",
              "\n",
              "    .dataframe thead th {\n",
              "        text-align: right;\n",
              "    }\n",
              "</style>\n",
              "<table border=\"1\" class=\"dataframe\">\n",
              "  <thead>\n",
              "    <tr style=\"text-align: right;\">\n",
              "      <th></th>\n",
              "      <th>category</th>\n",
              "      <th>text</th>\n",
              "      <th>word_count</th>\n",
              "      <th>clean_text</th>\n",
              "      <th>word_count_clean</th>\n",
              "    </tr>\n",
              "  </thead>\n",
              "  <tbody>\n",
              "    <tr>\n",
              "      <th>0</th>\n",
              "      <td>tech</td>\n",
              "      <td>tv future in the hands of viewers with home th...</td>\n",
              "      <td>806</td>\n",
              "      <td>tv future hands viewers home theatre systems p...</td>\n",
              "      <td>410</td>\n",
              "    </tr>\n",
              "    <tr>\n",
              "      <th>1</th>\n",
              "      <td>business</td>\n",
              "      <td>worldcom boss  left books alone  former worldc...</td>\n",
              "      <td>332</td>\n",
              "      <td>worldcom boss left books alone former worldcom...</td>\n",
              "      <td>190</td>\n",
              "    </tr>\n",
              "    <tr>\n",
              "      <th>2</th>\n",
              "      <td>sport</td>\n",
              "      <td>tigers wary of farrell  gamble  leicester say ...</td>\n",
              "      <td>270</td>\n",
              "      <td>tigers wary farrell gamble leicester say rushe...</td>\n",
              "      <td>130</td>\n",
              "    </tr>\n",
              "    <tr>\n",
              "      <th>3</th>\n",
              "      <td>sport</td>\n",
              "      <td>yeading face newcastle in fa cup premiership s...</td>\n",
              "      <td>390</td>\n",
              "      <td>yeading face newcastle fa cup premiership side...</td>\n",
              "      <td>270</td>\n",
              "    </tr>\n",
              "    <tr>\n",
              "      <th>4</th>\n",
              "      <td>entertainment</td>\n",
              "      <td>ocean s twelve raids box office ocean s twelve...</td>\n",
              "      <td>287</td>\n",
              "      <td>ocean twelve raids bo office ocean twelve crim...</td>\n",
              "      <td>177</td>\n",
              "    </tr>\n",
              "    <tr>\n",
              "      <th>5</th>\n",
              "      <td>politics</td>\n",
              "      <td>howard hits back at mongrel jibe michael howar...</td>\n",
              "      <td>701</td>\n",
              "      <td>howard hits back mongrel jibe michael howard s...</td>\n",
              "      <td>348</td>\n",
              "    </tr>\n",
              "    <tr>\n",
              "      <th>6</th>\n",
              "      <td>politics</td>\n",
              "      <td>blair prepares to name poll date tony blair is...</td>\n",
              "      <td>284</td>\n",
              "      <td>blair prepares name poll date tony blair likel...</td>\n",
              "      <td>152</td>\n",
              "    </tr>\n",
              "    <tr>\n",
              "      <th>7</th>\n",
              "      <td>sport</td>\n",
              "      <td>henman hopes ended in dubai third seed tim hen...</td>\n",
              "      <td>202</td>\n",
              "      <td>henman hopes ended dubai third seed tim henman...</td>\n",
              "      <td>103</td>\n",
              "    </tr>\n",
              "    <tr>\n",
              "      <th>8</th>\n",
              "      <td>sport</td>\n",
              "      <td>wilkinson fit to face edinburgh england captai...</td>\n",
              "      <td>163</td>\n",
              "      <td>wilkinson fit face edinburgh england captain j...</td>\n",
              "      <td>94</td>\n",
              "    </tr>\n",
              "    <tr>\n",
              "      <th>9</th>\n",
              "      <td>entertainment</td>\n",
              "      <td>last star wars  not for children  the sixth an...</td>\n",
              "      <td>253</td>\n",
              "      <td>last star wars children sith final star wars m...</td>\n",
              "      <td>130</td>\n",
              "    </tr>\n",
              "    <tr>\n",
              "      <th>10</th>\n",
              "      <td>entertainment</td>\n",
              "      <td>berlin cheers for anti-nazi film a german movi...</td>\n",
              "      <td>326</td>\n",
              "      <td>berlin cheers antinazi film german movie antin...</td>\n",
              "      <td>181</td>\n",
              "    </tr>\n",
              "    <tr>\n",
              "      <th>11</th>\n",
              "      <td>business</td>\n",
              "      <td>virgin blue shares plummet 20% shares in austr...</td>\n",
              "      <td>216</td>\n",
              "      <td>virgin blue shares plummet 20 shares australia...</td>\n",
              "      <td>135</td>\n",
              "    </tr>\n",
              "    <tr>\n",
              "      <th>12</th>\n",
              "      <td>business</td>\n",
              "      <td>crude oil prices back above $50 cold weather a...</td>\n",
              "      <td>360</td>\n",
              "      <td>crude oil prices back 50 cold weather across p...</td>\n",
              "      <td>201</td>\n",
              "    </tr>\n",
              "    <tr>\n",
              "      <th>13</th>\n",
              "      <td>politics</td>\n",
              "      <td>hague  given up  his pm ambition former conser...</td>\n",
              "      <td>324</td>\n",
              "      <td>hague given pm ambition former conservative le...</td>\n",
              "      <td>151</td>\n",
              "    </tr>\n",
              "    <tr>\n",
              "      <th>14</th>\n",
              "      <td>sport</td>\n",
              "      <td>moya emotional after davis cup win carlos moya...</td>\n",
              "      <td>498</td>\n",
              "      <td>moya emotional davis cup win carlos moya descr...</td>\n",
              "      <td>235</td>\n",
              "    </tr>\n",
              "    <tr>\n",
              "      <th>15</th>\n",
              "      <td>business</td>\n",
              "      <td>s korean credit card firm rescued south korea ...</td>\n",
              "      <td>311</td>\n",
              "      <td>korean credit card firm rescued south korea la...</td>\n",
              "      <td>167</td>\n",
              "    </tr>\n",
              "    <tr>\n",
              "      <th>16</th>\n",
              "      <td>politics</td>\n",
              "      <td>howard backs stem cell research michael howard...</td>\n",
              "      <td>439</td>\n",
              "      <td>howard backs stem cell research michael howard...</td>\n",
              "      <td>217</td>\n",
              "    </tr>\n",
              "    <tr>\n",
              "      <th>17</th>\n",
              "      <td>sport</td>\n",
              "      <td>connors boost for british tennis former world ...</td>\n",
              "      <td>479</td>\n",
              "      <td>connors boost british tennis former world numb...</td>\n",
              "      <td>203</td>\n",
              "    </tr>\n",
              "    <tr>\n",
              "      <th>18</th>\n",
              "      <td>business</td>\n",
              "      <td>japanese banking battle at an end japan s sumi...</td>\n",
              "      <td>310</td>\n",
              "      <td>japanese banking battle end japan sumitomo mit...</td>\n",
              "      <td>171</td>\n",
              "    </tr>\n",
              "    <tr>\n",
              "      <th>19</th>\n",
              "      <td>tech</td>\n",
              "      <td>games maker fights for survival one of britain...</td>\n",
              "      <td>497</td>\n",
              "      <td>games maker fights survival one britain larges...</td>\n",
              "      <td>260</td>\n",
              "    </tr>\n",
              "    <tr>\n",
              "      <th>20</th>\n",
              "      <td>tech</td>\n",
              "      <td>security warning over  fbi virus  the us feder...</td>\n",
              "      <td>229</td>\n",
              "      <td>security warning fbi virus us federal bureau i...</td>\n",
              "      <td>110</td>\n",
              "    </tr>\n",
              "    <tr>\n",
              "      <th>21</th>\n",
              "      <td>tech</td>\n",
              "      <td>halo 2 heralds traffic explosion the growing p...</td>\n",
              "      <td>381</td>\n",
              "      <td>halo 2 heralds traffic eplosion growing popula...</td>\n",
              "      <td>210</td>\n",
              "    </tr>\n",
              "    <tr>\n",
              "      <th>22</th>\n",
              "      <td>sport</td>\n",
              "      <td>bates seals takeover ken bates has completed h...</td>\n",
              "      <td>650</td>\n",
              "      <td>bates seals takeover ken bates completed takeo...</td>\n",
              "      <td>313</td>\n",
              "    </tr>\n",
              "    <tr>\n",
              "      <th>23</th>\n",
              "      <td>sport</td>\n",
              "      <td>cole faces lengthy injury lay-off aston villa ...</td>\n",
              "      <td>163</td>\n",
              "      <td>cole faces lengthy injury layoff aston villa c...</td>\n",
              "      <td>79</td>\n",
              "    </tr>\n",
              "    <tr>\n",
              "      <th>24</th>\n",
              "      <td>tech</td>\n",
              "      <td>mobile audio enters new dimension as mobile ph...</td>\n",
              "      <td>709</td>\n",
              "      <td>mobile audio enters new dimension mobile phone...</td>\n",
              "      <td>353</td>\n",
              "    </tr>\n",
              "    <tr>\n",
              "      <th>25</th>\n",
              "      <td>sport</td>\n",
              "      <td>moya fights back for indian title carlos moya ...</td>\n",
              "      <td>218</td>\n",
              "      <td>moya fights back indian title carlos moya beca...</td>\n",
              "      <td>132</td>\n",
              "    </tr>\n",
              "    <tr>\n",
              "      <th>26</th>\n",
              "      <td>entertainment</td>\n",
              "      <td>career honour for actor dicaprio actor leonard...</td>\n",
              "      <td>278</td>\n",
              "      <td>career honour actor dicaprio actor leonardo di...</td>\n",
              "      <td>133</td>\n",
              "    </tr>\n",
              "    <tr>\n",
              "      <th>27</th>\n",
              "      <td>tech</td>\n",
              "      <td>mobile gig aims to rock 3g forget about going ...</td>\n",
              "      <td>325</td>\n",
              "      <td>mobile gig aims rock 3g forget going crowded b...</td>\n",
              "      <td>166</td>\n",
              "    </tr>\n",
              "    <tr>\n",
              "      <th>28</th>\n",
              "      <td>politics</td>\n",
              "      <td>terror suspects face house arrest uk citizens ...</td>\n",
              "      <td>619</td>\n",
              "      <td>terror suspects face house arrest uk citizens ...</td>\n",
              "      <td>351</td>\n",
              "    </tr>\n",
              "    <tr>\n",
              "      <th>29</th>\n",
              "      <td>entertainment</td>\n",
              "      <td>halloween writer debra hill dies screenwriter ...</td>\n",
              "      <td>430</td>\n",
              "      <td>halloween writer debra hill dies screenwriter ...</td>\n",
              "      <td>217</td>\n",
              "    </tr>\n",
              "  </tbody>\n",
              "</table>\n",
              "</div>\n",
              "    <div class=\"colab-df-buttons\">\n",
              "\n",
              "  <div class=\"colab-df-container\">\n",
              "    <button class=\"colab-df-convert\" onclick=\"convertToInteractive('df-6e3f583c-7f88-4fa3-acc9-6c6512e08a62')\"\n",
              "            title=\"Convert this dataframe to an interactive table.\"\n",
              "            style=\"display:none;\">\n",
              "\n",
              "  <svg xmlns=\"http://www.w3.org/2000/svg\" height=\"24px\" viewBox=\"0 -960 960 960\">\n",
              "    <path d=\"M120-120v-720h720v720H120Zm60-500h600v-160H180v160Zm220 220h160v-160H400v160Zm0 220h160v-160H400v160ZM180-400h160v-160H180v160Zm440 0h160v-160H620v160ZM180-180h160v-160H180v160Zm440 0h160v-160H620v160Z\"/>\n",
              "  </svg>\n",
              "    </button>\n",
              "\n",
              "  <style>\n",
              "    .colab-df-container {\n",
              "      display:flex;\n",
              "      gap: 12px;\n",
              "    }\n",
              "\n",
              "    .colab-df-convert {\n",
              "      background-color: #E8F0FE;\n",
              "      border: none;\n",
              "      border-radius: 50%;\n",
              "      cursor: pointer;\n",
              "      display: none;\n",
              "      fill: #1967D2;\n",
              "      height: 32px;\n",
              "      padding: 0 0 0 0;\n",
              "      width: 32px;\n",
              "    }\n",
              "\n",
              "    .colab-df-convert:hover {\n",
              "      background-color: #E2EBFA;\n",
              "      box-shadow: 0px 1px 2px rgba(60, 64, 67, 0.3), 0px 1px 3px 1px rgba(60, 64, 67, 0.15);\n",
              "      fill: #174EA6;\n",
              "    }\n",
              "\n",
              "    .colab-df-buttons div {\n",
              "      margin-bottom: 4px;\n",
              "    }\n",
              "\n",
              "    [theme=dark] .colab-df-convert {\n",
              "      background-color: #3B4455;\n",
              "      fill: #D2E3FC;\n",
              "    }\n",
              "\n",
              "    [theme=dark] .colab-df-convert:hover {\n",
              "      background-color: #434B5C;\n",
              "      box-shadow: 0px 1px 3px 1px rgba(0, 0, 0, 0.15);\n",
              "      filter: drop-shadow(0px 1px 2px rgba(0, 0, 0, 0.3));\n",
              "      fill: #FFFFFF;\n",
              "    }\n",
              "  </style>\n",
              "\n",
              "    <script>\n",
              "      const buttonEl =\n",
              "        document.querySelector('#df-6e3f583c-7f88-4fa3-acc9-6c6512e08a62 button.colab-df-convert');\n",
              "      buttonEl.style.display =\n",
              "        google.colab.kernel.accessAllowed ? 'block' : 'none';\n",
              "\n",
              "      async function convertToInteractive(key) {\n",
              "        const element = document.querySelector('#df-6e3f583c-7f88-4fa3-acc9-6c6512e08a62');\n",
              "        const dataTable =\n",
              "          await google.colab.kernel.invokeFunction('convertToInteractive',\n",
              "                                                    [key], {});\n",
              "        if (!dataTable) return;\n",
              "\n",
              "        const docLinkHtml = 'Like what you see? Visit the ' +\n",
              "          '<a target=\"_blank\" href=https://colab.research.google.com/notebooks/data_table.ipynb>data table notebook</a>'\n",
              "          + ' to learn more about interactive tables.';\n",
              "        element.innerHTML = '';\n",
              "        dataTable['output_type'] = 'display_data';\n",
              "        await google.colab.output.renderOutput(dataTable, element);\n",
              "        const docLink = document.createElement('div');\n",
              "        docLink.innerHTML = docLinkHtml;\n",
              "        element.appendChild(docLink);\n",
              "      }\n",
              "    </script>\n",
              "  </div>\n",
              "\n",
              "\n",
              "<div id=\"df-9b802b99-8e39-476a-bd00-c6e5e47aecb1\">\n",
              "  <button class=\"colab-df-quickchart\" onclick=\"quickchart('df-9b802b99-8e39-476a-bd00-c6e5e47aecb1')\"\n",
              "            title=\"Suggest charts.\"\n",
              "            style=\"display:none;\">\n",
              "\n",
              "<svg xmlns=\"http://www.w3.org/2000/svg\" height=\"24px\"viewBox=\"0 0 24 24\"\n",
              "     width=\"24px\">\n",
              "    <g>\n",
              "        <path d=\"M19 3H5c-1.1 0-2 .9-2 2v14c0 1.1.9 2 2 2h14c1.1 0 2-.9 2-2V5c0-1.1-.9-2-2-2zM9 17H7v-7h2v7zm4 0h-2V7h2v10zm4 0h-2v-4h2v4z\"/>\n",
              "    </g>\n",
              "</svg>\n",
              "  </button>\n",
              "\n",
              "<style>\n",
              "  .colab-df-quickchart {\n",
              "      --bg-color: #E8F0FE;\n",
              "      --fill-color: #1967D2;\n",
              "      --hover-bg-color: #E2EBFA;\n",
              "      --hover-fill-color: #174EA6;\n",
              "      --disabled-fill-color: #AAA;\n",
              "      --disabled-bg-color: #DDD;\n",
              "  }\n",
              "\n",
              "  [theme=dark] .colab-df-quickchart {\n",
              "      --bg-color: #3B4455;\n",
              "      --fill-color: #D2E3FC;\n",
              "      --hover-bg-color: #434B5C;\n",
              "      --hover-fill-color: #FFFFFF;\n",
              "      --disabled-bg-color: #3B4455;\n",
              "      --disabled-fill-color: #666;\n",
              "  }\n",
              "\n",
              "  .colab-df-quickchart {\n",
              "    background-color: var(--bg-color);\n",
              "    border: none;\n",
              "    border-radius: 50%;\n",
              "    cursor: pointer;\n",
              "    display: none;\n",
              "    fill: var(--fill-color);\n",
              "    height: 32px;\n",
              "    padding: 0;\n",
              "    width: 32px;\n",
              "  }\n",
              "\n",
              "  .colab-df-quickchart:hover {\n",
              "    background-color: var(--hover-bg-color);\n",
              "    box-shadow: 0 1px 2px rgba(60, 64, 67, 0.3), 0 1px 3px 1px rgba(60, 64, 67, 0.15);\n",
              "    fill: var(--button-hover-fill-color);\n",
              "  }\n",
              "\n",
              "  .colab-df-quickchart-complete:disabled,\n",
              "  .colab-df-quickchart-complete:disabled:hover {\n",
              "    background-color: var(--disabled-bg-color);\n",
              "    fill: var(--disabled-fill-color);\n",
              "    box-shadow: none;\n",
              "  }\n",
              "\n",
              "  .colab-df-spinner {\n",
              "    border: 2px solid var(--fill-color);\n",
              "    border-color: transparent;\n",
              "    border-bottom-color: var(--fill-color);\n",
              "    animation:\n",
              "      spin 1s steps(1) infinite;\n",
              "  }\n",
              "\n",
              "  @keyframes spin {\n",
              "    0% {\n",
              "      border-color: transparent;\n",
              "      border-bottom-color: var(--fill-color);\n",
              "      border-left-color: var(--fill-color);\n",
              "    }\n",
              "    20% {\n",
              "      border-color: transparent;\n",
              "      border-left-color: var(--fill-color);\n",
              "      border-top-color: var(--fill-color);\n",
              "    }\n",
              "    30% {\n",
              "      border-color: transparent;\n",
              "      border-left-color: var(--fill-color);\n",
              "      border-top-color: var(--fill-color);\n",
              "      border-right-color: var(--fill-color);\n",
              "    }\n",
              "    40% {\n",
              "      border-color: transparent;\n",
              "      border-right-color: var(--fill-color);\n",
              "      border-top-color: var(--fill-color);\n",
              "    }\n",
              "    60% {\n",
              "      border-color: transparent;\n",
              "      border-right-color: var(--fill-color);\n",
              "    }\n",
              "    80% {\n",
              "      border-color: transparent;\n",
              "      border-right-color: var(--fill-color);\n",
              "      border-bottom-color: var(--fill-color);\n",
              "    }\n",
              "    90% {\n",
              "      border-color: transparent;\n",
              "      border-bottom-color: var(--fill-color);\n",
              "    }\n",
              "  }\n",
              "</style>\n",
              "\n",
              "  <script>\n",
              "    async function quickchart(key) {\n",
              "      const quickchartButtonEl =\n",
              "        document.querySelector('#' + key + ' button');\n",
              "      quickchartButtonEl.disabled = true;  // To prevent multiple clicks.\n",
              "      quickchartButtonEl.classList.add('colab-df-spinner');\n",
              "      try {\n",
              "        const charts = await google.colab.kernel.invokeFunction(\n",
              "            'suggestCharts', [key], {});\n",
              "      } catch (error) {\n",
              "        console.error('Error during call to suggestCharts:', error);\n",
              "      }\n",
              "      quickchartButtonEl.classList.remove('colab-df-spinner');\n",
              "      quickchartButtonEl.classList.add('colab-df-quickchart-complete');\n",
              "    }\n",
              "    (() => {\n",
              "      let quickchartButtonEl =\n",
              "        document.querySelector('#df-9b802b99-8e39-476a-bd00-c6e5e47aecb1 button');\n",
              "      quickchartButtonEl.style.display =\n",
              "        google.colab.kernel.accessAllowed ? 'block' : 'none';\n",
              "    })();\n",
              "  </script>\n",
              "</div>\n",
              "    </div>\n",
              "  </div>\n"
            ]
          },
          "metadata": {},
          "execution_count": 82
        }
      ],
      "source": [
        "raw_df.head(30)"
      ]
    },
    {
      "cell_type": "code",
      "execution_count": null,
      "metadata": {
        "colab": {
          "base_uri": "https://localhost:8080/"
        },
        "id": "yFS2Hr6hL30p",
        "outputId": "53cfc997-ccc7-4f2b-e63f-95312ef49d0b"
      },
      "outputs": [
        {
          "output_type": "execute_result",
          "data": {
            "text/plain": [
              "(0.250     145.000\n",
              " 0.500     195.000\n",
              " 0.750     272.000\n",
              " 0.900     355.000\n",
              " 0.950     409.800\n",
              " 0.990     550.040\n",
              " 0.999    1649.184\n",
              " Name: word_count_clean, dtype: float64,)"
            ]
          },
          "metadata": {},
          "execution_count": 83
        }
      ],
      "source": [
        "raw_df['word_count_clean'].quantile([0.25, 0.5, 0.75,0.9,0.95,0.99,0.999]),"
      ]
    },
    {
      "cell_type": "code",
      "execution_count": null,
      "metadata": {
        "id": "j4jSDtFRL3xg"
      },
      "outputs": [],
      "source": [
        "list_of_sentences = []\n",
        "\n",
        "for i in range(len(raw_df)):\n",
        "  list_of_sentences.append(raw_df.iloc[i]['clean_text'])\n"
      ]
    },
    {
      "cell_type": "code",
      "source": [
        "len(list_of_sentences)"
      ],
      "metadata": {
        "colab": {
          "base_uri": "https://localhost:8080/"
        },
        "id": "5nO2Ye3Ar1g9",
        "outputId": "9000ff2e-8db3-4347-89de-bec668cd27de"
      },
      "execution_count": null,
      "outputs": [
        {
          "output_type": "execute_result",
          "data": {
            "text/plain": [
              "2225"
            ]
          },
          "metadata": {},
          "execution_count": 85
        }
      ]
    },
    {
      "cell_type": "code",
      "source": [
        "def padding_size(s):\n",
        "\n",
        "  return s.quantile(0.99)"
      ],
      "metadata": {
        "id": "UWFtmIuRspEf"
      },
      "execution_count": null,
      "outputs": []
    },
    {
      "cell_type": "code",
      "execution_count": null,
      "metadata": {
        "id": "gtBIej78L3vL"
      },
      "outputs": [],
      "source": [
        "max_length = padding_size(raw_df['word_count_clean']).astype(int)"
      ]
    },
    {
      "cell_type": "code",
      "execution_count": null,
      "metadata": {
        "colab": {
          "base_uri": "https://localhost:8080/"
        },
        "id": "uVF-kkymL3sC",
        "outputId": "ab180e5c-b8c5-4899-e648-ec467580a8d8"
      },
      "outputs": [
        {
          "output_type": "execute_result",
          "data": {
            "text/plain": [
              "550"
            ]
          },
          "metadata": {},
          "execution_count": 88
        }
      ],
      "source": [
        "max_length"
      ]
    },
    {
      "cell_type": "markdown",
      "source": [
        "## **Preprocessing - Tokenization**"
      ],
      "metadata": {
        "id": "rPyLpsFLtSUY"
      }
    },
    {
      "cell_type": "code",
      "source": [
        "entire_passage = ''\n",
        "\n",
        "for i in range(len(list_of_sentences)):\n",
        "\n",
        "  entire_passage = entire_passage + list_of_sentences[i]"
      ],
      "metadata": {
        "id": "q4bgGIkQuC--"
      },
      "execution_count": null,
      "outputs": []
    },
    {
      "cell_type": "code",
      "source": [
        "len(entire_passage.split(' '))"
      ],
      "metadata": {
        "colab": {
          "base_uri": "https://localhost:8080/"
        },
        "id": "00rsVhchu4r9",
        "outputId": "1db181e0-1608-436e-a670-429b02804cbd"
      },
      "execution_count": null,
      "outputs": [
        {
          "output_type": "execute_result",
          "data": {
            "text/plain": [
              "492112"
            ]
          },
          "metadata": {},
          "execution_count": 23
        }
      ]
    },
    {
      "cell_type": "code",
      "source": [
        "entire_corpus = set(entire_passage.split(' '))"
      ],
      "metadata": {
        "id": "S4gA7cNzvBRG"
      },
      "execution_count": null,
      "outputs": []
    },
    {
      "cell_type": "code",
      "source": [
        "number_of_words = len(entire_corpus)"
      ],
      "metadata": {
        "id": "1iZ5D2qSvLhq"
      },
      "execution_count": null,
      "outputs": []
    },
    {
      "cell_type": "code",
      "source": [
        "number_of_words"
      ],
      "metadata": {
        "colab": {
          "base_uri": "https://localhost:8080/"
        },
        "id": "AaFNw9v8a0jh",
        "outputId": "4caa35a3-e7f4-4753-96a0-ea664fe8c8b7"
      },
      "execution_count": null,
      "outputs": [
        {
          "output_type": "execute_result",
          "data": {
            "text/plain": [
              "34597"
            ]
          },
          "metadata": {},
          "execution_count": 26
        }
      ]
    },
    {
      "cell_type": "code",
      "source": [
        "tokenizer = Tokenizer(num_words=number_of_words, filters='!\"#$%&()*+,-./:;<=>?@[\\]^_`{|}~', lower=True,\n",
        "                      oov_token='-1')\n",
        "tokenizer.fit_on_texts(raw_df['clean_text'].values)\n",
        "word_index = tokenizer.word_index\n",
        "print('Found %s unique tokens.' % len(word_index))"
      ],
      "metadata": {
        "colab": {
          "base_uri": "https://localhost:8080/"
        },
        "id": "6DYUeZcytQWe",
        "outputId": "1ccfae7e-d422-4073-be44-c1226ebae0a3"
      },
      "execution_count": null,
      "outputs": [
        {
          "output_type": "stream",
          "name": "stdout",
          "text": [
            "Found 32486 unique tokens.\n"
          ]
        }
      ]
    },
    {
      "cell_type": "code",
      "source": [
        "# word_index"
      ],
      "metadata": {
        "id": "jDQkrNVaiNF2"
      },
      "execution_count": null,
      "outputs": []
    },
    {
      "cell_type": "code",
      "source": [
        "l = []\n",
        "for key,val in word_index.items():\n",
        "  l.append(key)"
      ],
      "metadata": {
        "id": "0GyHLBaGtQTf"
      },
      "execution_count": null,
      "outputs": []
    },
    {
      "cell_type": "code",
      "source": [],
      "metadata": {
        "id": "D-1xVyuiiwQN"
      },
      "execution_count": null,
      "outputs": []
    },
    {
      "cell_type": "code",
      "source": [
        "len(set(entire_corpus - set(l)))"
      ],
      "metadata": {
        "colab": {
          "base_uri": "https://localhost:8080/"
        },
        "id": "i4uAEbTCbLiV",
        "outputId": "d7b55eec-ee98-4eb4-9f24-999133e9efc3"
      },
      "execution_count": null,
      "outputs": [
        {
          "output_type": "execute_result",
          "data": {
            "text/plain": [
              "2229"
            ]
          },
          "metadata": {},
          "execution_count": 60
        }
      ]
    },
    {
      "cell_type": "code",
      "source": [
        "set(entire_corpus - set(l))"
      ],
      "metadata": {
        "colab": {
          "base_uri": "https://localhost:8080/"
        },
        "id": "pC9-5Z3Gi7ty",
        "outputId": "c6a1cb77-107c-4403-84bf-8381fce095ea"
      },
      "execution_count": null,
      "outputs": [
        {
          "output_type": "execute_result",
          "data": {
            "text/plain": [
              "{'hopeneeson',\n",
              " 'franceweb',\n",
              " 'iisrapper',\n",
              " 'charityrings',\n",
              " 'onetindall',\n",
              " 'eyelaura',\n",
              " 'pittsburghlennon',\n",
              " 'fineprince',\n",
              " 'yearmutant',\n",
              " 'siemensfiat',\n",
              " 'coproductionpop',\n",
              " 'scotlandlittle',\n",
              " 'celtic#163',\n",
              " '2003fo',\n",
              " '144bndvd',\n",
              " '20152world',\n",
              " '103mlib',\n",
              " 'placeschools',\n",
              " 'elsefalconer',\n",
              " 'bootlecollins',\n",
              " 'evasionaids',\n",
              " 'controlintel',\n",
              " 'blogospherefarrell',\n",
              " 'smokepc',\n",
              " '1996lords',\n",
              " 'sessioncalifornia',\n",
              " 'saleminimum',\n",
              " 'underusedministers',\n",
              " '389mholmes',\n",
              " 'respectfuleuronet',\n",
              " '2004quake',\n",
              " 'britainuk',\n",
              " '2000high',\n",
              " 'threewinndiie',\n",
              " 'dollarsus',\n",
              " '2003parties',\n",
              " 'heldcudicini',\n",
              " 'digestalgeria',\n",
              " 'profitair',\n",
              " 'goalparmalat',\n",
              " 'separatelymobile',\n",
              " 'competitivevirus',\n",
              " 'hopedstraw',\n",
              " 'shoejarre',\n",
              " 'februaryconsumers',\n",
              " 'trophiesfinnan',\n",
              " '2005band',\n",
              " 'athensink',\n",
              " 'latervolcano',\n",
              " 'scamsveteran',\n",
              " 'wellcourt',\n",
              " 'novemberdibaba',\n",
              " 'cardiffkorean',\n",
              " 'scientistsplaystation',\n",
              " 'spokesmantoic',\n",
              " 'saidnew',\n",
              " 'tuesdaybank',\n",
              " 'livelihoodsstandard',\n",
              " 'eploitswru',\n",
              " 'farmersconcessions',\n",
              " 'onegates',\n",
              " 'marketjuninho',\n",
              " 'developmentslloyd',\n",
              " 'suburbsireland',\n",
              " 'italysecurity',\n",
              " 'zonecamera',\n",
              " 'gmtmitsubishi',\n",
              " 'changedkenyan',\n",
              " '2009borders',\n",
              " 'knowncebit',\n",
              " 'digitalasia',\n",
              " 'necessarylewisfrancis',\n",
              " 'jobgreek',\n",
              " 'addedblair',\n",
              " 'securitiesrobben',\n",
              " 'numbersshares',\n",
              " 'restaurantsstallone',\n",
              " 'yearsmartphones',\n",
              " 'setberlin',\n",
              " 'pressurehariri',\n",
              " 'juneindiapakistan',\n",
              " 'revealedsafin',\n",
              " 'wttchighdefinition',\n",
              " 'refuseniksmovies',\n",
              " 'bottlechina',\n",
              " 'dealyahoo',\n",
              " 'recordspiderman',\n",
              " 'daughterblair',\n",
              " 'planetsydney',\n",
              " '2003llewellyn',\n",
              " 'addedgeorgia',\n",
              " 'industryjob',\n",
              " 'bskybeverton',\n",
              " 'wednesdaymovie',\n",
              " 'penceblair',\n",
              " 'saturdayblind',\n",
              " 'flyhalfamnesty',\n",
              " 'alternativerescue',\n",
              " 'saidspirit',\n",
              " 'silverukip',\n",
              " 'workersstudent',\n",
              " 'gametargets',\n",
              " '000reboot',\n",
              " 'imbalancesgiving',\n",
              " 'thirdclarke',\n",
              " 'actionnhs',\n",
              " 'nightbrits',\n",
              " 'tachoose',\n",
              " 'impactconservative',\n",
              " 'websitesblair',\n",
              " 'awaybrazil',\n",
              " 'championshipsjapan',\n",
              " 'waysbrainwave',\n",
              " 'bostonblair',\n",
              " 'webwipro',\n",
              " 'immediatelylse',\n",
              " 'gainbmw',\n",
              " 'specialfileswappers',\n",
              " 'difficultbaghdad',\n",
              " 'sectorindia',\n",
              " 'laboratoriessmith',\n",
              " 'numerouswarnings',\n",
              " 'campaignsferguson',\n",
              " 'playersblair',\n",
              " 'gamefrench',\n",
              " 'borich',\n",
              " 'truancyfederer',\n",
              " '102mradcliffe',\n",
              " 'awaybmw',\n",
              " 'detainedjobs',\n",
              " 'mpsengland',\n",
              " 'cluleywilkinson',\n",
              " 'pledgesbbc',\n",
              " 'saidelvis',\n",
              " 'timenew',\n",
              " 'kindmps',\n",
              " 'saidchelsea',\n",
              " 'mayblair',\n",
              " 'dragonstet',\n",
              " 'saidebbers',\n",
              " 'osbournesvodafone',\n",
              " 'victoryjapan',\n",
              " 'talksgronkjaer',\n",
              " 'monthhowl',\n",
              " 'threevideo',\n",
              " 'scorsesemobile',\n",
              " 'lifepete',\n",
              " 'tuesdaypreview',\n",
              " 'muchparties',\n",
              " 'clothingdallaglio',\n",
              " 'slackeu',\n",
              " '1776aragones',\n",
              " 'flynndavenport',\n",
              " 'openus',\n",
              " 'movelabour',\n",
              " 'companythompson',\n",
              " 'marchblogs',\n",
              " 'francestars',\n",
              " 'abroadrem',\n",
              " 'restatementbangkok',\n",
              " 'awardrusedski',\n",
              " 'subjectsa',\n",
              " 'congressreal',\n",
              " 'issuesmusical',\n",
              " 'comebackms',\n",
              " 'servicesbosvelt',\n",
              " 'agassidigital',\n",
              " 'saidegypt',\n",
              " 'stateblair',\n",
              " 'askedgervais',\n",
              " 'rewardswilliams',\n",
              " 'seasoncole',\n",
              " 'rarelyhodgson',\n",
              " 'digitalwales',\n",
              " 'makejones',\n",
              " 'policiesus',\n",
              " 'confirmedincredibles',\n",
              " 'implementationwenger',\n",
              " 'essecamera',\n",
              " 'sternfresh',\n",
              " 'ballkennedy',\n",
              " 'earliertmobile',\n",
              " 'januarypalace',\n",
              " 'sessionrussian',\n",
              " 'woodsslovakia',\n",
              " 'burnsmps',\n",
              " 'neverlandfo',\n",
              " 'improvescots',\n",
              " 'droppedus',\n",
              " 'tourirish',\n",
              " 'gmthoullier',\n",
              " 'industryus',\n",
              " 'saidmillions',\n",
              " 'moviescandela',\n",
              " 'publicapple',\n",
              " 'februaryhenman',\n",
              " 'lawdementieva',\n",
              " 'waybat',\n",
              " 'seasonlib',\n",
              " 'datewales',\n",
              " 'marchbookmakers',\n",
              " 'commentirish',\n",
              " 'presenttokyo',\n",
              " 'sharksbrookside',\n",
              " 'tuesdaycairn',\n",
              " 'countryfast',\n",
              " 'stopads',\n",
              " 'yugoslaviaabortion',\n",
              " 'finaltop',\n",
              " 'stakestern',\n",
              " 'rockfa',\n",
              " 'hertfordshireaustralia',\n",
              " '2+25',\n",
              " 'zambiacrossrail',\n",
              " 'soandblackburn',\n",
              " 'productsgoogle',\n",
              " 'guaranteenorway',\n",
              " 'saturdayjlo',\n",
              " 'esperancemoyes',\n",
              " 'measures2004',\n",
              " '1992gamers',\n",
              " 'ratesclassy',\n",
              " 'hangtory',\n",
              " 'weekdirty',\n",
              " 'subscribersmobiles',\n",
              " 'jamesonglobal',\n",
              " 'sundayadventure',\n",
              " 'concludedshare',\n",
              " 'actsquestion',\n",
              " 'januarygiant',\n",
              " 'enoughapple',\n",
              " 'californiabrookside',\n",
              " 'operationsband',\n",
              " '1992artists',\n",
              " 'coproductionbrown',\n",
              " 'zealandlittle',\n",
              " 'tournamentjapanese',\n",
              " '51highbury',\n",
              " 'julywales',\n",
              " 'timecapriati',\n",
              " 'citybelle',\n",
              " 'gamesmicrosoft',\n",
              " 'gartmorephilippoussis',\n",
              " 'onlinewalmart',\n",
              " 'banknew',\n",
              " 'ukradcliffe',\n",
              " 'organisationparmalat',\n",
              " 'findslifestyle',\n",
              " '2001edwards',\n",
              " 'categoryman',\n",
              " 'koreachepkemei',\n",
              " '1135pmcleish',\n",
              " 'factorjoy',\n",
              " 'hitmayor',\n",
              " 'properlycalifornia',\n",
              " 'routebritney',\n",
              " 'australiamallon',\n",
              " 'gameswhitehall',\n",
              " 'embarrassingdallaglio',\n",
              " 'yeteconomy',\n",
              " 'reutershome',\n",
              " 'nomurarelay',\n",
              " 'businesspeers',\n",
              " 'warnedrap',\n",
              " 'awardsstalemate',\n",
              " 'happysafin',\n",
              " 'bookshelvessony',\n",
              " 'leadermps',\n",
              " 'technologyargonaut',\n",
              " 'thronebrown',\n",
              " '1981church',\n",
              " 'januaryus',\n",
              " 'wingfieldjack',\n",
              " 'februarytories',\n",
              " 'dohertydefection',\n",
              " 'coppolamobile',\n",
              " 'namestuart',\n",
              " '2004gangsters',\n",
              " 'yearhouse',\n",
              " 'joeyminister',\n",
              " 'eaststevens',\n",
              " 'listenerschinese',\n",
              " 'threatsbrits',\n",
              " '2006stars',\n",
              " 'netprofile',\n",
              " 'caseeconomy',\n",
              " 'adamsuk',\n",
              " 'lonsdaleferguson',\n",
              " 'kentgm',\n",
              " '60mglazer',\n",
              " 'mcewenkingwenger',\n",
              " 'linechina',\n",
              " 'saidweb',\n",
              " 'problemsgara',\n",
              " 'protestsmystery',\n",
              " 'februaryprice',\n",
              " 'siemensdoors',\n",
              " '50cherie',\n",
              " 'crisissport',\n",
              " 'focusedwife',\n",
              " 'sideus',\n",
              " 'impactmurray',\n",
              " 'quithealey',\n",
              " 'roddickirish',\n",
              " 'behindmilburn',\n",
              " 'portadowniraqi',\n",
              " 'coproductionhanks',\n",
              " 'leaguecheaper',\n",
              " 'onecampbell',\n",
              " '10poll',\n",
              " 'addeddouble',\n",
              " 'bochris',\n",
              " 'fortunetime',\n",
              " 'reservationsafrican',\n",
              " 'ageantispam',\n",
              " 'principlesyukos',\n",
              " 'cheeringspark',\n",
              " 'eportstindall',\n",
              " 'titlegaming',\n",
              " 'januarywoolf',\n",
              " 'electionstars',\n",
              " 'saidfive',\n",
              " 'adultstaes',\n",
              " 'tuesdaynew',\n",
              " 'sentlabour',\n",
              " 'industrysculthorpe',\n",
              " 'survivelufthansa',\n",
              " 'americajamelia',\n",
              " 'courtsmedia',\n",
              " 'endgermany',\n",
              " 'reservespc',\n",
              " 'grouplee',\n",
              " 'backireland',\n",
              " 'gloucestershireasia',\n",
              " 'lifemobile',\n",
              " 'areasfast',\n",
              " 'matchbortolami',\n",
              " 'machinesantini',\n",
              " 'artistmusic',\n",
              " 'autumnblog',\n",
              " 'campaignsholmes',\n",
              " 'chargehoward',\n",
              " 'saidrock',\n",
              " 'saidtsunami',\n",
              " '2010air',\n",
              " 'februarylabour',\n",
              " 'tautoucommodore',\n",
              " 'northamptonus',\n",
              " 'chargeradcliffe',\n",
              " 'america#191',\n",
              " 'wednesdayirish',\n",
              " 'duffyeuro',\n",
              " 'yorkshiremobile',\n",
              " 'ministercairn',\n",
              " 'parisverizon',\n",
              " 'yearray',\n",
              " 'worthcharity',\n",
              " 'gimmicksvickery',\n",
              " 'addedactor',\n",
              " 'spamrussian',\n",
              " 'acresmerritt',\n",
              " 'legendlevy',\n",
              " 'quickestplayers',\n",
              " 'addedhoffman',\n",
              " 'ukjohnny',\n",
              " 'oldseasonal',\n",
              " '2003hunt',\n",
              " 'customersmarsh',\n",
              " 'spiderlib',\n",
              " 'goodrush',\n",
              " 'takeoverconnell',\n",
              " 'associationea',\n",
              " 'yearnewcastle',\n",
              " 'characterelvis',\n",
              " 'yearvenezuela',\n",
              " 'januaryfockers',\n",
              " 'averagelabour',\n",
              " 'earlyuk',\n",
              " '2003roundabout',\n",
              " 'criticismsnow',\n",
              " 'bookmusical',\n",
              " 'perspectivemicrosoft',\n",
              " 'electionmurray',\n",
              " '286beattie',\n",
              " 'clockisinbayeva',\n",
              " 'statementturkey',\n",
              " 'aspicjobs',\n",
              " 'digitaldozens',\n",
              " 'opportunitiesindia',\n",
              " 'chartsdure',\n",
              " 'popularwales',\n",
              " 'echangebritish',\n",
              " 'packagemarket',\n",
              " 'lifelandmark',\n",
              " 'dreamchristmas',\n",
              " 'b#233',\n",
              " 'wednesdayhatfield',\n",
              " 'performancescissor',\n",
              " 'mentallydriscoll',\n",
              " 'societieslib',\n",
              " 'clipspiero',\n",
              " '2004commons',\n",
              " 'mondayboeing',\n",
              " 'staffordshiresmith',\n",
              " 'addressanimation',\n",
              " 'saidtottenham',\n",
              " 'researchmcclaren',\n",
              " 'adamshoward',\n",
              " 'sayingspam',\n",
              " 'adawarebenitez',\n",
              " 'hampshirehome',\n",
              " 'sentimentrunning',\n",
              " 'birthdaytomlinson',\n",
              " 'marchmeicans',\n",
              " 'ruddockdeutsche',\n",
              " 'staffwilliams',\n",
              " 'insteadyukos',\n",
              " 'instinctshenry',\n",
              " 'saturdaydame',\n",
              " 'muchuk',\n",
              " 'saidjones',\n",
              " 'aprilarnold',\n",
              " 'hurtsadult',\n",
              " 'weeksslow',\n",
              " 'acceptablegrammys',\n",
              " 'firmsus',\n",
              " 'wellrap',\n",
              " 'seebryan',\n",
              " 'differencenewcastle',\n",
              " 'bigbekele',\n",
              " 'boomingfilms',\n",
              " 'lifebristol',\n",
              " 'entropiauk',\n",
              " 'attentionbmw',\n",
              " 'capacityfirefo',\n",
              " 'livegreek',\n",
              " 'futureparaguay',\n",
              " 'companynet',\n",
              " 'battlesoil',\n",
              " '2006blair',\n",
              " 'countryjunk',\n",
              " 'britainhigh',\n",
              " 'sendradcliffe',\n",
              " 'involvementring',\n",
              " 'searchablejohnny',\n",
              " '200could',\n",
              " 'reductionsnew',\n",
              " 'banbroadband',\n",
              " 'injurycampbell',\n",
              " 'sidetotp',\n",
              " 'schemesmirza',\n",
              " 'australiapodcasters',\n",
              " 'theatrepoll',\n",
              " 'tuesdayengland',\n",
              " 'injurythomas',\n",
              " 'formputting',\n",
              " 'studiobmw',\n",
              " 'crossedteens',\n",
              " 'piracyconsumer',\n",
              " 'africaclarke',\n",
              " 'teamhenman',\n",
              " 'injunctiontechnology',\n",
              " 'teamslit',\n",
              " 'equipmentid',\n",
              " 'buyersiranian',\n",
              " 'enoughhoward',\n",
              " 'technologybroadband',\n",
              " 'sideseu',\n",
              " 'americaedu',\n",
              " 'timevoters',\n",
              " 'elhorgaeurovision',\n",
              " 'agosecurity',\n",
              " 'eportsimf',\n",
              " 'anotherhalloween',\n",
              " 'worldarcy',\n",
              " 'gettingsafin',\n",
              " 'farindia',\n",
              " 'fansask',\n",
              " 'putinhousewives',\n",
              " 'saidgreene',\n",
              " 'yearcampaign',\n",
              " 'aprilu2',\n",
              " 'uptodatecaptains',\n",
              " 'saidvoters',\n",
              " 'systembeckham',\n",
              " 'chinadouble',\n",
              " 'likedutch',\n",
              " 'consumersgallery',\n",
              " 'sharesus',\n",
              " 'tuesdaybrown',\n",
              " 'daybroadband',\n",
              " 'intimidationaaliyah',\n",
              " 'gentanalysis',\n",
              " 'premjitough',\n",
              " 'mcdonaldowen',\n",
              " 'rendezvousus',\n",
              " 'addeddesailly',\n",
              " 'submittedrise',\n",
              " '2005uk',\n",
              " 'sidelord',\n",
              " 'supportbalco',\n",
              " 'digitalbrazil',\n",
              " 'callterror',\n",
              " 'appreciativemoody',\n",
              " 'soonrobots',\n",
              " 'icebergescaped',\n",
              " '#163',\n",
              " 'marathontalks',\n",
              " 'warnedlib',\n",
              " 'fortunescould',\n",
              " 'muslimsworldcom',\n",
              " 'weekroy',\n",
              " 'universityethnic',\n",
              " '675bnsainsbury',\n",
              " 'signcall',\n",
              " '2004britons',\n",
              " 'yearsgame',\n",
              " 'digitalhouse',\n",
              " 'occasionserena',\n",
              " 'boavistacurbishley',\n",
              " 'januarysec',\n",
              " 'clarkchelsea',\n",
              " 'saidloyalty',\n",
              " 'threatskilroy',\n",
              " 'interpretationsmps',\n",
              " 'yethong',\n",
              " 'chancebriton',\n",
              " 'gamesgm',\n",
              " 'careerrank',\n",
              " 'thomsonbennett',\n",
              " 'wiselygames',\n",
              " 'stewardessredknapp',\n",
              " 'rowshort',\n",
              " 'schoolsparry',\n",
              " 'stageda',\n",
              " 'longfo',\n",
              " '2004kennedy',\n",
              " 'websitesprogress',\n",
              " 'deficitjunk',\n",
              " 'gimmickshouse',\n",
              " 'bombsconnor',\n",
              " 'banktop',\n",
              " 'dementievaumbro',\n",
              " 'januaryglastonbury',\n",
              " 'saidconsumers',\n",
              " '615italy',\n",
              " 'neckfactor',\n",
              " 'thirdus',\n",
              " 'ziersask',\n",
              " 'electionblair',\n",
              " 'comewall',\n",
              " 'weekebbers',\n",
              " 'spendingblair',\n",
              " 'travelblair',\n",
              " 'fineslions',\n",
              " 'twous',\n",
              " 'sundaygame',\n",
              " 'wantweb',\n",
              " 'lumpurpompeii',\n",
              " 'tournamenttakeover',\n",
              " 'saidus',\n",
              " 'earlyinternet',\n",
              " 'categoryus',\n",
              " 'pricesmansfield',\n",
              " 'septemberblair',\n",
              " 'weekfrench',\n",
              " 'coproductionindia',\n",
              " 'directorsmicrosoft',\n",
              " 'babysouth',\n",
              " 'fridaymcclaren',\n",
              " 'outstandinglosing',\n",
              " 'synergiesfannie',\n",
              " 'clublabour',\n",
              " 'pointswhite',\n",
              " 'gmtkennedy',\n",
              " 'quicklycsa',\n",
              " 'chargestories',\n",
              " 'soundbitedelta',\n",
              " 'irishmps',\n",
              " 'staffsouness',\n",
              " 'groundfed',\n",
              " 'dollarsblair',\n",
              " 'banjo2d',\n",
              " 'careermicrosoft',\n",
              " 'yeovildigital',\n",
              " 'countrieshollywood',\n",
              " 'francede',\n",
              " 'januarybnp',\n",
              " '2004uk',\n",
              " 'fiszmanprepoll',\n",
              " 'disasterhoward',\n",
              " 'obeu2',\n",
              " 'thoughnigeria',\n",
              " 'staffordshirehoward',\n",
              " 'mactautou',\n",
              " 'evictedapple',\n",
              " 'internationalfightstar',\n",
              " 'lifezambia',\n",
              " 'dutymied',\n",
              " 'hurricanesasian',\n",
              " 'playray',\n",
              " 'usmusicians',\n",
              " 'coproductionscrumhalf',\n",
              " 'childharinordoquy',\n",
              " 'osbourneedu',\n",
              " 'disclosuregames',\n",
              " 'presentlydeutsche',\n",
              " 'nightbaywatch',\n",
              " '000career',\n",
              " 'alsonintendo',\n",
              " 'saidgta',\n",
              " 'yearsydney',\n",
              " 'januaryfootball',\n",
              " 'mid2005fido',\n",
              " 'useblue',\n",
              " 'continentdesailly',\n",
              " 'worthlessset',\n",
              " 'advantagecardinal',\n",
              " 'saidreliance',\n",
              " 'robertsonlevy',\n",
              " 'countrieseminem',\n",
              " 'wednesdayelton',\n",
              " 'saidhalo',\n",
              " 'governmentsblin',\n",
              " 'weekinsurance',\n",
              " 'commitmentbroadband',\n",
              " 'technologiesdomain',\n",
              " 'saidglao',\n",
              " 'slowduff',\n",
              " 'casekeegan',\n",
              " 'lotdollar',\n",
              " 'wageoscar',\n",
              " 'racismlions',\n",
              " 'addedpremier',\n",
              " 'littlecapriati',\n",
              " '13robinson',\n",
              " 'lamdaaja',\n",
              " 'prosecutiondriscoll',\n",
              " 'mensir',\n",
              " 'saideuropean',\n",
              " 'serieshobbit',\n",
              " 'earthgatlin',\n",
              " 'returnwatchdog',\n",
              " 'referendumoscar',\n",
              " 'reportsask',\n",
              " 'individualbig',\n",
              " 'mobilerow',\n",
              " 'newscomic',\n",
              " 'popularbates',\n",
              " 's#227',\n",
              " 'saidchristmas',\n",
              " 'longsullivan',\n",
              " 'companieswhitehall',\n",
              " 'winnersclijsters',\n",
              " 'saiduk',\n",
              " 'gueststop',\n",
              " 'formatsuper',\n",
              " 'armstrongvenus',\n",
              " '13mobiles',\n",
              " 'maydisney',\n",
              " 'epressfbi',\n",
              " 'toolsvirgin',\n",
              " 'petparmar',\n",
              " 'februarybrown',\n",
              " 'maddenwest',\n",
              " 'respectivelypandas',\n",
              " 'momentsteenagers',\n",
              " 'enforcementmetlife',\n",
              " 'fivefrance',\n",
              " 'saidtop',\n",
              " 'japanultimate',\n",
              " 'winathens',\n",
              " 'makowerdowning',\n",
              " 'oudendijkpolice',\n",
              " 'competitivenintendo',\n",
              " 'labouruk',\n",
              " 'innocentslim',\n",
              " 'serviceswilkinson',\n",
              " '2007film',\n",
              " 'producerindustrial',\n",
              " 'parkmobile',\n",
              " 'agenciesblair',\n",
              " 'twofast',\n",
              " 'investmentschina',\n",
              " 'januarykilroy',\n",
              " 'pel#233',\n",
              " 'chairmanbuilding',\n",
              " 'festivalchancellor',\n",
              " 'laterkilroysilk',\n",
              " 'successcommodore',\n",
              " 'scoringgalloway',\n",
              " '000debate',\n",
              " 'tragedyberlin',\n",
              " 'factsbrainwave',\n",
              " 'fortuneslabour',\n",
              " 'footvisa',\n",
              " 'donekenyon',\n",
              " 'person#191',\n",
              " 'sisterversace',\n",
              " 'wanteddaimlerchrysler',\n",
              " 'deductibleberlin',\n",
              " 'worsenmumbai',\n",
              " 'industryblair',\n",
              " 'zealandbenitez',\n",
              " 'februaryfo',\n",
              " 'consentcampaigners',\n",
              " 'evansisraeli',\n",
              " 'dutyblair',\n",
              " 'monthsqueen',\n",
              " 'lostus',\n",
              " 'brokerssun',\n",
              " '2001england',\n",
              " 'rideiran',\n",
              " '3122controversial',\n",
              " 'systemgaming',\n",
              " 'needsbid',\n",
              " 'counciltories',\n",
              " 'worldbroadband',\n",
              " 'torbaycasino',\n",
              " 'addedduran',\n",
              " 'mcivisa',\n",
              " 'lotregiments',\n",
              " 'pspprince',\n",
              " 'reportsgerman',\n",
              " 'februaryharinordoquy',\n",
              " 'fielddutch',\n",
              " '2004hewitt',\n",
              " 'stationedsenior',\n",
              " 'possiblefarrell',\n",
              " 'statementdomain',\n",
              " '62mcconnell',\n",
              " '2005dvd',\n",
              " 'februaryitunes',\n",
              " '2007campbell',\n",
              " 'countryoffcolour',\n",
              " 'challengesdent',\n",
              " '10kilroysilk',\n",
              " 'unnecessaryfinal',\n",
              " 'saidwales',\n",
              " 'needbrewers',\n",
              " 'mattersonline',\n",
              " 'gobank',\n",
              " 'growthviewers',\n",
              " 'rendezvoussmash',\n",
              " 'londonjones',\n",
              " 'duetslabour',\n",
              " 'polldj',\n",
              " 'fansstraw',\n",
              " 'issuesterror',\n",
              " 'operationscomputer',\n",
              " 'programmehearts',\n",
              " 'groundus',\n",
              " 'governmentsuper',\n",
              " 'marchcharvis',\n",
              " 'montharmy',\n",
              " 'pittsburghfitagain',\n",
              " 'octoberbutler',\n",
              " 'newshoward',\n",
              " 'servicecomic',\n",
              " 'watchingdollar',\n",
              " 'streetportermido',\n",
              " 'miningus',\n",
              " 'epireparmalat',\n",
              " 'silverscots',\n",
              " 'ceremonyabba',\n",
              " 'saidpolice',\n",
              " 'forestchild',\n",
              " 'chartcyber',\n",
              " 'policemicrosoft',\n",
              " 'volvi#243',\n",
              " 'squadroddick',\n",
              " 'playerssoderling',\n",
              " 'summeropposition',\n",
              " 'waykennedy',\n",
              " 'soilplaystation',\n",
              " 'footballantiterror',\n",
              " 'ulstertarantino',\n",
              " 'continuesobservers',\n",
              " 'weakqpr',\n",
              " 'settlementbt',\n",
              " 'eistmourinho',\n",
              " 'usjones',\n",
              " 'assemblymicrosoft',\n",
              " 'tourgadgets',\n",
              " 'battlerangers',\n",
              " 'attendingjobs',\n",
              " 'rentontwo',\n",
              " 'isolationuk',\n",
              " 'confidentialityportishead',\n",
              " 'bonetsunami',\n",
              " 'februaryad',\n",
              " 'numbersrolling',\n",
              " 'formelvis',\n",
              " 'capablebarkley',\n",
              " 'injuredkuznetsova',\n",
              " 'yearvibe',\n",
              " 'enemyprodigy',\n",
              " 'miingtriple',\n",
              " 'decisiondavenport',\n",
              " 'sentencesconnick',\n",
              " 'stadiumfederer',\n",
              " 'lifeconservative',\n",
              " 'hopesworldcom',\n",
              " 'decembertautou',\n",
              " 'operaethiopia',\n",
              " 'europesluggish',\n",
              " 'appealapple',\n",
              " 'ceremonyapple',\n",
              " 'geeksmaking',\n",
              " '2003howard',\n",
              " 'pearsonailing',\n",
              " 'fridaysinger',\n",
              " 'progressesbond',\n",
              " 'uruguaybroadband',\n",
              " 'geeksacademy',\n",
              " 'filmspountney',\n",
              " 'saidactor',\n",
              " 'righthollywood',\n",
              " 'basisdvd',\n",
              " 'knowblogger',\n",
              " 'povertyanelka',\n",
              " 'agofuming',\n",
              " 'bankuk',\n",
              " 'whistleactress',\n",
              " 'brownpower',\n",
              " 'mayweak',\n",
              " 'successfulfrance',\n",
              " 'youzhnyemi',\n",
              " 'inspectionshendri',\n",
              " 'mccurrypiies',\n",
              " 'beggingvenezuela',\n",
              " 'norwichmemories',\n",
              " 'growthparis',\n",
              " 'tuipulotunavratilova',\n",
              " 'requirediaaf',\n",
              " 'continuesbeastie',\n",
              " 'momentengland',\n",
              " 'delayswood',\n",
              " '2005melzer',\n",
              " 'yearstraw',\n",
              " 'welldownload',\n",
              " 'chelseawomen',\n",
              " 'softwareredknapp',\n",
              " 'novembercasual',\n",
              " 'commissionerminimum',\n",
              " 'cameroonmild',\n",
              " 'playersgames',\n",
              " 'playershalflife',\n",
              " 'behindlib',\n",
              " 'protestsuk',\n",
              " 'areastalks',\n",
              " 'worldhantuchova',\n",
              " '1993mourinho',\n",
              " '1991corbett',\n",
              " 'actormoya',\n",
              " '1980sdownloads',\n",
              " 'stupidityguantanamo',\n",
              " 'magazinelabour',\n",
              " 'policyschools',\n",
              " 'teamsgb',\n",
              " 'jonesus',\n",
              " 'survey2d',\n",
              " 'marquezkorea',\n",
              " 'sendconfusion',\n",
              " 'saidjoke',\n",
              " 'freelandlabour',\n",
              " 'saidlabel',\n",
              " 'playdominici',\n",
              " 'kimmac',\n",
              " 'ukmobiles',\n",
              " '1994gadget',\n",
              " 'foodtv',\n",
              " 'controlhotspot',\n",
              " 'liverpoollast',\n",
              " 'sectortech',\n",
              " 'illegallyalisters',\n",
              " 'linesscotland',\n",
              " 'yearmoya',\n",
              " 'walesban',\n",
              " 'allaustralianuk',\n",
              " 'datenewry',\n",
              " 'effectscup',\n",
              " 'addedmillions',\n",
              " 'prosecutionsproducers',\n",
              " 'saidsaab',\n",
              " 'cdplan',\n",
              " 'figuresnintendo',\n",
              " 'raynew',\n",
              " '2006sony',\n",
              " 'servicesbest',\n",
              " 'voteengland',\n",
              " 'pcofficials',\n",
              " 'commissionersstock',\n",
              " 'donecostin',\n",
              " 'runwayericsson',\n",
              " 'mayqueen',\n",
              " 'closecrude',\n",
              " 'droppedbrown',\n",
              " 'januaryfriends',\n",
              " '107sales',\n",
              " 'tablemutu',\n",
              " 'monthuk',\n",
              " 'hospitalhewitt',\n",
              " 'metreforms',\n",
              " 'generalbarcelona',\n",
              " 'boardus',\n",
              " 'saidhenson',\n",
              " 'matchlib',\n",
              " 'pitchlabour',\n",
              " 'filmedmultipurpose',\n",
              " 'novemberparliament',\n",
              " 'funddvd',\n",
              " 'waybees',\n",
              " 'judgementgerman',\n",
              " 'afraiddoves',\n",
              " 'addedcampese',\n",
              " 'gamebafta',\n",
              " 'portsmouthiraq',\n",
              " 'digitallatest',\n",
              " 'tuesdayyear',\n",
              " 'rowswine',\n",
              " 'marchoasis',\n",
              " 'easeshague',\n",
              " 'dollarholmes',\n",
              " 'winstam',\n",
              " 'aimedukip',\n",
              " 'boatbrown',\n",
              " 'elhorgatobacco',\n",
              " 'decemberworcester',\n",
              " 'worldfilm',\n",
              " 'melbourneuk',\n",
              " 'dempseykhodorkovsky',\n",
              " 'apartmillions',\n",
              " 'yearfa',\n",
              " 'debtstraw',\n",
              " 'disposablesearch',\n",
              " 'recoverforce',\n",
              " 'tribunalslooks',\n",
              " 'controllerbrazil',\n",
              " 'libertymicrosoft',\n",
              " 'researchisraeli',\n",
              " 'wayindia',\n",
              " 'decidedibm',\n",
              " 'usreal',\n",
              " 'cubaus',\n",
              " 'centuryblair',\n",
              " 'pullasia',\n",
              " 'bb+',\n",
              " 'eventsprotesters',\n",
              " 'governmentiaaf',\n",
              " 'versionban',\n",
              " 'yearfrench',\n",
              " 'vernerecord',\n",
              " 'intendedwenger',\n",
              " 'russiajansen',\n",
              " 'lolmied',\n",
              " 'trustreds',\n",
              " 'mapsbeer',\n",
              " 'filmslaporte',\n",
              " '2005edgy',\n",
              " 'bestsellercivil',\n",
              " 'animalshingis',\n",
              " 'agentplayer',\n",
              " 'governmentbritish',\n",
              " 'disagreedturkeyiran',\n",
              " 'statewales',\n",
              " 'missinggolden',\n",
              " 'yearspakistani',\n",
              " 'placeoscars',\n",
              " 'carlsbergsn',\n",
              " 'allegianceslacroi',\n",
              " 'pagesjaunesdollar',\n",
              " 'coupgadget',\n",
              " 'evasionindia',\n",
              " 'yearsnewest',\n",
              " '2children',\n",
              " '10sony',\n",
              " 'wrongremote',\n",
              " 'internationaljohnson',\n",
              " 'partdonor',\n",
              " 'waterfrontcollins',\n",
              " 'fraudkorea',\n",
              " 'semifinalsrich',\n",
              " 'refereesnew',\n",
              " 'disasterfrench',\n",
              " 'yearsaviator',\n",
              " 'saidjowell',\n",
              " 'gamessmall',\n",
              " 'electionbenitez',\n",
              " 'outcomehacker',\n",
              " 'saidmoya',\n",
              " 'unwellhodges',\n",
              " 'hanksparry',\n",
              " 'teasus',\n",
              " 'needfry',\n",
              " 'risegoogle',\n",
              " 'pointtories',\n",
              " 'benefitsgames',\n",
              " 'beastitaly',\n",
              " 'pap#233',\n",
              " ...}"
            ]
          },
          "metadata": {},
          "execution_count": 62
        }
      ]
    },
    {
      "cell_type": "code",
      "source": [
        "raw_df['clean_text'][4]"
      ],
      "metadata": {
        "colab": {
          "base_uri": "https://localhost:8080/",
          "height": 161
        },
        "id": "1xGqT5dL3FxR",
        "outputId": "3d4be781-6a43-4fc3-f95f-ce83070ebd74"
      },
      "execution_count": null,
      "outputs": [
        {
          "output_type": "execute_result",
          "data": {
            "text/plain": [
              "'ocean twelve raids bo office ocean twelve crime caper sequel starring george clooney brad pitt julia roberts gone straight number one us bo office chart took 408m 21m weekend ticket sales according studio estimates sequel follows master criminals try pull three major heists across europe knocked last week number one national treasure third place wesley snipes blade trinity second taking 161m 84m rounding top five animated fable polar epress starring tom hanks festive comedy christmas kranks ocean twelve bo office triumph marks fourthbiggest opening december release us three films lord rings trilogy sequel narrowly beat 2001 predecessor ocean eleven took 381m 198m opening weekend 184m 958m total remake 1960s film starring frank sinatra rat pack ocean eleven directed oscarwinning director steven soderbergh soderbergh returns direct hit sequel reunites clooney pitt roberts matt damon andy garcia elliott gould catherine zetajones joins allstar cast fun good holiday movie said dan fellman president distribution warner bros however us critics less complimentary 110m 572m project los angeles times labelling dispiriting vanity project milder review new york times dubbed sequel unabashedly trivial'"
            ],
            "application/vnd.google.colaboratory.intrinsic+json": {
              "type": "string"
            }
          },
          "metadata": {},
          "execution_count": 35
        }
      ]
    },
    {
      "cell_type": "code",
      "source": [
        "# Every word is converted to a number (based on its frequency, the most frequent word gets index 1 )\n",
        "\n",
        "X = tokenizer.texts_to_sequences(raw_df['clean_text'].values)"
      ],
      "metadata": {
        "id": "oOSz4HwktQQn"
      },
      "execution_count": null,
      "outputs": []
    },
    {
      "cell_type": "code",
      "source": [],
      "metadata": {
        "id": "vK8o1C3bcqxW"
      },
      "execution_count": null,
      "outputs": []
    },
    {
      "cell_type": "code",
      "source": [
        "X = pad_sequences(X, maxlen=max_length )"
      ],
      "metadata": {
        "id": "HzVt_cWdtQN2"
      },
      "execution_count": null,
      "outputs": []
    },
    {
      "cell_type": "code",
      "source": [
        "Y = pd.get_dummies(raw_df['category'],columns=raw_df[\"category\"]).values"
      ],
      "metadata": {
        "id": "6KOzDFaztQLC"
      },
      "execution_count": null,
      "outputs": []
    },
    {
      "cell_type": "code",
      "source": [
        "Y"
      ],
      "metadata": {
        "colab": {
          "base_uri": "https://localhost:8080/"
        },
        "id": "eu_3854cFJyA",
        "outputId": "643000c5-0eda-4aa2-eef6-1d2af5ae4e27"
      },
      "execution_count": null,
      "outputs": [
        {
          "output_type": "execute_result",
          "data": {
            "text/plain": [
              "array([[0, 0, 0, 0, 1],\n",
              "       [1, 0, 0, 0, 0],\n",
              "       [0, 0, 0, 1, 0],\n",
              "       ...,\n",
              "       [0, 1, 0, 0, 0],\n",
              "       [0, 0, 1, 0, 0],\n",
              "       [0, 0, 0, 1, 0]], dtype=uint8)"
            ]
          },
          "metadata": {},
          "execution_count": 165
        }
      ]
    },
    {
      "cell_type": "code",
      "source": [
        "raw_df['category'].head()"
      ],
      "metadata": {
        "colab": {
          "base_uri": "https://localhost:8080/"
        },
        "id": "nAi-KH3BFMGx",
        "outputId": "e77f8426-f647-4df8-ac2d-3fb3009f905a"
      },
      "execution_count": null,
      "outputs": [
        {
          "output_type": "execute_result",
          "data": {
            "text/plain": [
              "0             tech\n",
              "1         business\n",
              "2            sport\n",
              "3            sport\n",
              "4    entertainment\n",
              "Name: category, dtype: object"
            ]
          },
          "metadata": {},
          "execution_count": 166
        }
      ]
    },
    {
      "cell_type": "code",
      "source": [
        "raw_df['category'].tail()"
      ],
      "metadata": {
        "colab": {
          "base_uri": "https://localhost:8080/"
        },
        "id": "td7-I9_9FY_f",
        "outputId": "18443f23-0898-45c9-f08b-ae2ab141eda4"
      },
      "execution_count": null,
      "outputs": [
        {
          "output_type": "execute_result",
          "data": {
            "text/plain": [
              "2220         business\n",
              "2221         politics\n",
              "2222    entertainment\n",
              "2223         politics\n",
              "2224            sport\n",
              "Name: category, dtype: object"
            ]
          },
          "metadata": {},
          "execution_count": 167
        }
      ]
    },
    {
      "cell_type": "code",
      "source": [
        "labels = ['business','entertainment','politics','sport','tech']"
      ],
      "metadata": {
        "id": "nzAqslroFPGT"
      },
      "execution_count": null,
      "outputs": []
    },
    {
      "cell_type": "code",
      "source": [
        "# Y = le.fit_transform(raw_df['category'])"
      ],
      "metadata": {
        "id": "erEOWSZFDA2q"
      },
      "execution_count": null,
      "outputs": []
    },
    {
      "cell_type": "code",
      "source": [
        "le = LabelEncoder()"
      ],
      "metadata": {
        "id": "GzheMKsPCdzi"
      },
      "execution_count": null,
      "outputs": []
    },
    {
      "cell_type": "code",
      "source": [
        "le.fit_transform(raw_df['category'])"
      ],
      "metadata": {
        "colab": {
          "base_uri": "https://localhost:8080/"
        },
        "id": "wEMG79P9C5fD",
        "outputId": "ada95a99-fcd0-4870-ca84-78629d8338cf"
      },
      "execution_count": null,
      "outputs": [
        {
          "output_type": "execute_result",
          "data": {
            "text/plain": [
              "array([4, 0, 3, ..., 1, 2, 3])"
            ]
          },
          "metadata": {},
          "execution_count": 171
        }
      ]
    },
    {
      "cell_type": "code",
      "source": [],
      "metadata": {
        "id": "WPtVtBtHC5cT"
      },
      "execution_count": null,
      "outputs": []
    },
    {
      "cell_type": "code",
      "source": [],
      "metadata": {
        "id": "6dzvi7kIC5ZT"
      },
      "execution_count": null,
      "outputs": []
    },
    {
      "cell_type": "markdown",
      "source": [
        "## **Train-test split**"
      ],
      "metadata": {
        "id": "_J_XuuzC-j4Z"
      }
    },
    {
      "cell_type": "code",
      "source": [
        "X_train, X_test, Y_train, Y_test = train_test_split(X,Y, test_size = 0.1, random_state = 42)\n",
        "print(X_train.shape,Y_train.shape)\n",
        "print(X_test.shape,Y_test.shape)"
      ],
      "metadata": {
        "colab": {
          "base_uri": "https://localhost:8080/"
        },
        "id": "-SmKv7XD-jh4",
        "outputId": "ab71ddde-4a8d-4ad9-f457-c051a2d3e347"
      },
      "execution_count": null,
      "outputs": [
        {
          "output_type": "stream",
          "name": "stdout",
          "text": [
            "(2002, 355) (2002, 5)\n",
            "(223, 355) (223, 5)\n"
          ]
        }
      ]
    },
    {
      "cell_type": "markdown",
      "source": [
        "## **Modelling**"
      ],
      "metadata": {
        "id": "MPriXrDB_G9j"
      }
    },
    {
      "cell_type": "code",
      "source": [
        "model=Sequential()\n",
        "model.add(Embedding(input_dim = number_of_words,100,input_length=max_length))\n",
        "model.add(SpatialDropout1D(0.2))\n",
        "model.add(LSTM(100, dropout=0.2, recurrent_dropout=0.2))\n",
        "model.add(Dense(5, activation='softmax'))\n",
        "model.compile(loss='categorical_crossentropy', optimizer='adam', metrics=['accuracy'])"
      ],
      "metadata": {
        "id": "LeU5xKVQ_Gga",
        "colab": {
          "base_uri": "https://localhost:8080/",
          "height": 143
        },
        "outputId": "66abaf68-252b-420c-f1a5-fc5242e4ccfb"
      },
      "execution_count": null,
      "outputs": [
        {
          "output_type": "error",
          "ename": "SyntaxError",
          "evalue": "ignored",
          "traceback": [
            "\u001b[0;36m  File \u001b[0;32m\"<ipython-input-64-5877a0a10bf9>\"\u001b[0;36m, line \u001b[0;32m2\u001b[0m\n\u001b[0;31m    model.add(Embedding(input_dim = number_of_words,100,input_length=max_length))\u001b[0m\n\u001b[0m                                                                               ^\u001b[0m\n\u001b[0;31mSyntaxError\u001b[0m\u001b[0;31m:\u001b[0m positional argument follows keyword argument\n"
          ]
        }
      ]
    },
    {
      "cell_type": "code",
      "source": [],
      "metadata": {
        "id": "XeZkDfurkRQD"
      },
      "execution_count": null,
      "outputs": []
    },
    {
      "cell_type": "code",
      "source": [
        "model.summary()"
      ],
      "metadata": {
        "colab": {
          "base_uri": "https://localhost:8080/"
        },
        "id": "sfxa_dA9_GSo",
        "outputId": "a1dee717-0104-47eb-d8a8-ea494c82ccf0"
      },
      "execution_count": null,
      "outputs": [
        {
          "output_type": "stream",
          "name": "stdout",
          "text": [
            "Model: \"sequential_4\"\n",
            "_________________________________________________________________\n",
            " Layer (type)                Output Shape              Param #   \n",
            "=================================================================\n",
            " embedding_7 (Embedding)     (None, 355, 100)          3459700   \n",
            "                                                                 \n",
            " spatial_dropout1d_7 (Spatia  (None, 355, 100)         0         \n",
            " lDropout1D)                                                     \n",
            "                                                                 \n",
            " lstm_7 (LSTM)               (None, 100)               80400     \n",
            "                                                                 \n",
            " dense_7 (Dense)             (None, 5)                 505       \n",
            "                                                                 \n",
            "=================================================================\n",
            "Total params: 3,540,605\n",
            "Trainable params: 3,540,605\n",
            "Non-trainable params: 0\n",
            "_________________________________________________________________\n"
          ]
        }
      ]
    },
    {
      "cell_type": "code",
      "source": [
        "history = model.fit(X_train, Y_train, epochs=7, batch_size=64,validation_split=0.1,\n",
        "                    callbacks=[EarlyStopping(monitor='val_loss', patience=3, min_delta=0.0001)])"
      ],
      "metadata": {
        "colab": {
          "base_uri": "https://localhost:8080/"
        },
        "id": "8x9UX8GF_GPg",
        "outputId": "79774f6c-3f22-44db-d4a7-a08c53e82ad4"
      },
      "execution_count": null,
      "outputs": [
        {
          "output_type": "stream",
          "name": "stdout",
          "text": [
            "Epoch 1/7\n",
            "29/29 [==============================] - 37s 1s/step - loss: 1.5702 - accuracy: 0.2904 - val_loss: 1.4020 - val_accuracy: 0.4677\n",
            "Epoch 2/7\n",
            "29/29 [==============================] - 31s 1s/step - loss: 1.1022 - accuracy: 0.4636 - val_loss: 0.9581 - val_accuracy: 0.4826\n",
            "Epoch 3/7\n",
            "29/29 [==============================] - 32s 1s/step - loss: 0.8107 - accuracy: 0.6891 - val_loss: 0.6535 - val_accuracy: 0.7861\n",
            "Epoch 4/7\n",
            "29/29 [==============================] - 45s 2s/step - loss: 0.4397 - accuracy: 0.8878 - val_loss: 0.5494 - val_accuracy: 0.9055\n",
            "Epoch 5/7\n",
            "29/29 [==============================] - 45s 2s/step - loss: 0.2436 - accuracy: 0.9511 - val_loss: 0.2655 - val_accuracy: 0.9502\n",
            "Epoch 6/7\n",
            "29/29 [==============================] - 31s 1s/step - loss: 0.1916 - accuracy: 0.9672 - val_loss: 0.2810 - val_accuracy: 0.9403\n",
            "Epoch 7/7\n",
            "29/29 [==============================] - 34s 1s/step - loss: 0.0764 - accuracy: 0.9867 - val_loss: 0.1820 - val_accuracy: 0.9552\n"
          ]
        }
      ]
    },
    {
      "cell_type": "code",
      "source": [
        "plt.title('Loss')\n",
        "plt.plot(history.history['loss'], label='train')\n",
        "plt.plot(history.history['val_loss'], label='test')\n",
        "plt.legend()\n",
        "plt.show()"
      ],
      "metadata": {
        "colab": {
          "base_uri": "https://localhost:8080/",
          "height": 452
        },
        "id": "cH4ifrSk_GMY",
        "outputId": "41e274f2-4548-446f-c779-e2e6d9a6e7c1"
      },
      "execution_count": null,
      "outputs": [
        {
          "output_type": "display_data",
          "data": {
            "text/plain": [
              "<Figure size 640x480 with 1 Axes>"
            ],
            "image/png": "[encoded data removed]"
          },
          "metadata": {}
        }
      ]
    },
    {
      "cell_type": "code",
      "source": [
        "plt.title('Accuracy')\n",
        "plt.plot(history.history['accuracy'], label='train')\n",
        "plt.plot(history.history['val_accuracy'], label='test')\n",
        "plt.legend()\n",
        "plt.show()"
      ],
      "metadata": {
        "colab": {
          "base_uri": "https://localhost:8080/",
          "height": 452
        },
        "id": "3SU9pOna_GJL",
        "outputId": "025e13a5-dae6-4fc6-b478-c926d0e9834f"
      },
      "execution_count": null,
      "outputs": [
        {
          "output_type": "display_data",
          "data": {
            "text/plain": [
              "<Figure size 640x480 with 1 Axes>"
            ],
            "image/png": "[encoded data removed]"
          },
          "metadata": {}
        }
      ]
    },
    {
      "cell_type": "code",
      "source": [
        "new_complaint = ['Cricket Australia is set to begin the team’s pre-season later this month under a set of new training protocols devised for the safety of players amid the COVID-19 pandemic.']\n",
        "seq = tokenizer.texts_to_sequences(new_complaint)\n",
        "padded = pad_sequences(seq, maxlen=max_length)\n",
        "pred = model.predict(padded)\n",
        "\n",
        "labels = ['Business','Entertainment','Politics','Sports','Tech']\n",
        "print(pred, labels[np.argmax(pred)])"
      ],
      "metadata": {
        "colab": {
          "base_uri": "https://localhost:8080/"
        },
        "id": "DKNUv5D1BVOJ",
        "outputId": "9ae08563-de99-413b-dcce-ad7579f68f52"
      },
      "execution_count": null,
      "outputs": [
        {
          "output_type": "stream",
          "name": "stdout",
          "text": [
            "1/1 [==============================] - 0s 307ms/step\n",
            "[[0.00852136 0.00510562 0.00255992 0.98045623 0.00335691]] Sports\n"
          ]
        }
      ]
    },
    {
      "cell_type": "code",
      "source": [
        "pred"
      ],
      "metadata": {
        "colab": {
          "base_uri": "https://localhost:8080/"
        },
        "id": "co-YDJ2hBVJK",
        "outputId": "6c099f18-e2e3-44c1-bbb4-7694145d50e9"
      },
      "execution_count": null,
      "outputs": [
        {
          "output_type": "execute_result",
          "data": {
            "text/plain": [
              "array([[0.00852136, 0.00510562, 0.00255992, 0.98045623, 0.00335691]],\n",
              "      dtype=float32)"
            ]
          },
          "metadata": {},
          "execution_count": 150
        }
      ]
    },
    {
      "cell_type": "markdown",
      "source": [
        "## **Hyperparameter tuning**"
      ],
      "metadata": {
        "id": "uRdN_yAPYjWo"
      }
    },
    {
      "cell_type": "code",
      "source": [],
      "metadata": {
        "id": "5wBZE7JPYjCE"
      },
      "execution_count": null,
      "outputs": []
    },
    {
      "cell_type": "code",
      "source": [
        "def run_experiment(batch_size, epochs, drop_ratio):\n",
        "  print('batch size: {}, epochs: {}, drop_ratio: {}'.format(\n",
        "      batch_size, epochs, drop_ratio))\n",
        "\n",
        "  model=Sequential()\n",
        "  model.add(Embedding(number_of_words,100,input_length=max_length))\n",
        "  model.add(SpatialDropout1D(drop_ratio))\n",
        "  model.add(LSTM(100, dropout=drop_ratio, recurrent_dropout=drop_ratio))\n",
        "  model.add(Dense(5, activation='softmax'))\n",
        "\n",
        "  model.compile(loss='categorical_crossentropy',\n",
        "                optimizer='adam',\n",
        "                metrics=['accuracy'])\n",
        "\n",
        "\n",
        "  history = model.fit(X_train, Y_train, epochs=epochs, batch_size=batch_size,validation_split=0.1,\n",
        "                    callbacks=[EarlyStopping(monitor='val_loss', patience=3, min_delta=0.0001)])\n",
        "\n",
        "  score = model.evaluate(X_test, Y_test,\n",
        "                       batch_size=batch_size, verbose=0)\n",
        "  print('\\tTest loss:', score[0])\n",
        "  print('\\tTest accuracy:', score[1])"
      ],
      "metadata": {
        "id": "WhS3M8wlS-EH"
      },
      "execution_count": null,
      "outputs": []
    },
    {
      "cell_type": "code",
      "source": [
        "batch_size = 64\n",
        "epochs = 7\n",
        "drop_ratio = 0.2\n",
        "run_experiment(batch_size, epochs, drop_ratio)"
      ],
      "metadata": {
        "colab": {
          "base_uri": "https://localhost:8080/"
        },
        "id": "RXMkAI8iBVGC",
        "outputId": "c58cff1b-6d3f-4c3a-910f-6fba99f4ba52"
      },
      "execution_count": null,
      "outputs": [
        {
          "output_type": "stream",
          "name": "stdout",
          "text": [
            "batch size: 64, epochs: 7, drop_ratio: 0.2\n",
            "Epoch 1/7\n",
            "29/29 [==============================] - 37s 1s/step - loss: 1.5844 - accuracy: 0.2537 - val_loss: 1.5215 - val_accuracy: 0.6070\n",
            "Epoch 2/7\n",
            "29/29 [==============================] - 49s 2s/step - loss: 1.1956 - accuracy: 0.6197 - val_loss: 0.8333 - val_accuracy: 0.7562\n",
            "Epoch 3/7\n",
            "29/29 [==============================] - 46s 2s/step - loss: 0.6273 - accuracy: 0.7973 - val_loss: 0.4421 - val_accuracy: 0.8905\n",
            "Epoch 4/7\n",
            "29/29 [==============================] - 37s 1s/step - loss: 0.4249 - accuracy: 0.9145 - val_loss: 0.4421 - val_accuracy: 0.8706\n",
            "Epoch 5/7\n",
            "29/29 [==============================] - 32s 1s/step - loss: 0.2382 - accuracy: 0.9745 - val_loss: 0.2383 - val_accuracy: 0.9552\n",
            "Epoch 6/7\n",
            "29/29 [==============================] - 31s 1s/step - loss: 0.1212 - accuracy: 0.9845 - val_loss: 0.2929 - val_accuracy: 0.9303\n",
            "Epoch 7/7\n",
            "29/29 [==============================] - 32s 1s/step - loss: 0.0354 - accuracy: 0.9972 - val_loss: 0.1198 - val_accuracy: 0.9701\n",
            "\tTest loss: 0.2971353232860565\n",
            "\tTest accuracy: 0.9372197389602661\n"
          ]
        }
      ]
    },
    {
      "cell_type": "markdown",
      "source": [
        "## **Confusion Matrix**"
      ],
      "metadata": {
        "id": "7U4Kakf2YpYu"
      }
    },
    {
      "cell_type": "code",
      "execution_count": null,
      "metadata": {
        "id": "R8Jxep7RL3pc"
      },
      "outputs": [],
      "source": [
        "def plot_confusion_matrix(cm, classes,\n",
        "                          title='Confusion matrix',\n",
        "                          cmap=plt.cm.Blues):\n",
        "    \"\"\"\n",
        "    This function prints and plots the confusion matrix.\n",
        "    Normalization can be applied by setting `normalize=True`.\n",
        "    \"\"\"\n",
        "\n",
        "    cm = cm.astype('float') / cm.sum(axis=1)[:, np.newaxis]\n",
        "\n",
        "    plt.imshow(cm, interpolation='nearest', cmap=cmap)\n",
        "    plt.title(title, fontsize=30)\n",
        "    plt.colorbar()\n",
        "    tick_marks = np.arange(len(classes))\n",
        "    plt.xticks(tick_marks, classes, rotation=45, fontsize=22)\n",
        "    plt.yticks(tick_marks, classes, fontsize=22)\n",
        "\n",
        "    fmt = '.2f'\n",
        "    thresh = cm.max() / 2.\n",
        "    for i, j in itertools.product(range(cm.shape[0]), range(cm.shape[1])):\n",
        "        plt.text(j, i, format(cm[i, j], fmt),\n",
        "                 horizontalalignment=\"center\",\n",
        "                 color=\"white\" if cm[i, j] > thresh else \"black\")\n",
        "\n",
        "    plt.ylabel('True label', fontsize=25)\n",
        "    plt.xlabel('Predicted label', fontsize=25)"
      ]
    },
    {
      "cell_type": "code",
      "source": [
        "len(Y_test)"
      ],
      "metadata": {
        "colab": {
          "base_uri": "https://localhost:8080/"
        },
        "id": "6SATYMs9WDVd",
        "outputId": "c3659e24-ae17-4a48-e5ae-7ec9262de1ba"
      },
      "execution_count": null,
      "outputs": [
        {
          "output_type": "execute_result",
          "data": {
            "text/plain": [
              "223"
            ]
          },
          "metadata": {},
          "execution_count": 176
        }
      ]
    },
    {
      "cell_type": "code",
      "source": [
        "model.evaluate(X_test,Y_test)"
      ],
      "metadata": {
        "colab": {
          "base_uri": "https://localhost:8080/"
        },
        "id": "5n9a2oklW1jc",
        "outputId": "9e7be87f-0def-4862-b214-695afadc7273"
      },
      "execution_count": null,
      "outputs": [
        {
          "output_type": "stream",
          "name": "stdout",
          "text": [
            "7/7 [==============================] - 2s 266ms/step - loss: 0.3998 - accuracy: 0.8924\n"
          ]
        },
        {
          "output_type": "execute_result",
          "data": {
            "text/plain": [
              "[0.3997960686683655, 0.8923766613006592]"
            ]
          },
          "metadata": {},
          "execution_count": 177
        }
      ]
    },
    {
      "cell_type": "code",
      "source": [
        "predictions = model.predict(X_test)"
      ],
      "metadata": {
        "colab": {
          "base_uri": "https://localhost:8080/"
        },
        "id": "jW3KWYReXP3C",
        "outputId": "0bbb0d0a-7416-40d1-8ba9-69f535c3fad7"
      },
      "execution_count": null,
      "outputs": [
        {
          "output_type": "stream",
          "name": "stdout",
          "text": [
            "7/7 [==============================] - 1s 198ms/step\n"
          ]
        }
      ]
    },
    {
      "cell_type": "code",
      "source": [
        "y_test_1d = []\n",
        "y_pred_1d = []\n",
        "\n",
        "for i in range(len(Y_test)):\n",
        "  y_test_1d.append(labels[np.argmax(Y_test[i])])\n",
        "  y_pred_1d.append(labels[np.argmax(predictions[i])])"
      ],
      "metadata": {
        "id": "QE0HN_F9Uije"
      },
      "execution_count": null,
      "outputs": []
    },
    {
      "cell_type": "code",
      "source": [
        "cnf_matrix = confusion_matrix(y_test_1d, y_pred_1d)\n",
        "plt.figure(figsize=(15,8))\n",
        "plot_confusion_matrix(cnf_matrix, classes=labels, title=\"Confusion matrix\")\n",
        "plt.show()"
      ],
      "metadata": {
        "colab": {
          "base_uri": "https://localhost:8080/",
          "height": 920
        },
        "id": "Rhy4jZPYUgTz",
        "outputId": "d46f74c2-b4ca-46c7-acd4-e16e311241ef"
      },
      "execution_count": null,
      "outputs": [
        {
          "output_type": "display_data",
          "data": {
            "text/plain": [
              "<Figure size 1500x800 with 2 Axes>"
            ],
            "image/png": "[encoded data removed]"
          },
          "metadata": {}
        }
      ]
    },
    {
      "cell_type": "code",
      "source": [],
      "metadata": {
        "id": "j4MtmU28UgQa"
      },
      "execution_count": null,
      "outputs": []
    },
    {
      "cell_type": "code",
      "source": [],
      "metadata": {
        "id": "YhMW4OYSUgJf"
      },
      "execution_count": null,
      "outputs": []
    },
    {
      "cell_type": "markdown",
      "metadata": {
        "id": "zj4AIDqEd2aY"
      },
      "source": [
        "## **Approach 3: Using Bert**"
      ]
    },
    {
      "cell_type": "code",
      "execution_count": null,
      "metadata": {
        "id": "l21du6GHiA5N"
      },
      "outputs": [],
      "source": [
        "import pandas as pd"
      ]
    },
    {
      "cell_type": "code",
      "execution_count": null,
      "metadata": {
        "id": "hMSdRbXCd4-y"
      },
      "outputs": [],
      "source": [
        "df = pd.read_excel('Approach_1.xlsx')"
      ]
    },
    {
      "cell_type": "code",
      "execution_count": null,
      "metadata": {
        "colab": {
          "base_uri": "https://localhost:8080/",
          "height": 756
        },
        "id": "wuD0IUOKiG-S",
        "outputId": "31ddb1e7-689b-4217-8889-0ca55e02c9c5"
      },
      "outputs": [
        {
          "data": {
            "text/html": [
              "\n",
              "\n",
              "  <div id=\"df-7c1ad296-2a3c-4fef-8653-0265d8f8bdf8\">\n",
              "    <div class=\"colab-df-container\">\n",
              "      <div>\n",
              "<style scoped>\n",
              "    .dataframe tbody tr th:only-of-type {\n",
              "        vertical-align: middle;\n",
              "    }\n",
              "\n",
              "    .dataframe tbody tr th {\n",
              "        vertical-align: top;\n",
              "    }\n",
              "\n",
              "    .dataframe thead th {\n",
              "        text-align: right;\n",
              "    }\n",
              "</style>\n",
              "<table border=\"1\" class=\"dataframe\">\n",
              "  <thead>\n",
              "    <tr style=\"text-align: right;\">\n",
              "      <th></th>\n",
              "      <th>S.No</th>\n",
              "      <th>TITLE</th>\n",
              "      <th>Keywords</th>\n",
              "      <th>Authors</th>\n",
              "      <th>Conference</th>\n",
              "      <th>YEAR PUBLISHED</th>\n",
              "      <th>BY THE YEAR</th>\n",
              "      <th>NUMBER OF AUTHORS</th>\n",
              "      <th>Linear Regression Prediction</th>\n",
              "      <th>Decision Tree Regressor Prediction</th>\n",
              "      <th>Random Forest Regressor Prediction</th>\n",
              "      <th>Support Vector Machine Prediction</th>\n",
              "      <th>Gradient Boosting Regressor Prediction</th>\n",
              "      <th>XG Boost Regressor Prediction</th>\n",
              "      <th>Lasso Prediction</th>\n",
              "      <th>Ridge Prediction</th>\n",
              "    </tr>\n",
              "  </thead>\n",
              "  <tbody>\n",
              "    <tr>\n",
              "      <th>0</th>\n",
              "      <td>0</td>\n",
              "      <td>Grassroot innovations for institute flexibilit...</td>\n",
              "      <td>Indian Institute(s) of Technology (IITs), tech...</td>\n",
              "      <td>N Tale, C Johari, R Thapliyal, P Adhikari, KS ...</td>\n",
              "      <td>29th International Conference of the Internati...</td>\n",
              "      <td>2020</td>\n",
              "      <td>2023</td>\n",
              "      <td>5</td>\n",
              "      <td>46.089120</td>\n",
              "      <td>25</td>\n",
              "      <td>11.12</td>\n",
              "      <td>9.165628</td>\n",
              "      <td>5.25067</td>\n",
              "      <td>6.292922</td>\n",
              "      <td>0.0</td>\n",
              "      <td>47.995235</td>\n",
              "    </tr>\n",
              "    <tr>\n",
              "      <th>1</th>\n",
              "      <td>1</td>\n",
              "      <td>Grassroot innovations for institute flexibilit...</td>\n",
              "      <td>Indian Institute(s) of Technology (IITs), tech...</td>\n",
              "      <td>N Tale, C Johari, R Thapliyal, P Adhikari, KS ...</td>\n",
              "      <td>29th International Conference of the Internati...</td>\n",
              "      <td>2020</td>\n",
              "      <td>2024</td>\n",
              "      <td>5</td>\n",
              "      <td>46.544229</td>\n",
              "      <td>25</td>\n",
              "      <td>11.12</td>\n",
              "      <td>9.244576</td>\n",
              "      <td>5.25067</td>\n",
              "      <td>6.292922</td>\n",
              "      <td>0.0</td>\n",
              "      <td>48.179670</td>\n",
              "    </tr>\n",
              "    <tr>\n",
              "      <th>2</th>\n",
              "      <td>2</td>\n",
              "      <td>Grassroot innovations for institute flexibilit...</td>\n",
              "      <td>Indian Institute(s) of Technology (IITs), tech...</td>\n",
              "      <td>N Tale, C Johari, R Thapliyal, P Adhikari, KS ...</td>\n",
              "      <td>29th International Conference of the Internati...</td>\n",
              "      <td>2020</td>\n",
              "      <td>2025</td>\n",
              "      <td>5</td>\n",
              "      <td>46.999338</td>\n",
              "      <td>25</td>\n",
              "      <td>11.12</td>\n",
              "      <td>9.337487</td>\n",
              "      <td>5.25067</td>\n",
              "      <td>6.292922</td>\n",
              "      <td>0.0</td>\n",
              "      <td>48.364105</td>\n",
              "    </tr>\n",
              "    <tr>\n",
              "      <th>3</th>\n",
              "      <td>3</td>\n",
              "      <td>Grassroot innovations for institute flexibilit...</td>\n",
              "      <td>Indian Institute(s) of Technology (IITs), tech...</td>\n",
              "      <td>N Tale, C Johari, R Thapliyal, P Adhikari, KS ...</td>\n",
              "      <td>29th International Conference of the Internati...</td>\n",
              "      <td>2020</td>\n",
              "      <td>2026</td>\n",
              "      <td>5</td>\n",
              "      <td>47.454447</td>\n",
              "      <td>25</td>\n",
              "      <td>11.12</td>\n",
              "      <td>9.443548</td>\n",
              "      <td>5.25067</td>\n",
              "      <td>6.292922</td>\n",
              "      <td>0.0</td>\n",
              "      <td>48.548540</td>\n",
              "    </tr>\n",
              "    <tr>\n",
              "      <th>4</th>\n",
              "      <td>4</td>\n",
              "      <td>Grassroot innovations for institute flexibilit...</td>\n",
              "      <td>Indian Institute(s) of Technology (IITs), tech...</td>\n",
              "      <td>N Tale, C Johari, R Thapliyal, P Adhikari, KS ...</td>\n",
              "      <td>29th International Conference of the Internati...</td>\n",
              "      <td>2020</td>\n",
              "      <td>2027</td>\n",
              "      <td>5</td>\n",
              "      <td>47.909556</td>\n",
              "      <td>25</td>\n",
              "      <td>11.12</td>\n",
              "      <td>9.561730</td>\n",
              "      <td>5.25067</td>\n",
              "      <td>6.292922</td>\n",
              "      <td>0.0</td>\n",
              "      <td>48.732975</td>\n",
              "    </tr>\n",
              "  </tbody>\n",
              "</table>\n",
              "</div>\n",
              "      <button class=\"colab-df-convert\" onclick=\"convertToInteractive('df-7c1ad296-2a3c-4fef-8653-0265d8f8bdf8')\"\n",
              "              title=\"Convert this dataframe to an interactive table.\"\n",
              "              style=\"display:none;\">\n",
              "\n",
              "  <svg xmlns=\"http://www.w3.org/2000/svg\" height=\"24px\"viewBox=\"0 0 24 24\"\n",
              "       width=\"24px\">\n",
              "    <path d=\"M0 0h24v24H0V0z\" fill=\"none\"/>\n",
              "    <path d=\"M18.56 5.44l.94 2.06.94-2.06 2.06-.94-2.06-.94-.94-2.06-.94 2.06-2.06.94zm-11 1L8.5 8.5l.94-2.06 2.06-.94-2.06-.94L8.5 2.5l-.94 2.06-2.06.94zm10 10l.94 2.06.94-2.06 2.06-.94-2.06-.94-.94-2.06-.94 2.06-2.06.94z\"/><path d=\"M17.41 7.96l-1.37-1.37c-.4-.4-.92-.59-1.43-.59-.52 0-1.04.2-1.43.59L10.3 9.45l-7.72 7.72c-.78.78-.78 2.05 0 2.83L4 21.41c.39.39.9.59 1.41.59.51 0 1.02-.2 1.41-.59l7.78-7.78 2.81-2.81c.8-.78.8-2.07 0-2.86zM5.41 20L4 18.59l7.72-7.72 1.47 1.35L5.41 20z\"/>\n",
              "  </svg>\n",
              "      </button>\n",
              "\n",
              "\n",
              "\n",
              "    <div id=\"df-cc063abc-7478-4d58-b39b-b7dfd71576fe\">\n",
              "      <button class=\"colab-df-quickchart\" onclick=\"quickchart('df-cc063abc-7478-4d58-b39b-b7dfd71576fe')\"\n",
              "              title=\"Suggest charts.\"\n",
              "              style=\"display:none;\">\n",
              "\n",
              "<svg xmlns=\"http://www.w3.org/2000/svg\" height=\"24px\"viewBox=\"0 0 24 24\"\n",
              "     width=\"24px\">\n",
              "    <g>\n",
              "        <path d=\"M19 3H5c-1.1 0-2 .9-2 2v14c0 1.1.9 2 2 2h14c1.1 0 2-.9 2-2V5c0-1.1-.9-2-2-2zM9 17H7v-7h2v7zm4 0h-2V7h2v10zm4 0h-2v-4h2v4z\"/>\n",
              "    </g>\n",
              "</svg>\n",
              "      </button>\n",
              "    </div>\n",
              "\n",
              "<style>\n",
              "  .colab-df-quickchart {\n",
              "    background-color: #E8F0FE;\n",
              "    border: none;\n",
              "    border-radius: 50%;\n",
              "    cursor: pointer;\n",
              "    display: none;\n",
              "    fill: #1967D2;\n",
              "    height: 32px;\n",
              "    padding: 0 0 0 0;\n",
              "    width: 32px;\n",
              "  }\n",
              "\n",
              "  .colab-df-quickchart:hover {\n",
              "    background-color: #E2EBFA;\n",
              "    box-shadow: 0px 1px 2px rgba(60, 64, 67, 0.3), 0px 1px 3px 1px rgba(60, 64, 67, 0.15);\n",
              "    fill: #174EA6;\n",
              "  }\n",
              "\n",
              "  [theme=dark] .colab-df-quickchart {\n",
              "    background-color: #3B4455;\n",
              "    fill: #D2E3FC;\n",
              "  }\n",
              "\n",
              "  [theme=dark] .colab-df-quickchart:hover {\n",
              "    background-color: #434B5C;\n",
              "    box-shadow: 0px 1px 3px 1px rgba(0, 0, 0, 0.15);\n",
              "    filter: drop-shadow(0px 1px 2px rgba(0, 0, 0, 0.3));\n",
              "    fill: #FFFFFF;\n",
              "  }\n",
              "</style>\n",
              "\n",
              "    <script>\n",
              "      async function quickchart(key) {\n",
              "        const containerElement = document.querySelector('#' + key);\n",
              "        const charts = await google.colab.kernel.invokeFunction(\n",
              "            'suggestCharts', [key], {});\n",
              "      }\n",
              "    </script>\n",
              "\n",
              "\n",
              "      <script>\n",
              "\n",
              "function displayQuickchartButton(domScope) {\n",
              "  let quickchartButtonEl =\n",
              "    domScope.querySelector('#df-cc063abc-7478-4d58-b39b-b7dfd71576fe button.colab-df-quickchart');\n",
              "  quickchartButtonEl.style.display =\n",
              "    google.colab.kernel.accessAllowed ? 'block' : 'none';\n",
              "}\n",
              "\n",
              "        displayQuickchartButton(document);\n",
              "      </script>\n",
              "      <style>\n",
              "    .colab-df-container {\n",
              "      display:flex;\n",
              "      flex-wrap:wrap;\n",
              "      gap: 12px;\n",
              "    }\n",
              "\n",
              "    .colab-df-convert {\n",
              "      background-color: #E8F0FE;\n",
              "      border: none;\n",
              "      border-radius: 50%;\n",
              "      cursor: pointer;\n",
              "      display: none;\n",
              "      fill: #1967D2;\n",
              "      height: 32px;\n",
              "      padding: 0 0 0 0;\n",
              "      width: 32px;\n",
              "    }\n",
              "\n",
              "    .colab-df-convert:hover {\n",
              "      background-color: #E2EBFA;\n",
              "      box-shadow: 0px 1px 2px rgba(60, 64, 67, 0.3), 0px 1px 3px 1px rgba(60, 64, 67, 0.15);\n",
              "      fill: #174EA6;\n",
              "    }\n",
              "\n",
              "    [theme=dark] .colab-df-convert {\n",
              "      background-color: #3B4455;\n",
              "      fill: #D2E3FC;\n",
              "    }\n",
              "\n",
              "    [theme=dark] .colab-df-convert:hover {\n",
              "      background-color: #434B5C;\n",
              "      box-shadow: 0px 1px 3px 1px rgba(0, 0, 0, 0.15);\n",
              "      filter: drop-shadow(0px 1px 2px rgba(0, 0, 0, 0.3));\n",
              "      fill: #FFFFFF;\n",
              "    }\n",
              "  </style>\n",
              "\n",
              "      <script>\n",
              "        const buttonEl =\n",
              "          document.querySelector('#df-7c1ad296-2a3c-4fef-8653-0265d8f8bdf8 button.colab-df-convert');\n",
              "        buttonEl.style.display =\n",
              "          google.colab.kernel.accessAllowed ? 'block' : 'none';\n",
              "\n",
              "        async function convertToInteractive(key) {\n",
              "          const element = document.querySelector('#df-7c1ad296-2a3c-4fef-8653-0265d8f8bdf8');\n",
              "          const dataTable =\n",
              "            await google.colab.kernel.invokeFunction('convertToInteractive',\n",
              "                                                     [key], {});\n",
              "          if (!dataTable) return;\n",
              "\n",
              "          const docLinkHtml = 'Like what you see? Visit the ' +\n",
              "            '<a target=\"_blank\" href=https://colab.research.google.com/notebooks/data_table.ipynb>data table notebook</a>'\n",
              "            + ' to learn more about interactive tables.';\n",
              "          element.innerHTML = '';\n",
              "          dataTable['output_type'] = 'display_data';\n",
              "          await google.colab.output.renderOutput(dataTable, element);\n",
              "          const docLink = document.createElement('div');\n",
              "          docLink.innerHTML = docLinkHtml;\n",
              "          element.appendChild(docLink);\n",
              "        }\n",
              "      </script>\n",
              "    </div>\n",
              "  </div>\n"
            ],
            "text/plain": [
              "   S.No                                              TITLE  \\\n",
              "0     0  Grassroot innovations for institute flexibilit...   \n",
              "1     1  Grassroot innovations for institute flexibilit...   \n",
              "2     2  Grassroot innovations for institute flexibilit...   \n",
              "3     3  Grassroot innovations for institute flexibilit...   \n",
              "4     4  Grassroot innovations for institute flexibilit...   \n",
              "\n",
              "                                            Keywords  \\\n",
              "0  Indian Institute(s) of Technology (IITs), tech...   \n",
              "1  Indian Institute(s) of Technology (IITs), tech...   \n",
              "2  Indian Institute(s) of Technology (IITs), tech...   \n",
              "3  Indian Institute(s) of Technology (IITs), tech...   \n",
              "4  Indian Institute(s) of Technology (IITs), tech...   \n",
              "\n",
              "                                             Authors  \\\n",
              "0  N Tale, C Johari, R Thapliyal, P Adhikari, KS ...   \n",
              "1  N Tale, C Johari, R Thapliyal, P Adhikari, KS ...   \n",
              "2  N Tale, C Johari, R Thapliyal, P Adhikari, KS ...   \n",
              "3  N Tale, C Johari, R Thapliyal, P Adhikari, KS ...   \n",
              "4  N Tale, C Johari, R Thapliyal, P Adhikari, KS ...   \n",
              "\n",
              "                                          Conference  YEAR PUBLISHED  \\\n",
              "0  29th International Conference of the Internati...            2020   \n",
              "1  29th International Conference of the Internati...            2020   \n",
              "2  29th International Conference of the Internati...            2020   \n",
              "3  29th International Conference of the Internati...            2020   \n",
              "4  29th International Conference of the Internati...            2020   \n",
              "\n",
              "   BY THE YEAR  NUMBER OF AUTHORS  Linear Regression Prediction  \\\n",
              "0         2023                  5                     46.089120   \n",
              "1         2024                  5                     46.544229   \n",
              "2         2025                  5                     46.999338   \n",
              "3         2026                  5                     47.454447   \n",
              "4         2027                  5                     47.909556   \n",
              "\n",
              "   Decision Tree Regressor Prediction  Random Forest Regressor Prediction  \\\n",
              "0                                  25                               11.12   \n",
              "1                                  25                               11.12   \n",
              "2                                  25                               11.12   \n",
              "3                                  25                               11.12   \n",
              "4                                  25                               11.12   \n",
              "\n",
              "   Support Vector Machine Prediction  Gradient Boosting Regressor Prediction  \\\n",
              "0                           9.165628                                 5.25067   \n",
              "1                           9.244576                                 5.25067   \n",
              "2                           9.337487                                 5.25067   \n",
              "3                           9.443548                                 5.25067   \n",
              "4                           9.561730                                 5.25067   \n",
              "\n",
              "   XG Boost Regressor Prediction  Lasso Prediction  Ridge Prediction  \n",
              "0                       6.292922               0.0         47.995235  \n",
              "1                       6.292922               0.0         48.179670  \n",
              "2                       6.292922               0.0         48.364105  \n",
              "3                       6.292922               0.0         48.548540  \n",
              "4                       6.292922               0.0         48.732975  "
            ]
          },
          "execution_count": 8,
          "metadata": {},
          "output_type": "execute_result"
        }
      ],
      "source": [
        "df.head()"
      ]
    },
    {
      "cell_type": "code",
      "execution_count": null,
      "metadata": {
        "id": "CUVn-gj-j3TE"
      },
      "outputs": [],
      "source": []
    },
    {
      "cell_type": "code",
      "execution_count": null,
      "metadata": {
        "id": "OZ-njBzrhmlk"
      },
      "outputs": [],
      "source": []
    },
    {
      "cell_type": "code",
      "execution_count": null,
      "metadata": {
        "id": "9fWk-Zr-i6jt"
      },
      "outputs": [],
      "source": []
    }
  ],
  "metadata": {
    "colab": {
      "provenance": [],
      "authorship_tag": "ABX9TyOuKjgRC6zAn4E+uLKfSEAR",
      "include_colab_link": true
    },
    "kernelspec": {
      "display_name": "Python 3",
      "name": "python3"
    },
    "language_info": {
      "name": "python"
    }
  },
  "nbformat": 4,
  "nbformat_minor": 0
}