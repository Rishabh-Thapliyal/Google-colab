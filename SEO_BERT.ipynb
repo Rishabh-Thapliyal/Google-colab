{
  "cells": [
    {
      "cell_type": "markdown",
      "metadata": {
        "id": "view-in-github",
        "colab_type": "text"
      },
      "source": [
        "<a href=\"https://colab.research.google.com/github/Rishabh-Thapliyal/Google-colab/blob/main/SEO_BERT.ipynb\" target=\"_parent\"><img src=\"https://colab.research.google.com/assets/colab-badge.svg\" alt=\"Open In Colab\"/></a>"
      ]
    },
    {
      "cell_type": "code",
      "execution_count": null,
      "metadata": {
        "colab": {
          "base_uri": "https://localhost:8080/"
        },
        "id": "U7Sq9YxSrhmx",
        "outputId": "d5ac4cc8-39f5-43f5-8ec8-b6c2de43f4f3"
      },
      "outputs": [
        {
          "output_type": "stream",
          "name": "stdout",
          "text": [
            "Requirement already satisfied: tensorflow_hub in /usr/local/lib/python3.10/dist-packages (0.14.0)\n",
            "Requirement already satisfied: numpy>=1.12.0 in /usr/local/lib/python3.10/dist-packages (from tensorflow_hub) (1.23.5)\n",
            "Requirement already satisfied: protobuf>=3.19.6 in /usr/local/lib/python3.10/dist-packages (from tensorflow_hub) (3.20.3)\n",
            "Collecting tensorflow_text\n",
            "  Downloading tensorflow_text-2.13.0-cp310-cp310-manylinux_2_17_x86_64.manylinux2014_x86_64.whl (6.5 MB)\n",
            "\u001b[2K     \u001b[90m━━━━━━━━━━━━━━━━━━━━━━━━━━━━━━━━━━━━━━━━\u001b[0m \u001b[32m6.5/6.5 MB\u001b[0m \u001b[31m13.3 MB/s\u001b[0m eta \u001b[36m0:00:00\u001b[0m\n",
            "\u001b[?25hRequirement already satisfied: tensorflow-hub>=0.8.0 in /usr/local/lib/python3.10/dist-packages (from tensorflow_text) (0.14.0)\n",
            "Collecting tensorflow<2.14,>=2.13.0 (from tensorflow_text)\n",
            "  Downloading tensorflow-2.13.0-cp310-cp310-manylinux_2_17_x86_64.manylinux2014_x86_64.whl (524.1 MB)\n",
            "\u001b[2K     \u001b[90m━━━━━━━━━━━━━━━━━━━━━━━━━━━━━━━━━━━━━━━\u001b[0m \u001b[32m524.1/524.1 MB\u001b[0m \u001b[31m1.2 MB/s\u001b[0m eta \u001b[36m0:00:00\u001b[0m\n",
            "\u001b[?25hRequirement already satisfied: absl-py>=1.0.0 in /usr/local/lib/python3.10/dist-packages (from tensorflow<2.14,>=2.13.0->tensorflow_text) (1.4.0)\n",
            "Requirement already satisfied: astunparse>=1.6.0 in /usr/local/lib/python3.10/dist-packages (from tensorflow<2.14,>=2.13.0->tensorflow_text) (1.6.3)\n",
            "Requirement already satisfied: flatbuffers>=23.1.21 in /usr/local/lib/python3.10/dist-packages (from tensorflow<2.14,>=2.13.0->tensorflow_text) (23.5.26)\n",
            "Requirement already satisfied: gast<=0.4.0,>=0.2.1 in /usr/local/lib/python3.10/dist-packages (from tensorflow<2.14,>=2.13.0->tensorflow_text) (0.4.0)\n",
            "Requirement already satisfied: google-pasta>=0.1.1 in /usr/local/lib/python3.10/dist-packages (from tensorflow<2.14,>=2.13.0->tensorflow_text) (0.2.0)\n",
            "Requirement already satisfied: grpcio<2.0,>=1.24.3 in /usr/local/lib/python3.10/dist-packages (from tensorflow<2.14,>=2.13.0->tensorflow_text) (1.57.0)\n",
            "Requirement already satisfied: h5py>=2.9.0 in /usr/local/lib/python3.10/dist-packages (from tensorflow<2.14,>=2.13.0->tensorflow_text) (3.9.0)\n",
            "Collecting keras<2.14,>=2.13.1 (from tensorflow<2.14,>=2.13.0->tensorflow_text)\n",
            "  Downloading keras-2.13.1-py3-none-any.whl (1.7 MB)\n",
            "\u001b[2K     \u001b[90m━━━━━━━━━━━━━━━━━━━━━━━━━━━━━━━━━━━━━━━━\u001b[0m \u001b[32m1.7/1.7 MB\u001b[0m \u001b[31m80.4 MB/s\u001b[0m eta \u001b[36m0:00:00\u001b[0m\n",
            "\u001b[?25hRequirement already satisfied: libclang>=13.0.0 in /usr/local/lib/python3.10/dist-packages (from tensorflow<2.14,>=2.13.0->tensorflow_text) (16.0.6)\n",
            "Requirement already satisfied: numpy<=1.24.3,>=1.22 in /usr/local/lib/python3.10/dist-packages (from tensorflow<2.14,>=2.13.0->tensorflow_text) (1.23.5)\n",
            "Requirement already satisfied: opt-einsum>=2.3.2 in /usr/local/lib/python3.10/dist-packages (from tensorflow<2.14,>=2.13.0->tensorflow_text) (3.3.0)\n",
            "Requirement already satisfied: packaging in /usr/local/lib/python3.10/dist-packages (from tensorflow<2.14,>=2.13.0->tensorflow_text) (23.1)\n",
            "Requirement already satisfied: protobuf!=4.21.0,!=4.21.1,!=4.21.2,!=4.21.3,!=4.21.4,!=4.21.5,<5.0.0dev,>=3.20.3 in /usr/local/lib/python3.10/dist-packages (from tensorflow<2.14,>=2.13.0->tensorflow_text) (3.20.3)\n",
            "Requirement already satisfied: setuptools in /usr/local/lib/python3.10/dist-packages (from tensorflow<2.14,>=2.13.0->tensorflow_text) (67.7.2)\n",
            "Requirement already satisfied: six>=1.12.0 in /usr/local/lib/python3.10/dist-packages (from tensorflow<2.14,>=2.13.0->tensorflow_text) (1.16.0)\n",
            "Collecting tensorboard<2.14,>=2.13 (from tensorflow<2.14,>=2.13.0->tensorflow_text)\n",
            "  Downloading tensorboard-2.13.0-py3-none-any.whl (5.6 MB)\n",
            "\u001b[2K     \u001b[90m━━━━━━━━━━━━━━━━━━━━━━━━━━━━━━━━━━━━━━━━\u001b[0m \u001b[32m5.6/5.6 MB\u001b[0m \u001b[31m98.4 MB/s\u001b[0m eta \u001b[36m0:00:00\u001b[0m\n",
            "\u001b[?25hCollecting tensorflow-estimator<2.14,>=2.13.0 (from tensorflow<2.14,>=2.13.0->tensorflow_text)\n",
            "  Downloading tensorflow_estimator-2.13.0-py2.py3-none-any.whl (440 kB)\n",
            "\u001b[2K     \u001b[90m━━━━━━━━━━━━━━━━━━━━━━━━━━━━━━━━━━━━━━\u001b[0m \u001b[32m440.8/440.8 kB\u001b[0m \u001b[31m45.8 MB/s\u001b[0m eta \u001b[36m0:00:00\u001b[0m\n",
            "\u001b[?25hRequirement already satisfied: termcolor>=1.1.0 in /usr/local/lib/python3.10/dist-packages (from tensorflow<2.14,>=2.13.0->tensorflow_text) (2.3.0)\n",
            "Collecting typing-extensions<4.6.0,>=3.6.6 (from tensorflow<2.14,>=2.13.0->tensorflow_text)\n",
            "  Downloading typing_extensions-4.5.0-py3-none-any.whl (27 kB)\n",
            "Requirement already satisfied: wrapt>=1.11.0 in /usr/local/lib/python3.10/dist-packages (from tensorflow<2.14,>=2.13.0->tensorflow_text) (1.14.1)\n",
            "Requirement already satisfied: tensorflow-io-gcs-filesystem>=0.23.1 in /usr/local/lib/python3.10/dist-packages (from tensorflow<2.14,>=2.13.0->tensorflow_text) (0.33.0)\n",
            "Requirement already satisfied: wheel<1.0,>=0.23.0 in /usr/local/lib/python3.10/dist-packages (from astunparse>=1.6.0->tensorflow<2.14,>=2.13.0->tensorflow_text) (0.41.2)\n",
            "Requirement already satisfied: google-auth<3,>=1.6.3 in /usr/local/lib/python3.10/dist-packages (from tensorboard<2.14,>=2.13->tensorflow<2.14,>=2.13.0->tensorflow_text) (2.17.3)\n",
            "Requirement already satisfied: google-auth-oauthlib<1.1,>=0.5 in /usr/local/lib/python3.10/dist-packages (from tensorboard<2.14,>=2.13->tensorflow<2.14,>=2.13.0->tensorflow_text) (1.0.0)\n",
            "Requirement already satisfied: markdown>=2.6.8 in /usr/local/lib/python3.10/dist-packages (from tensorboard<2.14,>=2.13->tensorflow<2.14,>=2.13.0->tensorflow_text) (3.4.4)\n",
            "Requirement already satisfied: requests<3,>=2.21.0 in /usr/local/lib/python3.10/dist-packages (from tensorboard<2.14,>=2.13->tensorflow<2.14,>=2.13.0->tensorflow_text) (2.31.0)\n",
            "Requirement already satisfied: tensorboard-data-server<0.8.0,>=0.7.0 in /usr/local/lib/python3.10/dist-packages (from tensorboard<2.14,>=2.13->tensorflow<2.14,>=2.13.0->tensorflow_text) (0.7.1)\n",
            "Requirement already satisfied: werkzeug>=1.0.1 in /usr/local/lib/python3.10/dist-packages (from tensorboard<2.14,>=2.13->tensorflow<2.14,>=2.13.0->tensorflow_text) (2.3.7)\n",
            "Requirement already satisfied: cachetools<6.0,>=2.0.0 in /usr/local/lib/python3.10/dist-packages (from google-auth<3,>=1.6.3->tensorboard<2.14,>=2.13->tensorflow<2.14,>=2.13.0->tensorflow_text) (5.3.1)\n",
            "Requirement already satisfied: pyasn1-modules>=0.2.1 in /usr/local/lib/python3.10/dist-packages (from google-auth<3,>=1.6.3->tensorboard<2.14,>=2.13->tensorflow<2.14,>=2.13.0->tensorflow_text) (0.3.0)\n",
            "Requirement already satisfied: rsa<5,>=3.1.4 in /usr/local/lib/python3.10/dist-packages (from google-auth<3,>=1.6.3->tensorboard<2.14,>=2.13->tensorflow<2.14,>=2.13.0->tensorflow_text) (4.9)\n",
            "Requirement already satisfied: requests-oauthlib>=0.7.0 in /usr/local/lib/python3.10/dist-packages (from google-auth-oauthlib<1.1,>=0.5->tensorboard<2.14,>=2.13->tensorflow<2.14,>=2.13.0->tensorflow_text) (1.3.1)\n",
            "Requirement already satisfied: charset-normalizer<4,>=2 in /usr/local/lib/python3.10/dist-packages (from requests<3,>=2.21.0->tensorboard<2.14,>=2.13->tensorflow<2.14,>=2.13.0->tensorflow_text) (3.2.0)\n",
            "Requirement already satisfied: idna<4,>=2.5 in /usr/local/lib/python3.10/dist-packages (from requests<3,>=2.21.0->tensorboard<2.14,>=2.13->tensorflow<2.14,>=2.13.0->tensorflow_text) (3.4)\n",
            "Requirement already satisfied: urllib3<3,>=1.21.1 in /usr/local/lib/python3.10/dist-packages (from requests<3,>=2.21.0->tensorboard<2.14,>=2.13->tensorflow<2.14,>=2.13.0->tensorflow_text) (2.0.4)\n",
            "Requirement already satisfied: certifi>=2017.4.17 in /usr/local/lib/python3.10/dist-packages (from requests<3,>=2.21.0->tensorboard<2.14,>=2.13->tensorflow<2.14,>=2.13.0->tensorflow_text) (2023.7.22)\n",
            "Requirement already satisfied: MarkupSafe>=2.1.1 in /usr/local/lib/python3.10/dist-packages (from werkzeug>=1.0.1->tensorboard<2.14,>=2.13->tensorflow<2.14,>=2.13.0->tensorflow_text) (2.1.3)\n",
            "Requirement already satisfied: pyasn1<0.6.0,>=0.4.6 in /usr/local/lib/python3.10/dist-packages (from pyasn1-modules>=0.2.1->google-auth<3,>=1.6.3->tensorboard<2.14,>=2.13->tensorflow<2.14,>=2.13.0->tensorflow_text) (0.5.0)\n",
            "Requirement already satisfied: oauthlib>=3.0.0 in /usr/local/lib/python3.10/dist-packages (from requests-oauthlib>=0.7.0->google-auth-oauthlib<1.1,>=0.5->tensorboard<2.14,>=2.13->tensorflow<2.14,>=2.13.0->tensorflow_text) (3.2.2)\n",
            "Installing collected packages: typing-extensions, tensorflow-estimator, keras, tensorboard, tensorflow, tensorflow_text\n",
            "  Attempting uninstall: typing-extensions\n",
            "    Found existing installation: typing_extensions 4.7.1\n",
            "    Uninstalling typing_extensions-4.7.1:\n",
            "      Successfully uninstalled typing_extensions-4.7.1\n",
            "  Attempting uninstall: tensorflow-estimator\n",
            "    Found existing installation: tensorflow-estimator 2.12.0\n",
            "    Uninstalling tensorflow-estimator-2.12.0:\n",
            "      Successfully uninstalled tensorflow-estimator-2.12.0\n",
            "  Attempting uninstall: keras\n",
            "    Found existing installation: keras 2.12.0\n",
            "    Uninstalling keras-2.12.0:\n",
            "      Successfully uninstalled keras-2.12.0\n",
            "  Attempting uninstall: tensorboard\n",
            "    Found existing installation: tensorboard 2.12.3\n",
            "    Uninstalling tensorboard-2.12.3:\n",
            "      Successfully uninstalled tensorboard-2.12.3\n",
            "  Attempting uninstall: tensorflow\n",
            "    Found existing installation: tensorflow 2.12.0\n",
            "    Uninstalling tensorflow-2.12.0:\n",
            "      Successfully uninstalled tensorflow-2.12.0\n",
            "\u001b[31mERROR: pip's dependency resolver does not currently take into account all the packages that are installed. This behaviour is the source of the following dependency conflicts.\n",
            "pydantic 2.2.1 requires typing-extensions>=4.6.1, but you have typing-extensions 4.5.0 which is incompatible.\n",
            "pydantic-core 2.6.1 requires typing-extensions!=4.7.0,>=4.6.0, but you have typing-extensions 4.5.0 which is incompatible.\u001b[0m\u001b[31m\n",
            "\u001b[0mSuccessfully installed keras-2.13.1 tensorboard-2.13.0 tensorflow-2.13.0 tensorflow-estimator-2.13.0 tensorflow_text-2.13.0 typing-extensions-4.5.0\n"
          ]
        }
      ],
      "source": [
        "!pip install tensorflow_hub\n",
        "!pip install tensorflow_text"
      ]
    },
    {
      "cell_type": "code",
      "execution_count": null,
      "metadata": {
        "id": "i8MhBA0yZ8e_"
      },
      "outputs": [],
      "source": [
        "import pandas as pd\n",
        "import numpy as np\n",
        "import matplotlib.pyplot as plt\n",
        "import seaborn as sns\n",
        "import tensorflow as tf\n",
        "from sklearn.model_selection import train_test_split\n",
        "import tensorflow_hub as hub\n",
        "import tensorflow_text as text\n",
        "\n",
        "from keras.preprocessing.text import Tokenizer\n",
        "from sklearn.preprocessing import LabelEncoder\n",
        "from keras.utils import pad_sequences, to_categorical\n",
        "from keras.models import Sequential\n",
        "from keras.layers import Dense, Embedding, LSTM, SpatialDropout1D\n",
        "from sklearn.model_selection import train_test_split"
      ]
    },
    {
      "cell_type": "code",
      "execution_count": null,
      "metadata": {
        "id": "Zp6fjkTXrVuu"
      },
      "outputs": [],
      "source": [
        "df = pd.read_csv('bbc-text.csv')"
      ]
    },
    {
      "cell_type": "code",
      "execution_count": null,
      "metadata": {
        "colab": {
          "base_uri": "https://localhost:8080/",
          "height": 206
        },
        "id": "5jkToET9sAVI",
        "outputId": "c03d48f4-2b81-4d94-b30b-2ba7cb9cae21"
      },
      "outputs": [
        {
          "output_type": "execute_result",
          "data": {
            "text/plain": [
              "        category                                               text\n",
              "0           tech  tv future in the hands of viewers with home th...\n",
              "1       business  worldcom boss  left books alone  former worldc...\n",
              "2          sport  tigers wary of farrell  gamble  leicester say ...\n",
              "3          sport  yeading face newcastle in fa cup premiership s...\n",
              "4  entertainment  ocean s twelve raids box office ocean s twelve..."
            ],
            "text/html": [
              "\n",
              "  <div id=\"df-79d4a312-656d-42f7-89c0-3903c718faa0\" class=\"colab-df-container\">\n",
              "    <div>\n",
              "<style scoped>\n",
              "    .dataframe tbody tr th:only-of-type {\n",
              "        vertical-align: middle;\n",
              "    }\n",
              "\n",
              "    .dataframe tbody tr th {\n",
              "        vertical-align: top;\n",
              "    }\n",
              "\n",
              "    .dataframe thead th {\n",
              "        text-align: right;\n",
              "    }\n",
              "</style>\n",
              "<table border=\"1\" class=\"dataframe\">\n",
              "  <thead>\n",
              "    <tr style=\"text-align: right;\">\n",
              "      <th></th>\n",
              "      <th>category</th>\n",
              "      <th>text</th>\n",
              "    </tr>\n",
              "  </thead>\n",
              "  <tbody>\n",
              "    <tr>\n",
              "      <th>0</th>\n",
              "      <td>tech</td>\n",
              "      <td>tv future in the hands of viewers with home th...</td>\n",
              "    </tr>\n",
              "    <tr>\n",
              "      <th>1</th>\n",
              "      <td>business</td>\n",
              "      <td>worldcom boss  left books alone  former worldc...</td>\n",
              "    </tr>\n",
              "    <tr>\n",
              "      <th>2</th>\n",
              "      <td>sport</td>\n",
              "      <td>tigers wary of farrell  gamble  leicester say ...</td>\n",
              "    </tr>\n",
              "    <tr>\n",
              "      <th>3</th>\n",
              "      <td>sport</td>\n",
              "      <td>yeading face newcastle in fa cup premiership s...</td>\n",
              "    </tr>\n",
              "    <tr>\n",
              "      <th>4</th>\n",
              "      <td>entertainment</td>\n",
              "      <td>ocean s twelve raids box office ocean s twelve...</td>\n",
              "    </tr>\n",
              "  </tbody>\n",
              "</table>\n",
              "</div>\n",
              "    <div class=\"colab-df-buttons\">\n",
              "\n",
              "  <div class=\"colab-df-container\">\n",
              "    <button class=\"colab-df-convert\" onclick=\"convertToInteractive('df-79d4a312-656d-42f7-89c0-3903c718faa0')\"\n",
              "            title=\"Convert this dataframe to an interactive table.\"\n",
              "            style=\"display:none;\">\n",
              "\n",
              "  <svg xmlns=\"http://www.w3.org/2000/svg\" height=\"24px\" viewBox=\"0 -960 960 960\">\n",
              "    <path d=\"M120-120v-720h720v720H120Zm60-500h600v-160H180v160Zm220 220h160v-160H400v160Zm0 220h160v-160H400v160ZM180-400h160v-160H180v160Zm440 0h160v-160H620v160ZM180-180h160v-160H180v160Zm440 0h160v-160H620v160Z\"/>\n",
              "  </svg>\n",
              "    </button>\n",
              "\n",
              "  <style>\n",
              "    .colab-df-container {\n",
              "      display:flex;\n",
              "      gap: 12px;\n",
              "    }\n",
              "\n",
              "    .colab-df-convert {\n",
              "      background-color: #E8F0FE;\n",
              "      border: none;\n",
              "      border-radius: 50%;\n",
              "      cursor: pointer;\n",
              "      display: none;\n",
              "      fill: #1967D2;\n",
              "      height: 32px;\n",
              "      padding: 0 0 0 0;\n",
              "      width: 32px;\n",
              "    }\n",
              "\n",
              "    .colab-df-convert:hover {\n",
              "      background-color: #E2EBFA;\n",
              "      box-shadow: 0px 1px 2px rgba(60, 64, 67, 0.3), 0px 1px 3px 1px rgba(60, 64, 67, 0.15);\n",
              "      fill: #174EA6;\n",
              "    }\n",
              "\n",
              "    .colab-df-buttons div {\n",
              "      margin-bottom: 4px;\n",
              "    }\n",
              "\n",
              "    [theme=dark] .colab-df-convert {\n",
              "      background-color: #3B4455;\n",
              "      fill: #D2E3FC;\n",
              "    }\n",
              "\n",
              "    [theme=dark] .colab-df-convert:hover {\n",
              "      background-color: #434B5C;\n",
              "      box-shadow: 0px 1px 3px 1px rgba(0, 0, 0, 0.15);\n",
              "      filter: drop-shadow(0px 1px 2px rgba(0, 0, 0, 0.3));\n",
              "      fill: #FFFFFF;\n",
              "    }\n",
              "  </style>\n",
              "\n",
              "    <script>\n",
              "      const buttonEl =\n",
              "        document.querySelector('#df-79d4a312-656d-42f7-89c0-3903c718faa0 button.colab-df-convert');\n",
              "      buttonEl.style.display =\n",
              "        google.colab.kernel.accessAllowed ? 'block' : 'none';\n",
              "\n",
              "      async function convertToInteractive(key) {\n",
              "        const element = document.querySelector('#df-79d4a312-656d-42f7-89c0-3903c718faa0');\n",
              "        const dataTable =\n",
              "          await google.colab.kernel.invokeFunction('convertToInteractive',\n",
              "                                                    [key], {});\n",
              "        if (!dataTable) return;\n",
              "\n",
              "        const docLinkHtml = 'Like what you see? Visit the ' +\n",
              "          '<a target=\"_blank\" href=https://colab.research.google.com/notebooks/data_table.ipynb>data table notebook</a>'\n",
              "          + ' to learn more about interactive tables.';\n",
              "        element.innerHTML = '';\n",
              "        dataTable['output_type'] = 'display_data';\n",
              "        await google.colab.output.renderOutput(dataTable, element);\n",
              "        const docLink = document.createElement('div');\n",
              "        docLink.innerHTML = docLinkHtml;\n",
              "        element.appendChild(docLink);\n",
              "      }\n",
              "    </script>\n",
              "  </div>\n",
              "\n",
              "\n",
              "<div id=\"df-0627a047-a877-4c52-b93e-09fa6bc17154\">\n",
              "  <button class=\"colab-df-quickchart\" onclick=\"quickchart('df-0627a047-a877-4c52-b93e-09fa6bc17154')\"\n",
              "            title=\"Suggest charts.\"\n",
              "            style=\"display:none;\">\n",
              "\n",
              "<svg xmlns=\"http://www.w3.org/2000/svg\" height=\"24px\"viewBox=\"0 0 24 24\"\n",
              "     width=\"24px\">\n",
              "    <g>\n",
              "        <path d=\"M19 3H5c-1.1 0-2 .9-2 2v14c0 1.1.9 2 2 2h14c1.1 0 2-.9 2-2V5c0-1.1-.9-2-2-2zM9 17H7v-7h2v7zm4 0h-2V7h2v10zm4 0h-2v-4h2v4z\"/>\n",
              "    </g>\n",
              "</svg>\n",
              "  </button>\n",
              "\n",
              "<style>\n",
              "  .colab-df-quickchart {\n",
              "      --bg-color: #E8F0FE;\n",
              "      --fill-color: #1967D2;\n",
              "      --hover-bg-color: #E2EBFA;\n",
              "      --hover-fill-color: #174EA6;\n",
              "      --disabled-fill-color: #AAA;\n",
              "      --disabled-bg-color: #DDD;\n",
              "  }\n",
              "\n",
              "  [theme=dark] .colab-df-quickchart {\n",
              "      --bg-color: #3B4455;\n",
              "      --fill-color: #D2E3FC;\n",
              "      --hover-bg-color: #434B5C;\n",
              "      --hover-fill-color: #FFFFFF;\n",
              "      --disabled-bg-color: #3B4455;\n",
              "      --disabled-fill-color: #666;\n",
              "  }\n",
              "\n",
              "  .colab-df-quickchart {\n",
              "    background-color: var(--bg-color);\n",
              "    border: none;\n",
              "    border-radius: 50%;\n",
              "    cursor: pointer;\n",
              "    display: none;\n",
              "    fill: var(--fill-color);\n",
              "    height: 32px;\n",
              "    padding: 0;\n",
              "    width: 32px;\n",
              "  }\n",
              "\n",
              "  .colab-df-quickchart:hover {\n",
              "    background-color: var(--hover-bg-color);\n",
              "    box-shadow: 0 1px 2px rgba(60, 64, 67, 0.3), 0 1px 3px 1px rgba(60, 64, 67, 0.15);\n",
              "    fill: var(--button-hover-fill-color);\n",
              "  }\n",
              "\n",
              "  .colab-df-quickchart-complete:disabled,\n",
              "  .colab-df-quickchart-complete:disabled:hover {\n",
              "    background-color: var(--disabled-bg-color);\n",
              "    fill: var(--disabled-fill-color);\n",
              "    box-shadow: none;\n",
              "  }\n",
              "\n",
              "  .colab-df-spinner {\n",
              "    border: 2px solid var(--fill-color);\n",
              "    border-color: transparent;\n",
              "    border-bottom-color: var(--fill-color);\n",
              "    animation:\n",
              "      spin 1s steps(1) infinite;\n",
              "  }\n",
              "\n",
              "  @keyframes spin {\n",
              "    0% {\n",
              "      border-color: transparent;\n",
              "      border-bottom-color: var(--fill-color);\n",
              "      border-left-color: var(--fill-color);\n",
              "    }\n",
              "    20% {\n",
              "      border-color: transparent;\n",
              "      border-left-color: var(--fill-color);\n",
              "      border-top-color: var(--fill-color);\n",
              "    }\n",
              "    30% {\n",
              "      border-color: transparent;\n",
              "      border-left-color: var(--fill-color);\n",
              "      border-top-color: var(--fill-color);\n",
              "      border-right-color: var(--fill-color);\n",
              "    }\n",
              "    40% {\n",
              "      border-color: transparent;\n",
              "      border-right-color: var(--fill-color);\n",
              "      border-top-color: var(--fill-color);\n",
              "    }\n",
              "    60% {\n",
              "      border-color: transparent;\n",
              "      border-right-color: var(--fill-color);\n",
              "    }\n",
              "    80% {\n",
              "      border-color: transparent;\n",
              "      border-right-color: var(--fill-color);\n",
              "      border-bottom-color: var(--fill-color);\n",
              "    }\n",
              "    90% {\n",
              "      border-color: transparent;\n",
              "      border-bottom-color: var(--fill-color);\n",
              "    }\n",
              "  }\n",
              "</style>\n",
              "\n",
              "  <script>\n",
              "    async function quickchart(key) {\n",
              "      const quickchartButtonEl =\n",
              "        document.querySelector('#' + key + ' button');\n",
              "      quickchartButtonEl.disabled = true;  // To prevent multiple clicks.\n",
              "      quickchartButtonEl.classList.add('colab-df-spinner');\n",
              "      try {\n",
              "        const charts = await google.colab.kernel.invokeFunction(\n",
              "            'suggestCharts', [key], {});\n",
              "      } catch (error) {\n",
              "        console.error('Error during call to suggestCharts:', error);\n",
              "      }\n",
              "      quickchartButtonEl.classList.remove('colab-df-spinner');\n",
              "      quickchartButtonEl.classList.add('colab-df-quickchart-complete');\n",
              "    }\n",
              "    (() => {\n",
              "      let quickchartButtonEl =\n",
              "        document.querySelector('#df-0627a047-a877-4c52-b93e-09fa6bc17154 button');\n",
              "      quickchartButtonEl.style.display =\n",
              "        google.colab.kernel.accessAllowed ? 'block' : 'none';\n",
              "    })();\n",
              "  </script>\n",
              "</div>\n",
              "    </div>\n",
              "  </div>\n"
            ]
          },
          "metadata": {},
          "execution_count": 10
        }
      ],
      "source": [
        "df.head()"
      ]
    },
    {
      "cell_type": "code",
      "execution_count": null,
      "metadata": {
        "id": "sdwCjEaVsBqm"
      },
      "outputs": [],
      "source": [
        "import re\n",
        "from nltk import word_tokenize\n",
        "import nltk\n",
        "from nltk.corpus import stopwords"
      ]
    },
    {
      "cell_type": "code",
      "execution_count": null,
      "metadata": {
        "colab": {
          "base_uri": "https://localhost:8080/"
        },
        "id": "OlYpOzVvsTI0",
        "outputId": "42b9cabd-d31a-48fb-c2e5-8e73ad0f8e4c"
      },
      "outputs": [
        {
          "output_type": "stream",
          "name": "stderr",
          "text": [
            "[nltk_data] Downloading package stopwords to /root/nltk_data...\n",
            "[nltk_data]   Unzipping corpora/stopwords.zip.\n"
          ]
        }
      ],
      "source": [
        "space = re.compile('[/(){}\\[\\]\\|@,;]')\n",
        "symbols= re.compile('[^0-9a-z #+_]')\n",
        "nltk.download('stopwords')\n",
        "STOPWORDS = set(stopwords.words('english'))\n",
        "\n",
        "def clean_text(text):\n",
        "    text = text.lower() # lowercase text\n",
        "    text = space.sub(' ', text) # replace REPLACE_BY_SPACE_RE symbols by space in text. substitute the matched string in REPLACE_BY_SPACE_RE with space.\n",
        "    text = symbols.sub('', text) # remove symbols which are in BAD_SYMBOLS_RE from text. substitute the matched string in BAD_SYMBOLS_RE with nothing.\n",
        "    text = text.replace('x', '')\n",
        "#    text = re.sub(r'\\W+', '', text)\n",
        "    text = ' '.join(word for word in text.split() if word not in STOPWORDS) # remove stopwors from text\n",
        "    return text"
      ]
    },
    {
      "cell_type": "code",
      "execution_count": null,
      "metadata": {
        "id": "FzIUvC9csUlG"
      },
      "outputs": [],
      "source": [
        "df['clean_text'] = df['text'].apply(lambda x: clean_text(x))"
      ]
    },
    {
      "cell_type": "code",
      "execution_count": null,
      "metadata": {
        "colab": {
          "base_uri": "https://localhost:8080/",
          "height": 206
        },
        "id": "2IEJ_AaFsey1",
        "outputId": "9aa04a5c-f427-4f54-bd3f-d4646ccfbff5"
      },
      "outputs": [
        {
          "output_type": "execute_result",
          "data": {
            "text/plain": [
              "        category                                               text  \\\n",
              "0           tech  tv future in the hands of viewers with home th...   \n",
              "1       business  worldcom boss  left books alone  former worldc...   \n",
              "2          sport  tigers wary of farrell  gamble  leicester say ...   \n",
              "3          sport  yeading face newcastle in fa cup premiership s...   \n",
              "4  entertainment  ocean s twelve raids box office ocean s twelve...   \n",
              "\n",
              "                                          clean_text  \n",
              "0  tv future hands viewers home theatre systems p...  \n",
              "1  worldcom boss left books alone former worldcom...  \n",
              "2  tigers wary farrell gamble leicester say rushe...  \n",
              "3  yeading face newcastle fa cup premiership side...  \n",
              "4  ocean twelve raids bo office ocean twelve crim...  "
            ],
            "text/html": [
              "\n",
              "  <div id=\"df-f8d5fd1a-4679-45c0-85a7-556adcebebae\" class=\"colab-df-container\">\n",
              "    <div>\n",
              "<style scoped>\n",
              "    .dataframe tbody tr th:only-of-type {\n",
              "        vertical-align: middle;\n",
              "    }\n",
              "\n",
              "    .dataframe tbody tr th {\n",
              "        vertical-align: top;\n",
              "    }\n",
              "\n",
              "    .dataframe thead th {\n",
              "        text-align: right;\n",
              "    }\n",
              "</style>\n",
              "<table border=\"1\" class=\"dataframe\">\n",
              "  <thead>\n",
              "    <tr style=\"text-align: right;\">\n",
              "      <th></th>\n",
              "      <th>category</th>\n",
              "      <th>text</th>\n",
              "      <th>clean_text</th>\n",
              "    </tr>\n",
              "  </thead>\n",
              "  <tbody>\n",
              "    <tr>\n",
              "      <th>0</th>\n",
              "      <td>tech</td>\n",
              "      <td>tv future in the hands of viewers with home th...</td>\n",
              "      <td>tv future hands viewers home theatre systems p...</td>\n",
              "    </tr>\n",
              "    <tr>\n",
              "      <th>1</th>\n",
              "      <td>business</td>\n",
              "      <td>worldcom boss  left books alone  former worldc...</td>\n",
              "      <td>worldcom boss left books alone former worldcom...</td>\n",
              "    </tr>\n",
              "    <tr>\n",
              "      <th>2</th>\n",
              "      <td>sport</td>\n",
              "      <td>tigers wary of farrell  gamble  leicester say ...</td>\n",
              "      <td>tigers wary farrell gamble leicester say rushe...</td>\n",
              "    </tr>\n",
              "    <tr>\n",
              "      <th>3</th>\n",
              "      <td>sport</td>\n",
              "      <td>yeading face newcastle in fa cup premiership s...</td>\n",
              "      <td>yeading face newcastle fa cup premiership side...</td>\n",
              "    </tr>\n",
              "    <tr>\n",
              "      <th>4</th>\n",
              "      <td>entertainment</td>\n",
              "      <td>ocean s twelve raids box office ocean s twelve...</td>\n",
              "      <td>ocean twelve raids bo office ocean twelve crim...</td>\n",
              "    </tr>\n",
              "  </tbody>\n",
              "</table>\n",
              "</div>\n",
              "    <div class=\"colab-df-buttons\">\n",
              "\n",
              "  <div class=\"colab-df-container\">\n",
              "    <button class=\"colab-df-convert\" onclick=\"convertToInteractive('df-f8d5fd1a-4679-45c0-85a7-556adcebebae')\"\n",
              "            title=\"Convert this dataframe to an interactive table.\"\n",
              "            style=\"display:none;\">\n",
              "\n",
              "  <svg xmlns=\"http://www.w3.org/2000/svg\" height=\"24px\" viewBox=\"0 -960 960 960\">\n",
              "    <path d=\"M120-120v-720h720v720H120Zm60-500h600v-160H180v160Zm220 220h160v-160H400v160Zm0 220h160v-160H400v160ZM180-400h160v-160H180v160Zm440 0h160v-160H620v160ZM180-180h160v-160H180v160Zm440 0h160v-160H620v160Z\"/>\n",
              "  </svg>\n",
              "    </button>\n",
              "\n",
              "  <style>\n",
              "    .colab-df-container {\n",
              "      display:flex;\n",
              "      gap: 12px;\n",
              "    }\n",
              "\n",
              "    .colab-df-convert {\n",
              "      background-color: #E8F0FE;\n",
              "      border: none;\n",
              "      border-radius: 50%;\n",
              "      cursor: pointer;\n",
              "      display: none;\n",
              "      fill: #1967D2;\n",
              "      height: 32px;\n",
              "      padding: 0 0 0 0;\n",
              "      width: 32px;\n",
              "    }\n",
              "\n",
              "    .colab-df-convert:hover {\n",
              "      background-color: #E2EBFA;\n",
              "      box-shadow: 0px 1px 2px rgba(60, 64, 67, 0.3), 0px 1px 3px 1px rgba(60, 64, 67, 0.15);\n",
              "      fill: #174EA6;\n",
              "    }\n",
              "\n",
              "    .colab-df-buttons div {\n",
              "      margin-bottom: 4px;\n",
              "    }\n",
              "\n",
              "    [theme=dark] .colab-df-convert {\n",
              "      background-color: #3B4455;\n",
              "      fill: #D2E3FC;\n",
              "    }\n",
              "\n",
              "    [theme=dark] .colab-df-convert:hover {\n",
              "      background-color: #434B5C;\n",
              "      box-shadow: 0px 1px 3px 1px rgba(0, 0, 0, 0.15);\n",
              "      filter: drop-shadow(0px 1px 2px rgba(0, 0, 0, 0.3));\n",
              "      fill: #FFFFFF;\n",
              "    }\n",
              "  </style>\n",
              "\n",
              "    <script>\n",
              "      const buttonEl =\n",
              "        document.querySelector('#df-f8d5fd1a-4679-45c0-85a7-556adcebebae button.colab-df-convert');\n",
              "      buttonEl.style.display =\n",
              "        google.colab.kernel.accessAllowed ? 'block' : 'none';\n",
              "\n",
              "      async function convertToInteractive(key) {\n",
              "        const element = document.querySelector('#df-f8d5fd1a-4679-45c0-85a7-556adcebebae');\n",
              "        const dataTable =\n",
              "          await google.colab.kernel.invokeFunction('convertToInteractive',\n",
              "                                                    [key], {});\n",
              "        if (!dataTable) return;\n",
              "\n",
              "        const docLinkHtml = 'Like what you see? Visit the ' +\n",
              "          '<a target=\"_blank\" href=https://colab.research.google.com/notebooks/data_table.ipynb>data table notebook</a>'\n",
              "          + ' to learn more about interactive tables.';\n",
              "        element.innerHTML = '';\n",
              "        dataTable['output_type'] = 'display_data';\n",
              "        await google.colab.output.renderOutput(dataTable, element);\n",
              "        const docLink = document.createElement('div');\n",
              "        docLink.innerHTML = docLinkHtml;\n",
              "        element.appendChild(docLink);\n",
              "      }\n",
              "    </script>\n",
              "  </div>\n",
              "\n",
              "\n",
              "<div id=\"df-875e6e05-493a-486e-af44-c1ff1a5d1f87\">\n",
              "  <button class=\"colab-df-quickchart\" onclick=\"quickchart('df-875e6e05-493a-486e-af44-c1ff1a5d1f87')\"\n",
              "            title=\"Suggest charts.\"\n",
              "            style=\"display:none;\">\n",
              "\n",
              "<svg xmlns=\"http://www.w3.org/2000/svg\" height=\"24px\"viewBox=\"0 0 24 24\"\n",
              "     width=\"24px\">\n",
              "    <g>\n",
              "        <path d=\"M19 3H5c-1.1 0-2 .9-2 2v14c0 1.1.9 2 2 2h14c1.1 0 2-.9 2-2V5c0-1.1-.9-2-2-2zM9 17H7v-7h2v7zm4 0h-2V7h2v10zm4 0h-2v-4h2v4z\"/>\n",
              "    </g>\n",
              "</svg>\n",
              "  </button>\n",
              "\n",
              "<style>\n",
              "  .colab-df-quickchart {\n",
              "      --bg-color: #E8F0FE;\n",
              "      --fill-color: #1967D2;\n",
              "      --hover-bg-color: #E2EBFA;\n",
              "      --hover-fill-color: #174EA6;\n",
              "      --disabled-fill-color: #AAA;\n",
              "      --disabled-bg-color: #DDD;\n",
              "  }\n",
              "\n",
              "  [theme=dark] .colab-df-quickchart {\n",
              "      --bg-color: #3B4455;\n",
              "      --fill-color: #D2E3FC;\n",
              "      --hover-bg-color: #434B5C;\n",
              "      --hover-fill-color: #FFFFFF;\n",
              "      --disabled-bg-color: #3B4455;\n",
              "      --disabled-fill-color: #666;\n",
              "  }\n",
              "\n",
              "  .colab-df-quickchart {\n",
              "    background-color: var(--bg-color);\n",
              "    border: none;\n",
              "    border-radius: 50%;\n",
              "    cursor: pointer;\n",
              "    display: none;\n",
              "    fill: var(--fill-color);\n",
              "    height: 32px;\n",
              "    padding: 0;\n",
              "    width: 32px;\n",
              "  }\n",
              "\n",
              "  .colab-df-quickchart:hover {\n",
              "    background-color: var(--hover-bg-color);\n",
              "    box-shadow: 0 1px 2px rgba(60, 64, 67, 0.3), 0 1px 3px 1px rgba(60, 64, 67, 0.15);\n",
              "    fill: var(--button-hover-fill-color);\n",
              "  }\n",
              "\n",
              "  .colab-df-quickchart-complete:disabled,\n",
              "  .colab-df-quickchart-complete:disabled:hover {\n",
              "    background-color: var(--disabled-bg-color);\n",
              "    fill: var(--disabled-fill-color);\n",
              "    box-shadow: none;\n",
              "  }\n",
              "\n",
              "  .colab-df-spinner {\n",
              "    border: 2px solid var(--fill-color);\n",
              "    border-color: transparent;\n",
              "    border-bottom-color: var(--fill-color);\n",
              "    animation:\n",
              "      spin 1s steps(1) infinite;\n",
              "  }\n",
              "\n",
              "  @keyframes spin {\n",
              "    0% {\n",
              "      border-color: transparent;\n",
              "      border-bottom-color: var(--fill-color);\n",
              "      border-left-color: var(--fill-color);\n",
              "    }\n",
              "    20% {\n",
              "      border-color: transparent;\n",
              "      border-left-color: var(--fill-color);\n",
              "      border-top-color: var(--fill-color);\n",
              "    }\n",
              "    30% {\n",
              "      border-color: transparent;\n",
              "      border-left-color: var(--fill-color);\n",
              "      border-top-color: var(--fill-color);\n",
              "      border-right-color: var(--fill-color);\n",
              "    }\n",
              "    40% {\n",
              "      border-color: transparent;\n",
              "      border-right-color: var(--fill-color);\n",
              "      border-top-color: var(--fill-color);\n",
              "    }\n",
              "    60% {\n",
              "      border-color: transparent;\n",
              "      border-right-color: var(--fill-color);\n",
              "    }\n",
              "    80% {\n",
              "      border-color: transparent;\n",
              "      border-right-color: var(--fill-color);\n",
              "      border-bottom-color: var(--fill-color);\n",
              "    }\n",
              "    90% {\n",
              "      border-color: transparent;\n",
              "      border-bottom-color: var(--fill-color);\n",
              "    }\n",
              "  }\n",
              "</style>\n",
              "\n",
              "  <script>\n",
              "    async function quickchart(key) {\n",
              "      const quickchartButtonEl =\n",
              "        document.querySelector('#' + key + ' button');\n",
              "      quickchartButtonEl.disabled = true;  // To prevent multiple clicks.\n",
              "      quickchartButtonEl.classList.add('colab-df-spinner');\n",
              "      try {\n",
              "        const charts = await google.colab.kernel.invokeFunction(\n",
              "            'suggestCharts', [key], {});\n",
              "      } catch (error) {\n",
              "        console.error('Error during call to suggestCharts:', error);\n",
              "      }\n",
              "      quickchartButtonEl.classList.remove('colab-df-spinner');\n",
              "      quickchartButtonEl.classList.add('colab-df-quickchart-complete');\n",
              "    }\n",
              "    (() => {\n",
              "      let quickchartButtonEl =\n",
              "        document.querySelector('#df-875e6e05-493a-486e-af44-c1ff1a5d1f87 button');\n",
              "      quickchartButtonEl.style.display =\n",
              "        google.colab.kernel.accessAllowed ? 'block' : 'none';\n",
              "    })();\n",
              "  </script>\n",
              "</div>\n",
              "    </div>\n",
              "  </div>\n"
            ]
          },
          "metadata": {},
          "execution_count": 14
        }
      ],
      "source": [
        "df.head()"
      ]
    },
    {
      "cell_type": "markdown",
      "metadata": {
        "id": "L_q7U2Slt4VF"
      },
      "source": [
        "## **Defining X and Y**"
      ]
    },
    {
      "cell_type": "code",
      "execution_count": null,
      "metadata": {
        "id": "TdSR2JtVs_00"
      },
      "outputs": [],
      "source": [
        "X = df['clean_text']"
      ]
    },
    {
      "cell_type": "code",
      "execution_count": null,
      "metadata": {
        "id": "uH76Q_nYs2DU"
      },
      "outputs": [],
      "source": [
        "encoder = LabelEncoder()\n",
        "df['y_labels'] = encoder.fit_transform(df['category'])"
      ]
    },
    {
      "cell_type": "code",
      "execution_count": null,
      "metadata": {
        "id": "y0zaXCVztK3q"
      },
      "outputs": [],
      "source": [
        "num_classes = np.max(df['y_labels']) + 1\n",
        "Y = to_categorical(df['y_labels'], num_classes)"
      ]
    },
    {
      "cell_type": "code",
      "execution_count": null,
      "metadata": {
        "colab": {
          "base_uri": "https://localhost:8080/"
        },
        "id": "kfTQzuKOtKt-",
        "outputId": "96e5ec47-a681-499a-8fb5-a1adee8eb6c6"
      },
      "outputs": [
        {
          "output_type": "execute_result",
          "data": {
            "text/plain": [
              "array([[0., 0., 0., 0., 1.],\n",
              "       [1., 0., 0., 0., 0.],\n",
              "       [0., 0., 0., 1., 0.],\n",
              "       ...,\n",
              "       [0., 1., 0., 0., 0.],\n",
              "       [0., 0., 1., 0., 0.],\n",
              "       [0., 0., 0., 1., 0.]], dtype=float32)"
            ]
          },
          "metadata": {},
          "execution_count": 18
        }
      ],
      "source": [
        "Y"
      ]
    },
    {
      "cell_type": "code",
      "execution_count": null,
      "metadata": {
        "id": "TqEz9rOPs2AZ"
      },
      "outputs": [],
      "source": [
        "X_train, X_test, Y_train, Y_test = train_test_split(X,Y,)"
      ]
    },
    {
      "cell_type": "markdown",
      "metadata": {
        "id": "7rkL2szQslWh"
      },
      "source": [
        "## **BERT Model**"
      ]
    },
    {
      "cell_type": "code",
      "execution_count": null,
      "metadata": {
        "id": "AYNhq-flsgrE"
      },
      "outputs": [],
      "source": [
        "bert_preprocess = hub.KerasLayer(\"https://tfhub.dev/tensorflow/bert_en_uncased_preprocess/3\")\n",
        "\n",
        "bert_encoder = hub.KerasLayer(\"https://tfhub.dev/tensorflow/bert_en_uncased_L-12_H-768_A-12/4\")"
      ]
    },
    {
      "cell_type": "code",
      "execution_count": null,
      "metadata": {
        "colab": {
          "base_uri": "https://localhost:8080/"
        },
        "id": "V6lQEzKP_fCB",
        "outputId": "f3e7db52-6ddd-425c-aa5b-9489ec2e62d3"
      },
      "outputs": [
        {
          "output_type": "execute_result",
          "data": {
            "text/plain": [
              "{'input_type_ids': <tf.Tensor: shape=(1, 128), dtype=int32, numpy=\n",
              " array([[0, 0, 0, 0, 0, 0, 0, 0, 0, 0, 0, 0, 0, 0, 0, 0, 0, 0, 0, 0, 0, 0,\n",
              "         0, 0, 0, 0, 0, 0, 0, 0, 0, 0, 0, 0, 0, 0, 0, 0, 0, 0, 0, 0, 0, 0,\n",
              "         0, 0, 0, 0, 0, 0, 0, 0, 0, 0, 0, 0, 0, 0, 0, 0, 0, 0, 0, 0, 0, 0,\n",
              "         0, 0, 0, 0, 0, 0, 0, 0, 0, 0, 0, 0, 0, 0, 0, 0, 0, 0, 0, 0, 0, 0,\n",
              "         0, 0, 0, 0, 0, 0, 0, 0, 0, 0, 0, 0, 0, 0, 0, 0, 0, 0, 0, 0, 0, 0,\n",
              "         0, 0, 0, 0, 0, 0, 0, 0, 0, 0, 0, 0, 0, 0, 0, 0, 0, 0]],\n",
              "       dtype=int32)>,\n",
              " 'input_word_ids': <tf.Tensor: shape=(1, 128), dtype=int32, numpy=\n",
              " array([[ 101, 2002, 2003, 1037, 2204, 2879,  102,    0,    0,    0,    0,\n",
              "            0,    0,    0,    0,    0,    0,    0,    0,    0,    0,    0,\n",
              "            0,    0,    0,    0,    0,    0,    0,    0,    0,    0,    0,\n",
              "            0,    0,    0,    0,    0,    0,    0,    0,    0,    0,    0,\n",
              "            0,    0,    0,    0,    0,    0,    0,    0,    0,    0,    0,\n",
              "            0,    0,    0,    0,    0,    0,    0,    0,    0,    0,    0,\n",
              "            0,    0,    0,    0,    0,    0,    0,    0,    0,    0,    0,\n",
              "            0,    0,    0,    0,    0,    0,    0,    0,    0,    0,    0,\n",
              "            0,    0,    0,    0,    0,    0,    0,    0,    0,    0,    0,\n",
              "            0,    0,    0,    0,    0,    0,    0,    0,    0,    0,    0,\n",
              "            0,    0,    0,    0,    0,    0,    0,    0,    0,    0,    0,\n",
              "            0,    0,    0,    0,    0,    0,    0]], dtype=int32)>,\n",
              " 'input_mask': <tf.Tensor: shape=(1, 128), dtype=int32, numpy=\n",
              " array([[1, 1, 1, 1, 1, 1, 1, 0, 0, 0, 0, 0, 0, 0, 0, 0, 0, 0, 0, 0, 0, 0,\n",
              "         0, 0, 0, 0, 0, 0, 0, 0, 0, 0, 0, 0, 0, 0, 0, 0, 0, 0, 0, 0, 0, 0,\n",
              "         0, 0, 0, 0, 0, 0, 0, 0, 0, 0, 0, 0, 0, 0, 0, 0, 0, 0, 0, 0, 0, 0,\n",
              "         0, 0, 0, 0, 0, 0, 0, 0, 0, 0, 0, 0, 0, 0, 0, 0, 0, 0, 0, 0, 0, 0,\n",
              "         0, 0, 0, 0, 0, 0, 0, 0, 0, 0, 0, 0, 0, 0, 0, 0, 0, 0, 0, 0, 0, 0,\n",
              "         0, 0, 0, 0, 0, 0, 0, 0, 0, 0, 0, 0, 0, 0, 0, 0, 0, 0]],\n",
              "       dtype=int32)>}"
            ]
          },
          "metadata": {},
          "execution_count": 21
        }
      ],
      "source": [
        "text = ['He is a good boy']\n",
        "bert_preprocess(text)"
      ]
    },
    {
      "cell_type": "code",
      "execution_count": null,
      "metadata": {
        "colab": {
          "base_uri": "https://localhost:8080/"
        },
        "id": "Ab_64f5J-DDJ",
        "outputId": "f76d564f-0de1-4245-cf8b-fb98020f6176"
      },
      "outputs": [
        {
          "output_type": "execute_result",
          "data": {
            "text/plain": [
              "{'input_type_ids': <tf.Tensor: shape=(1, 128), dtype=int32, numpy=\n",
              " array([[0, 0, 0, 0, 0, 0, 0, 0, 0, 0, 0, 0, 0, 0, 0, 0, 0, 0, 0, 0, 0, 0,\n",
              "         0, 0, 0, 0, 0, 0, 0, 0, 0, 0, 0, 0, 0, 0, 0, 0, 0, 0, 0, 0, 0, 0,\n",
              "         0, 0, 0, 0, 0, 0, 0, 0, 0, 0, 0, 0, 0, 0, 0, 0, 0, 0, 0, 0, 0, 0,\n",
              "         0, 0, 0, 0, 0, 0, 0, 0, 0, 0, 0, 0, 0, 0, 0, 0, 0, 0, 0, 0, 0, 0,\n",
              "         0, 0, 0, 0, 0, 0, 0, 0, 0, 0, 0, 0, 0, 0, 0, 0, 0, 0, 0, 0, 0, 0,\n",
              "         0, 0, 0, 0, 0, 0, 0, 0, 0, 0, 0, 0, 0, 0, 0, 0, 0, 0]],\n",
              "       dtype=int32)>,\n",
              " 'input_word_ids': <tf.Tensor: shape=(1, 128), dtype=int32, numpy=\n",
              " array([[ 101, 2002, 2003, 1037, 2204, 2879, 1012, 2002, 2003, 1037, 2204,\n",
              "         2879, 1012, 2002, 2003, 1037, 2204, 2879, 1012, 2002, 2003, 1037,\n",
              "         2204, 2879, 1012, 2002, 2003, 1037, 2204, 2879, 1012, 2002, 2003,\n",
              "         1037, 2204, 2879, 1012, 2002, 2003, 1037, 2204, 2879, 1012, 2002,\n",
              "         2003, 1037, 2204, 2879, 1012, 2002, 2003, 1037, 2204, 2879, 1012,\n",
              "         2002, 2003, 1037, 2204, 2879, 1012, 2002, 2003, 1037, 2204, 2879,\n",
              "         1012, 2002, 2003, 1037, 2204, 2879, 1012, 2002, 2003, 1037, 2204,\n",
              "         2879, 1012, 2002, 2003, 1037, 2204, 2879, 1012, 2002, 2003, 1037,\n",
              "         2204, 2879, 1012, 2002, 2003, 1037, 2204, 2879, 1012, 2002, 2003,\n",
              "         1037, 2204, 2879, 1012, 2002, 2003, 1037, 2204, 2879, 1012, 2002,\n",
              "         2003, 1037, 2204, 2879, 1012, 2002, 2003, 1037, 2204, 2879, 1012,\n",
              "         2002, 2003, 1037, 2204, 2879, 1012,  102]], dtype=int32)>,\n",
              " 'input_mask': <tf.Tensor: shape=(1, 128), dtype=int32, numpy=\n",
              " array([[1, 1, 1, 1, 1, 1, 1, 1, 1, 1, 1, 1, 1, 1, 1, 1, 1, 1, 1, 1, 1, 1,\n",
              "         1, 1, 1, 1, 1, 1, 1, 1, 1, 1, 1, 1, 1, 1, 1, 1, 1, 1, 1, 1, 1, 1,\n",
              "         1, 1, 1, 1, 1, 1, 1, 1, 1, 1, 1, 1, 1, 1, 1, 1, 1, 1, 1, 1, 1, 1,\n",
              "         1, 1, 1, 1, 1, 1, 1, 1, 1, 1, 1, 1, 1, 1, 1, 1, 1, 1, 1, 1, 1, 1,\n",
              "         1, 1, 1, 1, 1, 1, 1, 1, 1, 1, 1, 1, 1, 1, 1, 1, 1, 1, 1, 1, 1, 1,\n",
              "         1, 1, 1, 1, 1, 1, 1, 1, 1, 1, 1, 1, 1, 1, 1, 1, 1, 1]],\n",
              "       dtype=int32)>}"
            ]
          },
          "metadata": {},
          "execution_count": 22
        }
      ],
      "source": [
        "text_2 = ['He is a good boy. '*129]\n",
        "bert_preprocess(text_2)"
      ]
    },
    {
      "cell_type": "code",
      "execution_count": null,
      "metadata": {
        "colab": {
          "base_uri": "https://localhost:8080/"
        },
        "id": "tLGtH0u3GEf2",
        "outputId": "974a1ae8-5f4d-4046-aa19-374eca0e452a"
      },
      "outputs": [
        {
          "output_type": "execute_result",
          "data": {
            "text/plain": [
              "{'input_type_ids': <tf.Tensor: shape=(1, 128), dtype=int32, numpy=\n",
              " array([[0, 0, 0, 0, 0, 0, 0, 0, 0, 0, 0, 0, 0, 0, 0, 0, 0, 0, 0, 0, 0, 0,\n",
              "         0, 0, 0, 0, 0, 0, 0, 0, 0, 0, 0, 0, 0, 0, 0, 0, 0, 0, 0, 0, 0, 0,\n",
              "         0, 0, 0, 0, 0, 0, 0, 0, 0, 0, 0, 0, 0, 0, 0, 0, 0, 0, 0, 0, 0, 0,\n",
              "         0, 0, 0, 0, 0, 0, 0, 0, 0, 0, 0, 0, 0, 0, 0, 0, 0, 0, 0, 0, 0, 0,\n",
              "         0, 0, 0, 0, 0, 0, 0, 0, 0, 0, 0, 0, 0, 0, 0, 0, 0, 0, 0, 0, 0, 0,\n",
              "         0, 0, 0, 0, 0, 0, 0, 0, 0, 0, 0, 0, 0, 0, 0, 0, 0, 0]],\n",
              "       dtype=int32)>,\n",
              " 'input_word_ids': <tf.Tensor: shape=(1, 128), dtype=int32, numpy=\n",
              " array([[ 101, 2002, 2003, 1037, 2204, 2879, 1012, 2002, 7777, 2000, 2377,\n",
              "         4533, 1012,  102,    0,    0,    0,    0,    0,    0,    0,    0,\n",
              "            0,    0,    0,    0,    0,    0,    0,    0,    0,    0,    0,\n",
              "            0,    0,    0,    0,    0,    0,    0,    0,    0,    0,    0,\n",
              "            0,    0,    0,    0,    0,    0,    0,    0,    0,    0,    0,\n",
              "            0,    0,    0,    0,    0,    0,    0,    0,    0,    0,    0,\n",
              "            0,    0,    0,    0,    0,    0,    0,    0,    0,    0,    0,\n",
              "            0,    0,    0,    0,    0,    0,    0,    0,    0,    0,    0,\n",
              "            0,    0,    0,    0,    0,    0,    0,    0,    0,    0,    0,\n",
              "            0,    0,    0,    0,    0,    0,    0,    0,    0,    0,    0,\n",
              "            0,    0,    0,    0,    0,    0,    0,    0,    0,    0,    0,\n",
              "            0,    0,    0,    0,    0,    0,    0]], dtype=int32)>,\n",
              " 'input_mask': <tf.Tensor: shape=(1, 128), dtype=int32, numpy=\n",
              " array([[1, 1, 1, 1, 1, 1, 1, 1, 1, 1, 1, 1, 1, 1, 0, 0, 0, 0, 0, 0, 0, 0,\n",
              "         0, 0, 0, 0, 0, 0, 0, 0, 0, 0, 0, 0, 0, 0, 0, 0, 0, 0, 0, 0, 0, 0,\n",
              "         0, 0, 0, 0, 0, 0, 0, 0, 0, 0, 0, 0, 0, 0, 0, 0, 0, 0, 0, 0, 0, 0,\n",
              "         0, 0, 0, 0, 0, 0, 0, 0, 0, 0, 0, 0, 0, 0, 0, 0, 0, 0, 0, 0, 0, 0,\n",
              "         0, 0, 0, 0, 0, 0, 0, 0, 0, 0, 0, 0, 0, 0, 0, 0, 0, 0, 0, 0, 0, 0,\n",
              "         0, 0, 0, 0, 0, 0, 0, 0, 0, 0, 0, 0, 0, 0, 0, 0, 0, 0]],\n",
              "       dtype=int32)>}"
            ]
          },
          "metadata": {},
          "execution_count": 23
        }
      ],
      "source": [
        "text_3 = ['He is a good boy. He likes to play cricket.']\n",
        "bert_preprocess(text_3)"
      ]
    },
    {
      "cell_type": "code",
      "execution_count": null,
      "metadata": {
        "colab": {
          "base_uri": "https://localhost:8080/"
        },
        "id": "6ey7z7NTGqbh",
        "outputId": "67e9a909-082d-4c8c-a194-97ae062f0996"
      },
      "outputs": [
        {
          "output_type": "execute_result",
          "data": {
            "text/plain": [
              "{'input_type_ids': <tf.Tensor: shape=(2, 128), dtype=int32, numpy=\n",
              " array([[0, 0, 0, 0, 0, 0, 0, 0, 0, 0, 0, 0, 0, 0, 0, 0, 0, 0, 0, 0, 0, 0,\n",
              "         0, 0, 0, 0, 0, 0, 0, 0, 0, 0, 0, 0, 0, 0, 0, 0, 0, 0, 0, 0, 0, 0,\n",
              "         0, 0, 0, 0, 0, 0, 0, 0, 0, 0, 0, 0, 0, 0, 0, 0, 0, 0, 0, 0, 0, 0,\n",
              "         0, 0, 0, 0, 0, 0, 0, 0, 0, 0, 0, 0, 0, 0, 0, 0, 0, 0, 0, 0, 0, 0,\n",
              "         0, 0, 0, 0, 0, 0, 0, 0, 0, 0, 0, 0, 0, 0, 0, 0, 0, 0, 0, 0, 0, 0,\n",
              "         0, 0, 0, 0, 0, 0, 0, 0, 0, 0, 0, 0, 0, 0, 0, 0, 0, 0],\n",
              "        [0, 0, 0, 0, 0, 0, 0, 0, 0, 0, 0, 0, 0, 0, 0, 0, 0, 0, 0, 0, 0, 0,\n",
              "         0, 0, 0, 0, 0, 0, 0, 0, 0, 0, 0, 0, 0, 0, 0, 0, 0, 0, 0, 0, 0, 0,\n",
              "         0, 0, 0, 0, 0, 0, 0, 0, 0, 0, 0, 0, 0, 0, 0, 0, 0, 0, 0, 0, 0, 0,\n",
              "         0, 0, 0, 0, 0, 0, 0, 0, 0, 0, 0, 0, 0, 0, 0, 0, 0, 0, 0, 0, 0, 0,\n",
              "         0, 0, 0, 0, 0, 0, 0, 0, 0, 0, 0, 0, 0, 0, 0, 0, 0, 0, 0, 0, 0, 0,\n",
              "         0, 0, 0, 0, 0, 0, 0, 0, 0, 0, 0, 0, 0, 0, 0, 0, 0, 0]],\n",
              "       dtype=int32)>,\n",
              " 'input_word_ids': <tf.Tensor: shape=(2, 128), dtype=int32, numpy=\n",
              " array([[ 101, 2002, 2003, 1037, 2204, 2879, 1012, 2002, 2003, 1037, 2204,\n",
              "         2879, 1012,  102,    0,    0,    0,    0,    0,    0,    0,    0,\n",
              "            0,    0,    0,    0,    0,    0,    0,    0,    0,    0,    0,\n",
              "            0,    0,    0,    0,    0,    0,    0,    0,    0,    0,    0,\n",
              "            0,    0,    0,    0,    0,    0,    0,    0,    0,    0,    0,\n",
              "            0,    0,    0,    0,    0,    0,    0,    0,    0,    0,    0,\n",
              "            0,    0,    0,    0,    0,    0,    0,    0,    0,    0,    0,\n",
              "            0,    0,    0,    0,    0,    0,    0,    0,    0,    0,    0,\n",
              "            0,    0,    0,    0,    0,    0,    0,    0,    0,    0,    0,\n",
              "            0,    0,    0,    0,    0,    0,    0,    0,    0,    0,    0,\n",
              "            0,    0,    0,    0,    0,    0,    0,    0,    0,    0,    0,\n",
              "            0,    0,    0,    0,    0,    0,    0],\n",
              "        [ 101, 2002, 7777, 2000, 2377, 4533, 1012,  102,    0,    0,    0,\n",
              "            0,    0,    0,    0,    0,    0,    0,    0,    0,    0,    0,\n",
              "            0,    0,    0,    0,    0,    0,    0,    0,    0,    0,    0,\n",
              "            0,    0,    0,    0,    0,    0,    0,    0,    0,    0,    0,\n",
              "            0,    0,    0,    0,    0,    0,    0,    0,    0,    0,    0,\n",
              "            0,    0,    0,    0,    0,    0,    0,    0,    0,    0,    0,\n",
              "            0,    0,    0,    0,    0,    0,    0,    0,    0,    0,    0,\n",
              "            0,    0,    0,    0,    0,    0,    0,    0,    0,    0,    0,\n",
              "            0,    0,    0,    0,    0,    0,    0,    0,    0,    0,    0,\n",
              "            0,    0,    0,    0,    0,    0,    0,    0,    0,    0,    0,\n",
              "            0,    0,    0,    0,    0,    0,    0,    0,    0,    0,    0,\n",
              "            0,    0,    0,    0,    0,    0,    0]], dtype=int32)>,\n",
              " 'input_mask': <tf.Tensor: shape=(2, 128), dtype=int32, numpy=\n",
              " array([[1, 1, 1, 1, 1, 1, 1, 1, 1, 1, 1, 1, 1, 1, 0, 0, 0, 0, 0, 0, 0, 0,\n",
              "         0, 0, 0, 0, 0, 0, 0, 0, 0, 0, 0, 0, 0, 0, 0, 0, 0, 0, 0, 0, 0, 0,\n",
              "         0, 0, 0, 0, 0, 0, 0, 0, 0, 0, 0, 0, 0, 0, 0, 0, 0, 0, 0, 0, 0, 0,\n",
              "         0, 0, 0, 0, 0, 0, 0, 0, 0, 0, 0, 0, 0, 0, 0, 0, 0, 0, 0, 0, 0, 0,\n",
              "         0, 0, 0, 0, 0, 0, 0, 0, 0, 0, 0, 0, 0, 0, 0, 0, 0, 0, 0, 0, 0, 0,\n",
              "         0, 0, 0, 0, 0, 0, 0, 0, 0, 0, 0, 0, 0, 0, 0, 0, 0, 0],\n",
              "        [1, 1, 1, 1, 1, 1, 1, 1, 0, 0, 0, 0, 0, 0, 0, 0, 0, 0, 0, 0, 0, 0,\n",
              "         0, 0, 0, 0, 0, 0, 0, 0, 0, 0, 0, 0, 0, 0, 0, 0, 0, 0, 0, 0, 0, 0,\n",
              "         0, 0, 0, 0, 0, 0, 0, 0, 0, 0, 0, 0, 0, 0, 0, 0, 0, 0, 0, 0, 0, 0,\n",
              "         0, 0, 0, 0, 0, 0, 0, 0, 0, 0, 0, 0, 0, 0, 0, 0, 0, 0, 0, 0, 0, 0,\n",
              "         0, 0, 0, 0, 0, 0, 0, 0, 0, 0, 0, 0, 0, 0, 0, 0, 0, 0, 0, 0, 0, 0,\n",
              "         0, 0, 0, 0, 0, 0, 0, 0, 0, 0, 0, 0, 0, 0, 0, 0, 0, 0]],\n",
              "       dtype=int32)>}"
            ]
          },
          "metadata": {},
          "execution_count": 24
        }
      ],
      "source": [
        "text_4 = ['He is a good boy. He is a good boy.', 'He likes to play cricket.']\n",
        "bert_preprocess(text_4)"
      ]
    },
    {
      "cell_type": "code",
      "execution_count": null,
      "metadata": {
        "colab": {
          "base_uri": "https://localhost:8080/"
        },
        "id": "TWWqXmDTHgDL",
        "outputId": "73138261-1a6e-4156-f50d-6918543ce6a8"
      },
      "outputs": [
        {
          "output_type": "execute_result",
          "data": {
            "text/plain": [
              "{'input_type_ids': <tf.Tensor: shape=(2, 128), dtype=int32, numpy=\n",
              " array([[0, 0, 0, 0, 0, 0, 0, 0, 0, 0, 0, 0, 0, 0, 0, 0, 0, 0, 0, 0, 0, 0,\n",
              "         0, 0, 0, 0, 0, 0, 0, 0, 0, 0, 0, 0, 0, 0, 0, 0, 0, 0, 0, 0, 0, 0,\n",
              "         0, 0, 0, 0, 0, 0, 0, 0, 0, 0, 0, 0, 0, 0, 0, 0, 0, 0, 0, 0, 0, 0,\n",
              "         0, 0, 0, 0, 0, 0, 0, 0, 0, 0, 0, 0, 0, 0, 0, 0, 0, 0, 0, 0, 0, 0,\n",
              "         0, 0, 0, 0, 0, 0, 0, 0, 0, 0, 0, 0, 0, 0, 0, 0, 0, 0, 0, 0, 0, 0,\n",
              "         0, 0, 0, 0, 0, 0, 0, 0, 0, 0, 0, 0, 0, 0, 0, 0, 0, 0],\n",
              "        [0, 0, 0, 0, 0, 0, 0, 0, 0, 0, 0, 0, 0, 0, 0, 0, 0, 0, 0, 0, 0, 0,\n",
              "         0, 0, 0, 0, 0, 0, 0, 0, 0, 0, 0, 0, 0, 0, 0, 0, 0, 0, 0, 0, 0, 0,\n",
              "         0, 0, 0, 0, 0, 0, 0, 0, 0, 0, 0, 0, 0, 0, 0, 0, 0, 0, 0, 0, 0, 0,\n",
              "         0, 0, 0, 0, 0, 0, 0, 0, 0, 0, 0, 0, 0, 0, 0, 0, 0, 0, 0, 0, 0, 0,\n",
              "         0, 0, 0, 0, 0, 0, 0, 0, 0, 0, 0, 0, 0, 0, 0, 0, 0, 0, 0, 0, 0, 0,\n",
              "         0, 0, 0, 0, 0, 0, 0, 0, 0, 0, 0, 0, 0, 0, 0, 0, 0, 0]],\n",
              "       dtype=int32)>,\n",
              " 'input_word_ids': <tf.Tensor: shape=(2, 128), dtype=int32, numpy=\n",
              " array([[  101,  2002,  2003,  1037,  2204,  2879,  1012,  2002,  7777,\n",
              "         17953,  2361,  1012,  6207,  2003,  2204,  2005,  2740,  1012,\n",
              "           102,     0,     0,     0,     0,     0,     0,     0,     0,\n",
              "             0,     0,     0,     0,     0,     0,     0,     0,     0,\n",
              "             0,     0,     0,     0,     0,     0,     0,     0,     0,\n",
              "             0,     0,     0,     0,     0,     0,     0,     0,     0,\n",
              "             0,     0,     0,     0,     0,     0,     0,     0,     0,\n",
              "             0,     0,     0,     0,     0,     0,     0,     0,     0,\n",
              "             0,     0,     0,     0,     0,     0,     0,     0,     0,\n",
              "             0,     0,     0,     0,     0,     0,     0,     0,     0,\n",
              "             0,     0,     0,     0,     0,     0,     0,     0,     0,\n",
              "             0,     0,     0,     0,     0,     0,     0,     0,     0,\n",
              "             0,     0,     0,     0,     0,     0,     0,     0,     0,\n",
              "             0,     0,     0,     0,     0,     0,     0,     0,     0,\n",
              "             0,     0],\n",
              "        [  101,  2002,  7777,  2000,  2377,  4533,  1012,   102,     0,\n",
              "             0,     0,     0,     0,     0,     0,     0,     0,     0,\n",
              "             0,     0,     0,     0,     0,     0,     0,     0,     0,\n",
              "             0,     0,     0,     0,     0,     0,     0,     0,     0,\n",
              "             0,     0,     0,     0,     0,     0,     0,     0,     0,\n",
              "             0,     0,     0,     0,     0,     0,     0,     0,     0,\n",
              "             0,     0,     0,     0,     0,     0,     0,     0,     0,\n",
              "             0,     0,     0,     0,     0,     0,     0,     0,     0,\n",
              "             0,     0,     0,     0,     0,     0,     0,     0,     0,\n",
              "             0,     0,     0,     0,     0,     0,     0,     0,     0,\n",
              "             0,     0,     0,     0,     0,     0,     0,     0,     0,\n",
              "             0,     0,     0,     0,     0,     0,     0,     0,     0,\n",
              "             0,     0,     0,     0,     0,     0,     0,     0,     0,\n",
              "             0,     0,     0,     0,     0,     0,     0,     0,     0,\n",
              "             0,     0]], dtype=int32)>,\n",
              " 'input_mask': <tf.Tensor: shape=(2, 128), dtype=int32, numpy=\n",
              " array([[1, 1, 1, 1, 1, 1, 1, 1, 1, 1, 1, 1, 1, 1, 1, 1, 1, 1, 1, 0, 0, 0,\n",
              "         0, 0, 0, 0, 0, 0, 0, 0, 0, 0, 0, 0, 0, 0, 0, 0, 0, 0, 0, 0, 0, 0,\n",
              "         0, 0, 0, 0, 0, 0, 0, 0, 0, 0, 0, 0, 0, 0, 0, 0, 0, 0, 0, 0, 0, 0,\n",
              "         0, 0, 0, 0, 0, 0, 0, 0, 0, 0, 0, 0, 0, 0, 0, 0, 0, 0, 0, 0, 0, 0,\n",
              "         0, 0, 0, 0, 0, 0, 0, 0, 0, 0, 0, 0, 0, 0, 0, 0, 0, 0, 0, 0, 0, 0,\n",
              "         0, 0, 0, 0, 0, 0, 0, 0, 0, 0, 0, 0, 0, 0, 0, 0, 0, 0],\n",
              "        [1, 1, 1, 1, 1, 1, 1, 1, 0, 0, 0, 0, 0, 0, 0, 0, 0, 0, 0, 0, 0, 0,\n",
              "         0, 0, 0, 0, 0, 0, 0, 0, 0, 0, 0, 0, 0, 0, 0, 0, 0, 0, 0, 0, 0, 0,\n",
              "         0, 0, 0, 0, 0, 0, 0, 0, 0, 0, 0, 0, 0, 0, 0, 0, 0, 0, 0, 0, 0, 0,\n",
              "         0, 0, 0, 0, 0, 0, 0, 0, 0, 0, 0, 0, 0, 0, 0, 0, 0, 0, 0, 0, 0, 0,\n",
              "         0, 0, 0, 0, 0, 0, 0, 0, 0, 0, 0, 0, 0, 0, 0, 0, 0, 0, 0, 0, 0, 0,\n",
              "         0, 0, 0, 0, 0, 0, 0, 0, 0, 0, 0, 0, 0, 0, 0, 0, 0, 0]],\n",
              "       dtype=int32)>}"
            ]
          },
          "metadata": {},
          "execution_count": 25
        }
      ],
      "source": [
        "text_5 = ['He is a good boy. He likes nlp. Apple is good for health.', 'He likes to play cricket.']\n",
        "bert_preprocess(text_5)"
      ]
    },
    {
      "cell_type": "markdown",
      "metadata": {
        "id": "NpwrgHadUzD1"
      },
      "source": [
        "# *pooled_output represents each input sequence as a whole. The shape is [batch_size, H(768)].*"
      ]
    },
    {
      "cell_type": "code",
      "source": [
        "text_3 = ['He is a good boy. He likes to play cricket.']\n",
        "encoder_input = bert_preprocess(text_3)\n",
        "encoder_output = bert_encoder(encoder_input)"
      ],
      "metadata": {
        "id": "G5a3uIwRr1gq"
      },
      "execution_count": null,
      "outputs": []
    },
    {
      "cell_type": "code",
      "execution_count": null,
      "metadata": {
        "colab": {
          "base_uri": "https://localhost:8080/"
        },
        "id": "oSYbVh21UefG",
        "outputId": "a4956873-c766-4ff3-b379-7cecd48f4895"
      },
      "outputs": [
        {
          "output_type": "execute_result",
          "data": {
            "text/plain": [
              "<tf.Tensor: shape=(1, 768), dtype=float32, numpy=\n",
              "array([[-0.8339926 , -0.62777406, -0.99314624,  0.79826087,  0.9216579 ,\n",
              "        -0.26337138,  0.88795936,  0.46019325, -0.9527905 , -0.99999475,\n",
              "        -0.8568339 ,  0.9805117 ,  0.98318386,  0.8200484 ,  0.9009741 ,\n",
              "        -0.84533423, -0.64879733, -0.72058815,  0.26869774,  0.0134045 ,\n",
              "         0.8372594 ,  1.        , -0.6138333 ,  0.43751884,  0.6042592 ,\n",
              "         0.99846655, -0.88046455,  0.88441586,  0.9420868 ,  0.67003167,\n",
              "        -0.5535924 ,  0.30296013, -0.9918719 , -0.31154117, -0.9950045 ,\n",
              "        -0.99529606,  0.6760122 , -0.6199482 , -0.1243483 , -0.12329591,\n",
              "        -0.8587389 ,  0.5916193 ,  0.99999803, -0.5761285 ,  0.74669224,\n",
              "        -0.37812078, -1.        ,  0.4182452 , -0.8290352 ,  0.98487645,\n",
              "         0.9851984 ,  0.9655208 ,  0.25691235,  0.5362659 ,  0.621403  ,\n",
              "        -0.2857523 , -0.02681452,  0.11126145, -0.30835035, -0.67085284,\n",
              "        -0.67023027,  0.58585894, -0.9541802 , -0.8869449 ,  0.9857477 ,\n",
              "         0.9629405 , -0.37150282, -0.4628696 , -0.19279113, -0.05175714,\n",
              "         0.8747431 ,  0.45238662, -0.3076846 , -0.88796216,  0.9177107 ,\n",
              "         0.46872056, -0.7719987 ,  1.        , -0.41360015, -0.9759616 ,\n",
              "         0.9938432 ,  0.9263294 ,  0.7759165 , -0.67425144,  0.8503722 ,\n",
              "        -1.        ,  0.6833084 , -0.2830345 , -0.98932385,  0.3698921 ,\n",
              "         0.8397698 , -0.42489323,  0.974487  ,  0.7752634 , -0.9085318 ,\n",
              "        -0.78730583, -0.44566038, -0.9818581 , -0.5388617 , -0.4219242 ,\n",
              "         0.14319645, -0.45681778, -0.5692765 , -0.51619345,  0.52901316,\n",
              "        -0.6674889 , -0.43575022,  0.5111838 ,  0.4919698 ,  0.77000797,\n",
              "         0.4515742 , -0.5178125 ,  0.5622727 , -0.93317646,  0.7629944 ,\n",
              "        -0.48122945, -0.9883826 , -0.7720098 , -0.99051416,  0.80300236,\n",
              "        -0.7666711 , -0.36047864,  0.9403256 , -0.7847895 ,  0.6267054 ,\n",
              "        -0.20058957, -0.99157524, -1.        , -0.76186115, -0.75459903,\n",
              "        -0.50038016, -0.5275999 , -0.97574776, -0.9623553 ,  0.58322203,\n",
              "         0.9437669 ,  0.45945433,  0.99999356, -0.5295751 ,  0.9559398 ,\n",
              "        -0.7200786 , -0.7876622 ,  0.8987729 , -0.6266523 ,  0.92105925,\n",
              "         0.37482435, -0.42815742,  0.39572766, -0.6787712 ,  0.63590914,\n",
              "        -0.9204894 , -0.50435716, -0.9522418 , -0.9208003 , -0.38605094,\n",
              "         0.91630965, -0.82619613, -0.991446  , -0.5028405 , -0.34313175,\n",
              "        -0.7033381 ,  0.7822074 ,  0.85777456,  0.44366458, -0.60955137,\n",
              "         0.483532  ,  0.6551587 ,  0.6761785 , -0.8120401 , -0.39837953,\n",
              "         0.56140375, -0.50442785, -0.98958635, -0.9870831 , -0.48508996,\n",
              "         0.63634384,  0.99127555,  0.7436671 ,  0.5822657 ,  0.9426204 ,\n",
              "        -0.44617006,  0.833763  , -0.96159995,  0.98732287, -0.45292026,\n",
              "         0.5493214 , -0.9399854 ,  0.41225475, -0.8300716 ,  0.54854745,\n",
              "         0.81914765, -0.85847974, -0.70005995, -0.2838121 , -0.51894784,\n",
              "        -0.40230587, -0.98041385,  0.5764666 , -0.38162443, -0.49385697,\n",
              "        -0.38093835,  0.9205721 ,  0.944459  ,  0.70603573,  0.76524246,\n",
              "         0.68014395, -0.8934327 , -0.44890386,  0.24429502,  0.30307943,\n",
              "         0.3369701 ,  0.99003416, -0.9462725 , -0.21393965, -0.91686076,\n",
              "        -0.98061854,  0.00458068, -0.857761  , -0.34857017, -0.7426953 ,\n",
              "         0.81288993, -0.88579935,  0.8338659 ,  0.5490452 , -0.9424898 ,\n",
              "        -0.7723598 ,  0.5216876 , -0.71090084,  0.6096369 , -0.19212873,\n",
              "         0.9802607 ,  0.9874909 , -0.7714078 ,  0.42684492,  0.92892647,\n",
              "        -0.99133945, -0.8299644 ,  0.49603775, -0.3374154 ,  0.7787934 ,\n",
              "        -0.8139895 ,  0.99262965,  0.9802313 ,  0.8680103 , -0.9282404 ,\n",
              "        -0.9651389 , -0.7875904 , -0.9225058 , -0.3650533 ,  0.55714613,\n",
              "         0.98507035,  0.78715634,  0.6032016 , -0.05432522, -0.68985945,\n",
              "         0.9915544 , -0.99319494, -0.9492913 , -0.97206396, -0.42897847,\n",
              "        -0.9891934 ,  0.98883396,  0.46412572,  0.92288613, -0.7225236 ,\n",
              "        -0.77948934, -0.96539503,  0.8161518 ,  0.23972869,  0.96921813,\n",
              "        -0.74140495, -0.9145459 , -0.68139035, -0.93971044,  0.02013781,\n",
              "        -0.3058312 , -0.84843034,  0.07902362, -0.9365356 ,  0.58206815,\n",
              "         0.59453833,  0.64241445, -0.98452955,  0.997846  ,  1.        ,\n",
              "         0.9781042 ,  0.8216166 ,  0.8037836 , -0.9999993 , -0.9207668 ,\n",
              "         0.99999857, -0.99894434, -1.        , -0.9010041 , -0.8560337 ,\n",
              "         0.38533524, -1.        , -0.31350625, -0.12576522, -0.92272896,\n",
              "         0.906164  ,  0.9607226 ,  0.9847992 , -1.        ,  0.8644962 ,\n",
              "         0.88243353, -0.7363831 ,  0.99181306, -0.63725775,  0.9695629 ,\n",
              "         0.7817282 ,  0.70471376, -0.22749668,  0.5395815 , -0.99760497,\n",
              "        -0.876904  , -0.9145706 , -0.95973974,  0.99996394,  0.16695185,\n",
              "        -0.6734264 , -0.90039104,  0.8441891 , -0.28433716,  0.3756014 ,\n",
              "        -0.96622425, -0.41319564,  0.9285186 ,  0.8878254 ,  0.34941736,\n",
              "         0.6003009 , -0.64063084,  0.5452446 ,  0.3964598 ,  0.125146  ,\n",
              "         0.76059806, -0.8696118 , -0.347198  ,  0.31901577, -0.22899306,\n",
              "        -0.9184131 , -0.96482176,  0.9505252 , -0.5782143 ,  0.96715707,\n",
              "         1.        ,  0.8649573 , -0.84728295,  0.8353457 ,  0.58571655,\n",
              "        -0.73797894,  1.        ,  0.85317886, -0.9769142 , -0.63070166,\n",
              "         0.755122  , -0.76213324, -0.7943296 ,  0.9998423 , -0.3173774 ,\n",
              "        -0.96129036, -0.8671312 ,  0.9862007 , -0.9868696 ,  0.99991804,\n",
              "        -0.8599702 , -0.97094357,  0.9700603 ,  0.92343754, -0.8877921 ,\n",
              "        -0.66542524,  0.12395725, -0.8511549 ,  0.5649615 , -0.80508524,\n",
              "         0.84548366,  0.6797197 , -0.17823301,  0.87760663, -0.7096821 ,\n",
              "        -0.77004546,  0.25399947, -0.78194594, -0.45260286,  0.9963717 ,\n",
              "         0.6613994 , -0.3418578 ,  0.06998047, -0.4943721 , -0.9613522 ,\n",
              "        -0.94969165,  0.77688634,  1.        , -0.5027912 ,  0.9892611 ,\n",
              "        -0.71957207, -0.14987251,  0.29771173,  0.7650058 ,  0.7051704 ,\n",
              "        -0.4965361 , -0.8637844 ,  0.94730896, -0.9221    , -0.9934186 ,\n",
              "         0.5350361 ,  0.47222286, -0.33522496,  0.9999998 ,  0.8329556 ,\n",
              "         0.3228903 ,  0.72458416,  0.9986257 , -0.07541851,  0.3705281 ,\n",
              "         0.9861734 ,  0.9770564 , -0.36598805,  0.70810395,  0.7397931 ,\n",
              "        -0.9872886 , -0.4541287 , -0.70685065,  0.17689255, -0.9053981 ,\n",
              "         0.08499198, -0.96615946,  0.962477  ,  0.9884089 ,  0.52002287,\n",
              "         0.21732892,  0.9340928 ,  1.        , -0.9937411 ,  0.47272438,\n",
              "         0.59076357,  0.57802373, -0.99999845, -0.74183774, -0.54103225,\n",
              "        -0.28817567, -0.98105973, -0.5656901 ,  0.42184424, -0.96568435,\n",
              "         0.95840406,  0.88951457, -0.9634585 , -0.98671585, -0.41992348,\n",
              "         0.85271704,  0.39709795, -0.9994359 , -0.78122634, -0.4921865 ,\n",
              "         0.9079141 , -0.44210383, -0.94749683, -0.6326058 , -0.555915  ,\n",
              "         0.42086193, -0.29603583,  0.70385045,  0.9759207 ,  0.49172312,\n",
              "        -0.9727884 , -0.7138589 , -0.3237468 , -0.80250424,  0.91146755,\n",
              "        -0.6772004 , -0.9958704 , -0.44244868,  1.        , -0.5011171 ,\n",
              "         0.9855602 ,  0.68117183,  0.42557514, -0.25501305,  0.45049295,\n",
              "         0.99045104,  0.4582689 , -0.92687434, -0.96528727,  0.20695212,\n",
              "        -0.5197747 ,  0.62775534,  0.9682    ,  0.937784  ,  0.8533326 ,\n",
              "         0.9425927 ,  0.24733935, -0.21908447,  0.17874794,  0.99889874,\n",
              "        -0.15387356, -0.4395713 , -0.35305426, -0.14675923, -0.5176576 ,\n",
              "         0.35657525,  1.        ,  0.3785893 ,  0.7983506 , -0.9898045 ,\n",
              "        -0.99328625, -0.90228397,  1.        ,  0.83552986, -0.71541345,\n",
              "         0.6857007 ,  0.82897204, -0.29869217,  0.66630477, -0.36748075,\n",
              "        -0.51910204,  0.3600395 ,  0.32758525,  0.9515227 , -0.7087051 ,\n",
              "        -0.98240346, -0.74245954,  0.5941393 , -0.95397425,  1.        ,\n",
              "        -0.74504197, -0.3372947 , -0.5476159 , -0.7562974 , -0.72463906,\n",
              "         0.08598346, -0.98001474, -0.47626254,  0.436798  ,  0.96517384,\n",
              "         0.4260473 , -0.7173677 , -0.7388442 ,  0.95561194,  0.93300766,\n",
              "        -0.99412024, -0.9515017 ,  0.9622268 , -0.9637867 ,  0.7857598 ,\n",
              "         1.        ,  0.5496004 ,  0.5428538 ,  0.38431355, -0.4947255 ,\n",
              "         0.615303  , -0.8896623 ,  0.7180779 , -0.95452935, -0.46461076,\n",
              "        -0.3271064 ,  0.48066404, -0.20666385, -0.8650843 ,  0.6933456 ,\n",
              "         0.35427123, -0.725163  , -0.78612244, -0.2741382 ,  0.64070475,\n",
              "         0.87793285, -0.26885998, -0.22917616,  0.15939958, -0.09278001,\n",
              "        -0.89148366, -0.6305282 , -0.64270544, -1.        ,  0.6238259 ,\n",
              "        -1.        ,  0.8805097 ,  0.7279798 , -0.36705452,  0.77498823,\n",
              "         0.8580737 ,  0.8996952 , -0.7696637 , -0.96435606,  0.07780169,\n",
              "         0.7184084 , -0.4735878 , -0.8106922 , -0.6244253 ,  0.6623102 ,\n",
              "        -0.4080019 ,  0.42939493, -0.72872645,  0.66321355, -0.3325499 ,\n",
              "         1.        ,  0.3270603 , -0.79719603, -0.9356665 ,  0.4708717 ,\n",
              "        -0.38368437,  1.        , -0.7626785 , -0.9412765 ,  0.6790035 ,\n",
              "        -0.8124604 , -0.81958836,  0.5651398 ,  0.08061226, -0.9105543 ,\n",
              "        -0.9969817 ,  0.82392496,  0.84036964, -0.7762233 ,  0.8148866 ,\n",
              "        -0.44195938, -0.6879691 ,  0.26307818,  0.9909089 ,  0.9863811 ,\n",
              "         0.90424114,  0.781128  , -0.8593884 , -0.7597345 ,  0.95550394,\n",
              "         0.32096174,  0.11905126,  0.34485653,  1.        ,  0.5533609 ,\n",
              "        -0.85205364, -0.19138393, -0.944497  , -0.5284251 , -0.84116864,\n",
              "         0.57463074,  0.4523673 ,  0.90307385, -0.3584768 ,  0.95049983,\n",
              "        -0.9867832 ,  0.19517075, -0.8309777 , -0.85511076,  0.36118725,\n",
              "        -0.92226446, -0.9815332 , -0.9832284 ,  0.8452876 , -0.47872835,\n",
              "        -0.03193484,  0.45953912, -0.06135972,  0.5615957 ,  0.63784945,\n",
              "        -1.        ,  0.9180064 ,  0.564431  ,  0.9857949 ,  0.9719107 ,\n",
              "         0.90634733,  0.7748992 ,  0.4072574 , -0.97610754, -0.97448003,\n",
              "        -0.4916983 , -0.34520677,  0.7601736 ,  0.73996407,  0.8775025 ,\n",
              "         0.60099894, -0.6002493 , -0.7480074 , -0.8969843 , -0.9832163 ,\n",
              "        -0.9911741 ,  0.6882356 , -0.7553997 , -0.8683825 ,  0.9581655 ,\n",
              "         0.05049293, -0.317134  , -0.4909398 , -0.92209864,  0.7008886 ,\n",
              "         0.8134594 ,  0.23224214,  0.33147818,  0.32915977,  0.83139634,\n",
              "         0.93235415,  0.97470963, -0.97559804,  0.6542272 , -0.89441013,\n",
              "         0.6934178 ,  0.9667635 , -0.9327708 ,  0.24411003,  0.7242345 ,\n",
              "        -0.7760343 ,  0.38430372, -0.5405644 , -0.7734793 ,  0.92959964,\n",
              "        -0.41110435,  0.8228944 , -0.5448799 , -0.09697665, -0.4695945 ,\n",
              "        -0.3242633 , -0.8338417 , -0.83695006,  0.7787651 ,  0.48800525,\n",
              "         0.86914057,  0.9844771 , -0.15462628, -0.77717686, -0.3297317 ,\n",
              "        -0.96001244, -0.95038325,  0.82828355, -0.2994104 , -0.54936284,\n",
              "         0.92235714,  0.17857595,  0.9937213 ,  0.8224387 , -0.5310503 ,\n",
              "        -0.4382246 , -0.7335977 ,  0.83564365, -0.8149017 , -0.7778856 ,\n",
              "        -0.75781   ,  0.85187817,  0.52947384,  1.        , -0.9778879 ,\n",
              "        -0.982731  , -0.608874  , -0.6817388 ,  0.6144162 , -0.8204455 ,\n",
              "        -1.        ,  0.5124507 , -0.6594087 ,  0.949507  , -0.9516877 ,\n",
              "         0.9911477 , -0.6685186 , -0.9593885 , -0.6389505 ,  0.77815104,\n",
              "         0.92394423, -0.6275441 , -0.60437334,  0.7241354 , -0.26468354,\n",
              "         0.99910235,  0.82561576, -0.58325624, -0.41602615,  0.74871254,\n",
              "        -0.9254521 , -0.758954  ,  0.8635466 ]], dtype=float32)>"
            ]
          },
          "metadata": {},
          "execution_count": 27
        }
      ],
      "source": [
        "encoder_output['pooled_output']"
      ]
    },
    {
      "cell_type": "markdown",
      "metadata": {
        "id": "tHSvgw-5VRoV"
      },
      "source": [
        "# **sequence_output** represents each input token in the context. The shape is [batch_size, seq_length, H]. Think of this as a contextual embedding for every token in the input."
      ]
    },
    {
      "cell_type": "code",
      "execution_count": null,
      "metadata": {
        "colab": {
          "base_uri": "https://localhost:8080/"
        },
        "id": "sL7h4s_tVMO_",
        "outputId": "dc428dd5-9ec7-4a48-9b26-8228da952ede"
      },
      "outputs": [
        {
          "output_type": "execute_result",
          "data": {
            "text/plain": [
              "<tf.Tensor: shape=(768,), dtype=float32, numpy=\n",
              "array([-2.37912178e-01,  5.29355891e-02, -2.25681797e-01, -6.42033890e-02,\n",
              "       -2.39136234e-01, -4.16776955e-01,  4.14980084e-01,  6.12630665e-01,\n",
              "       -1.43311352e-01, -3.16183656e-01, -1.03320107e-01, -1.83673322e-01,\n",
              "        3.50163817e-01,  2.40038931e-01, -3.36565524e-02, -2.03271583e-01,\n",
              "        9.33934748e-03,  6.75245166e-01,  2.78832465e-01, -2.10795149e-01,\n",
              "       -9.11030993e-02, -2.35031590e-01, -6.56695515e-02, -1.20823272e-02,\n",
              "       -3.97179537e-02, -1.10408008e-01,  5.21628447e-02, -8.16786364e-02,\n",
              "        8.10483098e-02, -2.01672420e-01,  2.57016897e-01,  6.50955141e-01,\n",
              "        6.06956519e-03, -1.94866415e-02, -1.86072528e-01, -1.10774457e-01,\n",
              "        4.66272712e-01,  1.36448309e-01, -1.18121475e-01,  6.65305927e-02,\n",
              "        1.07804358e-01,  2.61783987e-01, -9.00404006e-02, -1.00664943e-01,\n",
              "        1.21517584e-01, -6.90401018e-01, -2.50761271e+00, -1.83599576e-01,\n",
              "        3.11663985e-01, -6.46177232e-01,  2.82030970e-01,  1.63996816e-01,\n",
              "        2.33916834e-01,  2.43781596e-01,  1.66473597e-01,  2.75849998e-01,\n",
              "       -5.53595781e-01,  3.95955950e-01,  1.04194321e-01,  1.51441067e-01,\n",
              "        4.02002484e-02,  7.79867172e-04, -1.85216069e-02,  4.96575572e-02,\n",
              "        1.20969415e-01,  1.26228228e-01,  1.89305529e-01,  2.80255139e-01,\n",
              "       -1.16497509e-01,  7.74201632e-01, -5.11398435e-01, -3.72124314e-01,\n",
              "        4.72500384e-01, -2.48935595e-01,  4.83641475e-02, -2.90753320e-02,\n",
              "       -2.70791054e-01,  3.76627855e-02, -4.21646953e-01, -7.79709518e-02,\n",
              "        1.98829144e-01,  4.18767869e-01,  3.67460281e-01,  2.58651018e-01,\n",
              "        1.43401772e-02,  3.53836089e-01,  1.14630207e-01, -3.81059438e-01,\n",
              "       -1.11659795e-01,  3.49580556e-01, -2.47017041e-01,  2.03335598e-01,\n",
              "        3.76181126e-01,  2.95994818e-01,  3.70678186e-01, -8.72816890e-02,\n",
              "       -2.43149728e-01, -2.20415249e-01,  1.05293080e-01,  2.77371168e-01,\n",
              "        2.45399639e-01, -1.08163208e-01,  1.65074915e-01, -5.99241138e-01,\n",
              "       -2.34878778e-01, -2.92293668e-01, -2.74585068e-01, -2.71289289e-01,\n",
              "       -4.69264388e-02, -2.47346020e+00,  5.57714589e-02,  1.47309620e-02,\n",
              "       -2.39603892e-01,  6.66377395e-02, -4.72006053e-01,  9.88544583e-01,\n",
              "        1.23995349e-01, -1.61540851e-01,  2.22421512e-01,  1.86162725e-01,\n",
              "       -5.01176268e-02,  3.12004358e-01, -2.66136974e-03, -8.63206685e-02,\n",
              "        4.55579869e-02,  4.21963602e-01, -1.61483169e-01, -2.17602834e-01,\n",
              "        2.91687250e-01,  1.33857101e-01,  1.66012958e-01,  4.83473033e-01,\n",
              "       -9.92670283e-03,  2.17170436e-02, -2.25228757e-01, -1.99848145e-01,\n",
              "        3.44863385e-01, -6.61190897e-02, -2.61543751e-01, -4.37111199e-01,\n",
              "       -3.88952732e-01, -1.21561192e-01, -2.41717172e+00,  1.91126555e-01,\n",
              "        4.30453271e-01,  3.72053236e-01, -4.43724483e-01, -1.47914290e-01,\n",
              "       -3.45773995e-02,  1.30758703e-01,  3.62096205e-02,  1.36881024e-01,\n",
              "       -2.34774917e-01,  1.30487308e-01, -8.47607553e-02, -1.77714393e-01,\n",
              "       -9.33062583e-02, -2.32396871e-01,  3.70314181e-01,  6.57591224e-01,\n",
              "        1.49907112e-01, -1.27825886e-02,  1.66703790e-01, -2.14777201e-01,\n",
              "       -2.97247291e-01, -3.66816819e-02,  2.37548366e-01,  5.94467297e-02,\n",
              "       -1.26778707e-02,  3.47221233e-02,  1.12228937e-01,  2.53560513e-01,\n",
              "        4.41298187e-01, -7.09494054e-02,  3.85784388e-01, -5.36333770e-02,\n",
              "       -3.26150060e-02,  1.22061655e-01, -1.52651951e-01, -3.23500812e-01,\n",
              "       -3.59475195e-01,  5.45566082e-01, -4.26906422e-02, -1.13509230e-01,\n",
              "        5.05517125e-01,  2.51430608e-02,  3.65875028e-02,  6.78414479e-02,\n",
              "       -2.59985834e-01,  4.57782745e-01,  8.85559842e-02,  1.30949602e-01,\n",
              "        3.86052951e-03,  1.84034437e-01,  4.41837311e-01, -2.50512272e-01,\n",
              "        5.90670228e-01, -7.36566484e-01,  3.42407584e-01,  2.12292254e-01,\n",
              "       -9.78759024e-04, -4.52464253e-01, -2.92092323e-01,  4.88989055e-01,\n",
              "       -3.53447586e-01,  3.82736492e+00,  2.74187684e-01,  1.39044411e-02,\n",
              "        3.18880886e-01,  3.48127782e-02, -9.71577168e-02,  2.27844834e-01,\n",
              "        9.15408880e-03, -1.24120712e-01,  5.72040677e-02, -6.93917871e-02,\n",
              "        3.64285916e-01,  5.81106991e-02, -1.09224990e-01, -1.04106098e-01,\n",
              "        1.86753482e-01,  9.02540833e-02, -2.88984478e-01,  4.68268871e-01,\n",
              "        1.10261887e-01, -8.04516971e-02,  2.84334481e-01, -4.12835926e-02,\n",
              "       -3.39691222e-01, -1.33169699e+00, -2.02898607e-01, -3.54401708e-01,\n",
              "       -1.62794232e-01,  4.13864732e-01, -4.98851806e-01, -8.70712996e-02,\n",
              "       -1.97460592e-01, -5.39911211e-01,  2.89679408e-01, -6.98325485e-02,\n",
              "        1.87803507e-01,  1.81915969e-01,  2.06143446e-02,  2.23181546e-01,\n",
              "       -2.29911655e-01,  7.32741654e-01,  3.01238060e-01,  2.78073639e-01,\n",
              "        2.34260082e-01, -3.97898495e-01,  1.70295998e-01, -2.26477981e-01,\n",
              "        3.97235602e-01, -3.61003697e-01,  2.24149644e-01, -1.84634566e-01,\n",
              "       -6.73332885e-02,  1.57780096e-01, -3.10182065e-01,  2.16060594e-01,\n",
              "       -4.25243944e-01, -1.51390865e-01,  1.07235506e-01, -9.44092870e-04,\n",
              "       -4.44424957e-01, -2.07562298e-01,  1.34745732e-01, -3.51267755e-01,\n",
              "       -3.26576456e-02, -2.02532023e-01, -2.00184405e-01, -2.06248313e-01,\n",
              "       -3.45015913e-01, -3.59390020e+00,  1.93484128e-01,  3.10372800e-01,\n",
              "        3.61877799e-01,  6.18209660e-01, -4.91545051e-02,  2.66603917e-01,\n",
              "        2.59475350e-01,  4.99028385e-01, -7.15970695e-01,  6.79655612e-01,\n",
              "       -1.09012425e-03, -9.50777158e-02,  2.76112825e-01, -5.92982769e-01,\n",
              "        1.42312437e-01, -3.70195210e-01, -1.19034588e-01,  1.82525367e-01,\n",
              "       -1.24808177e-01,  2.73014665e-01,  2.50096738e-01,  4.83032539e-02,\n",
              "        1.98867843e-01,  1.45655736e-01,  1.27956063e-01, -1.36298016e-01,\n",
              "       -1.29600525e-01,  3.85044128e-01,  1.46396309e-01, -2.77180001e-02,\n",
              "        2.70203233e-01,  1.98563367e-01, -1.26984507e-01, -1.97463810e-01,\n",
              "       -3.58198166e+00,  9.69761983e-02, -4.64590490e-01, -4.33668159e-02,\n",
              "       -1.39762059e-01, -4.43405546e-02,  4.83677268e-01, -2.80457586e-01,\n",
              "       -2.79930919e-01,  3.44519168e-01, -3.71341646e-01,  1.41324371e-01,\n",
              "        1.84870735e-01,  3.58639091e-01,  5.13863385e-01, -1.34476960e-01,\n",
              "        2.12412566e-01, -4.99149784e-02, -6.11465201e-02,  2.30060488e-01,\n",
              "       -2.37400293e-01,  6.31807894e-02, -2.50788212e-01, -1.28579617e-01,\n",
              "        4.45987463e-01,  2.65385985e-01, -5.15384972e-01, -2.17484236e-01,\n",
              "       -3.41649950e-01, -7.49558434e-02, -4.58353423e-02,  5.33466712e-02,\n",
              "       -9.99339521e-02, -9.25291851e-02, -2.59070396e-01, -4.27166730e-01,\n",
              "        1.87523767e-01,  1.03246242e-01,  5.97891688e-01,  5.32222204e-02,\n",
              "       -4.91669700e-02,  8.71939063e-02,  8.31155181e-02,  6.20798290e-01,\n",
              "        3.59997988e-01,  1.24253362e-01, -1.01397887e-01, -2.86920071e-01,\n",
              "        1.65449709e-01,  3.45356077e-01,  1.88805342e-01, -2.94834301e-02,\n",
              "        7.92980433e-01, -6.47666976e-02, -4.36827652e-02, -2.91256279e-01,\n",
              "        5.52211404e-01,  4.78114113e-02, -9.57236886e-02, -1.89646669e-02,\n",
              "        3.59584957e-01,  7.76696801e-02,  1.14242435e-01,  1.45876750e-01,\n",
              "        2.18296140e-01, -2.93840468e-01,  5.91839015e-01, -6.61794424e-01,\n",
              "       -1.70483530e-01,  1.84035808e-01, -2.81948179e-01,  1.01257771e-01,\n",
              "        1.24942921e-01, -1.10020185e+00,  1.95356950e-01,  2.86163576e-02,\n",
              "       -3.96232009e-01,  3.14093709e-01,  8.46053436e-02, -3.25043857e-01,\n",
              "       -2.87189245e-01, -1.73972994e-01, -1.84132218e-01,  6.28708959e-01,\n",
              "       -1.61280721e-01,  1.85111519e-02,  3.66025627e-01,  2.79913209e-02,\n",
              "       -3.16667169e-01,  1.64963961e-01, -8.58210996e-02,  5.86555265e-02,\n",
              "       -2.88226344e-02,  1.44932941e-01, -8.12104940e-02, -1.10829979e-01,\n",
              "       -1.11535996e-01, -6.54468775e-01,  9.38941389e-02, -3.77326667e-01,\n",
              "       -1.67817324e-01, -4.65443254e-01, -2.30899036e-01,  3.57577235e-01,\n",
              "        8.94256383e-02,  2.00001523e-03, -2.16421131e-02,  3.67380530e-01,\n",
              "       -3.83391157e-02,  6.43377960e-01,  1.39378250e-01, -2.64037549e-01,\n",
              "        6.03011027e-02,  4.85273540e-01,  8.00158441e-01, -1.50027722e-01,\n",
              "        2.23987192e-01,  4.91913676e-01, -2.56457508e-01,  4.44908112e-01,\n",
              "        1.46481827e-01,  1.68162808e-01, -1.59708619e-01,  1.29910141e-01,\n",
              "       -6.42391205e-01, -8.87446404e-02,  1.06860653e-01, -5.87012768e-01,\n",
              "       -4.55740362e-01, -2.97484815e-01,  3.53568077e-01,  1.36250541e-01,\n",
              "       -5.93183517e-01, -9.27518904e-01, -8.52394402e-02,  3.27021815e-02,\n",
              "       -2.33927235e-01,  3.36185768e-02,  4.25783277e-01,  4.47351560e-02,\n",
              "        9.14214849e-02, -6.35577291e-02, -5.26670575e-01,  4.26346332e-01,\n",
              "        2.13187844e-01,  1.53559253e-01,  8.11554119e-02,  4.86494839e-01,\n",
              "       -3.81337076e-01,  3.56846988e-01,  4.40970302e-01, -3.13927770e-01,\n",
              "        1.61980703e-01, -1.09876007e-01, -2.49644250e-01, -2.00083286e-01,\n",
              "       -9.38322321e-02, -2.02615291e-01, -5.42677343e-02,  1.35166705e-01,\n",
              "        2.24759251e-01,  1.23144671e-01, -1.33398843e+00,  2.79435813e-01,\n",
              "        6.61230981e-01,  1.04124106e-01,  1.84850678e-01,  5.26364446e-02,\n",
              "       -4.37912583e-01,  1.05573511e+00,  7.56740272e-02,  8.29874277e-02,\n",
              "       -4.28364784e-01, -9.62635130e-02,  9.77883935e-02, -6.83972239e-03,\n",
              "       -7.95404315e-02, -7.50645995e-04,  1.99461251e-01, -3.25501919e-01,\n",
              "        9.02448222e-03, -7.33540356e-02, -1.11423761e-01,  2.85278499e-01,\n",
              "        4.03629690e-02,  3.76738533e-02, -2.69579917e-01, -2.25142315e-01,\n",
              "       -2.50675023e-01,  7.43628860e-01, -8.22514668e-02,  2.31988758e-01,\n",
              "        6.93443045e-03,  2.34589092e-02, -3.43493134e-01, -4.12051260e-01,\n",
              "       -2.48673335e-01, -1.16596401e-01,  4.17326987e-01, -2.60448962e-01,\n",
              "        8.96841660e-03,  1.41843170e-01, -1.19799018e-01,  3.54014963e-01,\n",
              "        1.57124847e-01, -9.84666944e-02,  1.98609114e-01,  6.52972341e-01,\n",
              "       -1.17287010e-01,  3.58969033e-01,  1.84036091e-01, -6.57724321e-01,\n",
              "       -1.68790132e-01,  3.90224420e-02,  1.68709867e-02, -1.26319677e-02,\n",
              "        1.44606888e-01,  9.18513685e-02,  1.08372539e-01, -2.72010803e-01,\n",
              "       -3.84813040e-01, -4.39336419e-01,  1.99483365e-01, -3.00018489e-01,\n",
              "       -1.95273101e-01, -1.07511133e-02, -3.00360620e-01, -4.87475663e-01,\n",
              "        4.07538712e-01, -4.89409208e-01, -1.00949809e-01,  3.29563081e-01,\n",
              "        6.09464705e-01,  2.78972626e-01, -2.32356846e-01,  1.82832643e-01,\n",
              "       -5.44905722e-01,  2.18566373e-01,  2.82879978e-01,  6.83970749e-02,\n",
              "        1.75067663e-01, -1.30264327e-01, -1.00917749e-01, -3.40017170e-01,\n",
              "       -3.45439404e-01,  2.09047735e-01, -9.09791142e-03,  2.17029974e-01,\n",
              "       -4.82821837e-02,  1.25848502e-03, -2.74993837e-01, -2.67317623e-01,\n",
              "       -2.57352114e-01, -1.57670438e-01,  5.96014559e-01, -1.33558095e-01,\n",
              "       -1.93329453e-01,  8.95649418e-02,  2.57998824e-01,  2.82170922e-02,\n",
              "        7.81971961e-02,  4.22516502e-02, -3.84636261e-02,  4.13067818e-01,\n",
              "        2.52967864e-01,  1.63734481e-02, -1.32375523e-01,  3.09792757e-01,\n",
              "        3.46756339e-01, -8.93456936e-02, -4.93874669e-01, -3.84527862e-01,\n",
              "        1.53424352e-01,  8.65075961e-02, -3.54268134e-01, -3.25558633e-01,\n",
              "        4.06193167e-01, -1.56261250e-01,  4.06125039e-01, -2.50916243e-01,\n",
              "        2.19241261e+00,  6.72536254e-01,  2.89842755e-01, -1.44647598e-01,\n",
              "       -7.29213953e-02, -4.18439716e-01, -3.09008509e-01,  1.77364081e-01,\n",
              "       -1.17606021e-01,  3.46025169e-01, -2.60434806e-01,  1.42142057e-01,\n",
              "       -3.53010386e-01,  9.23699215e-02,  8.85908186e-01,  2.30887264e-01,\n",
              "       -5.42809069e-02, -7.11850896e-02, -5.30830860e-01, -5.40245473e-02,\n",
              "       -1.86948523e-01,  7.91621208e-01,  3.18921328e-01, -1.04792997e-01,\n",
              "        2.51786262e-01,  4.47499901e-01,  3.72594059e-01,  6.45800829e-02,\n",
              "        5.55333048e-02,  5.12876332e-01, -1.74061790e-01, -2.82218903e-02,\n",
              "        1.46696389e-01,  4.66120303e-01, -2.45228872e-01, -2.99765766e-02,\n",
              "       -1.43968940e-01, -3.85083884e-01, -4.36934084e-03,  1.86133459e-01,\n",
              "        4.21270251e-01, -7.17734277e-01,  4.38651085e-01,  2.74815172e-01,\n",
              "       -3.71493608e-01,  7.91657507e-01, -2.66143233e-01, -2.02325195e-01,\n",
              "        6.25406206e-02,  6.26182318e-01, -2.00545162e-01, -8.44605267e-02,\n",
              "       -1.51828527e-01, -1.01380721e-02, -1.39134854e-01, -1.74129218e-01,\n",
              "        1.14806131e-01, -1.17487207e-01, -3.88276339e-01,  2.59770632e-01,\n",
              "       -2.18162350e-02,  5.89721426e-02,  3.33535314e-01, -9.76070762e-02,\n",
              "       -9.33917388e-02,  2.83612274e-02, -4.60239649e-01,  1.34711444e-01,\n",
              "       -1.32002473e-01,  4.21054661e-03, -2.03262776e-01,  4.30969000e-01,\n",
              "        3.40268284e-01, -1.86905414e-01,  1.38955027e-01, -1.56165570e-01,\n",
              "        1.86416432e-01, -1.80732638e-01, -3.95995796e-01, -2.80160260e+00,\n",
              "        1.67652205e-01, -6.98487554e-03,  2.72873849e-01,  2.12077141e-01,\n",
              "        6.11927032e-01,  3.10870349e-01,  1.06027327e-01, -2.54817396e-01,\n",
              "       -1.14553310e-01,  2.79935151e-01,  1.13521606e-01,  4.83863622e-01,\n",
              "        5.10839581e-01,  4.12290633e-01,  1.33743793e-01,  2.39514738e-01,\n",
              "       -6.66135073e-01, -4.30057406e-01, -4.59989935e-01, -3.35749060e-01,\n",
              "        1.66198492e-01, -5.76993711e-02, -6.67710602e-01, -2.96067357e-01,\n",
              "        3.16695869e-01, -2.39116564e-01, -2.91121721e-01, -5.03610596e-02,\n",
              "        2.70444632e-01, -2.75133014e-01,  4.77625161e-01,  9.84992087e-02,\n",
              "       -1.76005483e-01,  2.66732611e-02, -2.37932771e-01, -1.76317900e-01,\n",
              "       -6.89050481e-02,  6.79007649e-01,  5.65327480e-02,  3.21860239e-02,\n",
              "        3.07814330e-01, -1.57579511e-01,  6.06266409e-03, -2.03945041e-01,\n",
              "       -2.68574476e-01, -1.65592834e-01, -7.59689808e-02,  2.57616431e-01,\n",
              "       -4.40980792e-01, -1.70526564e-01,  2.26018995e-01,  1.99267231e-02,\n",
              "        1.78807415e-03,  2.90678799e-01,  2.42151365e-01,  3.27600002e-01,\n",
              "        1.99031442e-01, -1.86538845e-01, -2.51885086e-01,  4.29254025e-03,\n",
              "        2.47526288e-01, -3.08892459e-01,  2.35304520e-01,  4.97440279e-01,\n",
              "        1.82053335e-02,  1.68633699e-01, -9.51239616e-02, -3.11215334e-02,\n",
              "       -1.29541323e-01, -5.42872369e-01, -5.74389845e-03, -9.22346264e-02,\n",
              "        1.74118549e-01,  4.69449222e-01,  1.03994176e-01,  4.40419763e-02,\n",
              "        1.92939281e-01,  1.24984473e-01, -8.01587030e-02,  1.63556740e-01,\n",
              "       -1.53917804e-01, -6.11836314e-01,  2.45246276e-01,  1.13512166e-02,\n",
              "       -7.32932758e+00,  8.61720741e-03, -3.08526188e-01, -2.83507824e-01,\n",
              "        3.53170633e-02,  3.44877988e-02, -9.75657851e-02, -2.91524917e-01,\n",
              "        2.48657152e-01,  1.59395009e-01,  3.06883510e-02, -4.30091694e-02,\n",
              "       -2.85249054e-01, -9.29001421e-02,  6.24639034e-01,  4.27498996e-01],\n",
              "      dtype=float32)>"
            ]
          },
          "metadata": {},
          "execution_count": 85
        }
      ],
      "source": [
        "encoder_output['sequence_output'][0][0]"
      ]
    },
    {
      "cell_type": "markdown",
      "metadata": {
        "id": "wSow0SA2VUgc"
      },
      "source": [
        "## **encoder_outputs** are the intermediate activations of the L Transformer blocks. outputs[\"encoder_outputs\"][i] is a Tensor of shape [batch_size, seq_length, H] with the outputs of the i-th Transformer block, for 0 <= i < L. The last value of the list is equal to sequence_output."
      ]
    },
    {
      "cell_type": "code",
      "execution_count": null,
      "metadata": {
        "colab": {
          "base_uri": "https://localhost:8080/"
        },
        "id": "SRMA_fsHWIc8",
        "outputId": "002818d9-efa2-42f1-e71a-fbfeca0d0f01"
      },
      "outputs": [
        {
          "output_type": "execute_result",
          "data": {
            "text/plain": [
              "<tf.Tensor: shape=(1, 128, 768), dtype=float32, numpy=\n",
              "array([[[-0.11928062, -0.17994747, -0.43276381, ...,  0.38110328,\n",
              "          0.08531247, -0.0486607 ],\n",
              "        [ 0.13117729,  0.14938203, -0.01590831, ..., -0.01273311,\n",
              "          0.04214494, -0.2355211 ],\n",
              "        [-0.5583645 , -0.6351034 ,  0.19882527, ...,  0.27039865,\n",
              "          0.20288013,  0.330382  ],\n",
              "        ...,\n",
              "        [-0.07337263, -0.41901815,  0.8468604 , ...,  1.2136645 ,\n",
              "         -0.4649717 , -0.0825286 ],\n",
              "        [-0.08730207, -0.3855874 ,  0.81720287, ...,  1.3039207 ,\n",
              "         -0.52225673, -0.22670738],\n",
              "        [-0.00192555, -0.47019008,  0.6596734 , ...,  1.6548862 ,\n",
              "         -0.71750766, -0.23823959]]], dtype=float32)>"
            ]
          },
          "metadata": {},
          "execution_count": 28
        }
      ],
      "source": [
        "encoder_output['encoder_outputs'][1]"
      ]
    },
    {
      "cell_type": "markdown",
      "metadata": {
        "id": "UjM7EEQJWijC"
      },
      "source": [
        "## Encoder output for last layer equals sequence output"
      ]
    },
    {
      "cell_type": "code",
      "execution_count": null,
      "metadata": {
        "colab": {
          "base_uri": "https://localhost:8080/"
        },
        "id": "y_5hik2xWZ6A",
        "outputId": "1b884263-8bc7-4295-d319-575acc3fa835"
      },
      "outputs": [
        {
          "output_type": "execute_result",
          "data": {
            "text/plain": [
              "<tf.Tensor: shape=(1, 128, 768), dtype=float32, numpy=\n",
              "array([[[-3.3577326e-01, -1.0569543e-01, -1.6116691e-01, ...,\n",
              "         -2.7213454e-01,  9.8831022e-01,  9.0782416e-01],\n",
              "        [ 1.0829307e-03, -2.9758978e-01, -4.5995674e-01, ...,\n",
              "         -8.6016156e-02,  1.3794137e+00, -5.5146016e-02],\n",
              "        [ 2.6117366e-02, -3.3422056e-01,  2.2623929e-01, ...,\n",
              "         -1.8393686e-01,  5.4771048e-01,  6.4975578e-01],\n",
              "        ...,\n",
              "        [-1.7558172e-01, -8.5478801e-01,  4.5054931e-02, ...,\n",
              "          5.8065701e-01,  3.8624433e-01, -2.3509446e-01],\n",
              "        [ 4.1395292e-02, -4.9673015e-01,  3.4354800e-01, ...,\n",
              "          5.9165454e-01,  2.0361429e-01, -2.0535322e-01],\n",
              "        [-2.0106214e-01, -9.0469825e-01,  1.8796402e-01, ...,\n",
              "          5.8163577e-01,  2.7740127e-01, -2.7108860e-01]]], dtype=float32)>"
            ]
          },
          "metadata": {},
          "execution_count": 29
        }
      ],
      "source": [
        "encoder_output['encoder_outputs'][11]  # this is same as sequence_output"
      ]
    },
    {
      "cell_type": "code",
      "execution_count": null,
      "metadata": {
        "colab": {
          "base_uri": "https://localhost:8080/"
        },
        "id": "eWNEzfozuLFE",
        "outputId": "5571f44b-21c4-4dc6-f974-6893f185aa2d"
      },
      "outputs": [
        {
          "output_type": "stream",
          "name": "stdout",
          "text": [
            "Model: \"model\"\n",
            "__________________________________________________________________________________________________\n",
            " Layer (type)                Output Shape                 Param #   Connected to                  \n",
            "==================================================================================================\n",
            " text (InputLayer)           [(None,)]                    0         []                            \n",
            "                                                                                                  \n",
            " keras_layer (KerasLayer)    {'input_type_ids': (None,    0         ['text[0][0]']                \n",
            "                             128),                                                                \n",
            "                              'input_word_ids': (None,                                            \n",
            "                             128),                                                                \n",
            "                              'input_mask': (None, 128)                                           \n",
            "                             }                                                                    \n",
            "                                                                                                  \n",
            " keras_layer_1 (KerasLayer)  {'pooled_output': (None, 7   1094822   ['keras_layer[0][0]',         \n",
            "                             68),                         41         'keras_layer[0][1]',         \n",
            "                              'sequence_output': (None,              'keras_layer[0][2]']         \n",
            "                              128, 768),                                                          \n",
            "                              'default': (None, 768),                                             \n",
            "                              'encoder_outputs': [(None                                           \n",
            "                             , 128, 768),                                                         \n",
            "                              (None, 128, 768),                                                   \n",
            "                              (None, 128, 768),                                                   \n",
            "                              (None, 128, 768),                                                   \n",
            "                              (None, 128, 768),                                                   \n",
            "                              (None, 128, 768),                                                   \n",
            "                              (None, 128, 768),                                                   \n",
            "                              (None, 128, 768),                                                   \n",
            "                              (None, 128, 768),                                                   \n",
            "                              (None, 128, 768),                                                   \n",
            "                              (None, 128, 768),                                                   \n",
            "                              (None, 128, 768)]}                                                  \n",
            "                                                                                                  \n",
            " dropout (Dropout)           (None, 768)                  0         ['keras_layer_1[0][13]']      \n",
            "                                                                                                  \n",
            " output (Dense)              (None, 5)                    3845      ['dropout[0][0]']             \n",
            "                                                                                                  \n",
            "==================================================================================================\n",
            "Total params: 109486086 (417.66 MB)\n",
            "Trainable params: 3845 (15.02 KB)\n",
            "Non-trainable params: 109482241 (417.64 MB)\n",
            "__________________________________________________________________________________________________\n"
          ]
        }
      ],
      "source": [
        "# BERT layers\n",
        "# functional models\n",
        "\n",
        "text_input = tf.keras.layers.Input(shape=(), dtype=tf.string, name='text')\n",
        "preprocessed_text = bert_preprocess(text_input)\n",
        "outputs = bert_encoder(preprocessed_text)\n",
        "\n",
        "l = tf.keras.layers.Dropout(0.1, name=\"dropout\")(outputs['pooled_output'])  # as our task is fine-tuning\n",
        "l = tf.keras.layers.Dense(num_classes, activation='softmax', name=\"output\")(l)\n",
        "\n",
        "model = tf.keras.Model(inputs=[text_input], outputs = [l])\n",
        "model.summary()"
      ]
    },
    {
      "cell_type": "code",
      "execution_count": null,
      "metadata": {
        "id": "M0WDkQvg4Jpv"
      },
      "outputs": [],
      "source": [
        "model.compile(optimizer='adam',\n",
        "               loss='categorical_crossentropy',\n",
        "              metrics=['accuracy'])"
      ]
    },
    {
      "cell_type": "code",
      "execution_count": null,
      "metadata": {
        "colab": {
          "base_uri": "https://localhost:8080/"
        },
        "id": "HQmXneQY416L",
        "outputId": "c8a8abc8-e59c-4439-e947-0d9148a429ce"
      },
      "outputs": [
        {
          "output_type": "stream",
          "name": "stdout",
          "text": [
            "Epoch 1/7\n",
            "53/53 [==============================] - 29s 338ms/step - loss: 1.5015 - accuracy: 0.3633\n",
            "Epoch 2/7\n",
            "53/53 [==============================] - 18s 341ms/step - loss: 1.2191 - accuracy: 0.5570\n",
            "Epoch 3/7\n",
            "53/53 [==============================] - 19s 355ms/step - loss: 1.0337 - accuracy: 0.7038\n",
            "Epoch 4/7\n",
            "53/53 [==============================] - 19s 364ms/step - loss: 0.9129 - accuracy: 0.7560\n",
            "Epoch 5/7\n",
            "53/53 [==============================] - 19s 361ms/step - loss: 0.8109 - accuracy: 0.7998\n",
            "Epoch 6/7\n",
            "53/53 [==============================] - 19s 365ms/step - loss: 0.7231 - accuracy: 0.8291\n",
            "Epoch 7/7\n",
            "53/53 [==============================] - 19s 359ms/step - loss: 0.6569 - accuracy: 0.8555\n"
          ]
        }
      ],
      "source": [
        "history = model.fit(X_train, Y_train, epochs = 7)"
      ]
    },
    {
      "cell_type": "code",
      "execution_count": null,
      "metadata": {
        "id": "YdOkd9sL5rmR"
      },
      "outputs": [],
      "source": []
    },
    {
      "cell_type": "code",
      "execution_count": null,
      "metadata": {
        "colab": {
          "base_uri": "https://localhost:8080/"
        },
        "id": "zj_g8Q1N-HfV",
        "outputId": "d009a204-98d9-496b-9a24-22ab9bf3b926"
      },
      "outputs": [
        {
          "output_type": "stream",
          "name": "stdout",
          "text": [
            "18/18 [==============================] - 7s 367ms/step - loss: 0.6618 - accuracy: 0.8564\n"
          ]
        },
        {
          "output_type": "execute_result",
          "data": {
            "text/plain": [
              "[0.6617609262466431, 0.8563734292984009]"
            ]
          },
          "metadata": {},
          "execution_count": 33
        }
      ],
      "source": [
        "model.evaluate(X_test, Y_test)"
      ]
    },
    {
      "cell_type": "code",
      "execution_count": null,
      "metadata": {
        "id": "SmEC6c8t-WX2",
        "colab": {
          "base_uri": "https://localhost:8080/"
        },
        "outputId": "d2439264-aa04-4033-dd8e-17bbf5c7b99d"
      },
      "outputs": [
        {
          "output_type": "stream",
          "name": "stdout",
          "text": [
            "18/18 [==============================] - 7s 332ms/step\n"
          ]
        },
        {
          "output_type": "execute_result",
          "data": {
            "text/plain": [
              "array([[0.01556203, 0.12366281, 0.02264808, 0.8257449 , 0.01238224],\n",
              "       [0.36798853, 0.04152415, 0.33346498, 0.02518967, 0.2318327 ],\n",
              "       [0.15122233, 0.10506303, 0.08066668, 0.13786286, 0.5251851 ],\n",
              "       ...,\n",
              "       [0.04294531, 0.31921303, 0.07855722, 0.52625364, 0.03303074],\n",
              "       [0.02106411, 0.63245046, 0.0616404 , 0.0532679 , 0.23157707],\n",
              "       [0.1317269 , 0.03183733, 0.13036029, 0.00613348, 0.69994205]],\n",
              "      dtype=float32)"
            ]
          },
          "metadata": {},
          "execution_count": 34
        }
      ],
      "source": [
        "model.predict(X_test)"
      ]
    },
    {
      "cell_type": "code",
      "source": [
        "Y_test"
      ],
      "metadata": {
        "colab": {
          "base_uri": "https://localhost:8080/"
        },
        "id": "2rDS617ynQcs",
        "outputId": "0064924f-7d62-4992-cdb4-b8b24a5b4849"
      },
      "execution_count": null,
      "outputs": [
        {
          "output_type": "execute_result",
          "data": {
            "text/plain": [
              "array([[0., 0., 0., 1., 0.],\n",
              "       [0., 0., 1., 0., 0.],\n",
              "       [0., 0., 0., 0., 1.],\n",
              "       ...,\n",
              "       [0., 0., 0., 1., 0.],\n",
              "       [0., 1., 0., 0., 0.],\n",
              "       [0., 0., 0., 0., 1.]], dtype=float32)"
            ]
          },
          "metadata": {},
          "execution_count": 35
        }
      ]
    },
    {
      "cell_type": "code",
      "execution_count": null,
      "metadata": {
        "id": "iE8k_I9s9G8j"
      },
      "outputs": [],
      "source": []
    }
  ],
  "metadata": {
    "accelerator": "GPU",
    "colab": {
      "provenance": [],
      "authorship_tag": "ABX9TyOqaMD9NvVwbvYRraiZbMA2",
      "include_colab_link": true
    },
    "kernelspec": {
      "display_name": "Python 3",
      "name": "python3"
    },
    "language_info": {
      "name": "python"
    }
  },
  "nbformat": 4,
  "nbformat_minor": 0
}